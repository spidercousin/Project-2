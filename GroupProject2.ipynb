{
 "cells": [
  {
   "cell_type": "markdown",
   "metadata": {},
   "source": [
    "# **SmartPrice Navigator: Predictive Housing Market Analysis**\n",
    "This notebook demonstrates the step-by-step creation of a machine learning model to predict housing prices using historical housing market data from the ATTOM API. The goal is to provide actionable insights for buyers and sellers based on real estate attributes.\n",
    "\n",
    "---\n"
   ]
  },
  {
   "cell_type": "markdown",
   "metadata": {},
   "source": [
    "# Import Libraries\n",
    "In this section, we import the necessary libraries for data handling, visualization, and model building."
   ]
  },
  {
   "cell_type": "code",
   "execution_count": 1,
   "metadata": {},
   "outputs": [
    {
     "name": "stdout",
     "output_type": "stream",
     "text": [
      "Requirement already satisfied: python-dotenv in c:\\users\\reish\\anaconda\\envs\\dev\\lib\\site-packages (1.0.1)\n",
      "Note: you may need to restart the kernel to use updated packages.\n"
     ]
    }
   ],
   "source": [
    "# Import libraries for data handling, visualization, and model building.\n",
    "%pip install python-dotenv\n",
    "\n",
    "import numpy as np\n",
    "import matplotlib.pyplot as plt\n",
    "import seaborn as sns\n",
    "from sklearn.metrics import accuracy_score, classification_report\n",
    "from sklearn.linear_model import LogisticRegression\n",
    "from sklearn.ensemble import RandomForestClassifier"
   ]
  },
  {
   "cell_type": "code",
   "execution_count": 5,
   "metadata": {},
   "outputs": [
    {
     "name": "stdout",
     "output_type": "stream",
     "text": [
      "environ({'ALLUSERSPROFILE': 'C:\\\\ProgramData', 'APPDATA': 'C:\\\\Users\\\\ReisH\\\\AppData\\\\Roaming', 'ASW_SERVER_STATE': '1', 'CHROME_CRASHPAD_PIPE_NAME': '\\\\\\\\.\\\\pipe\\\\crashpad_21160_RYBAZCBPDDWOVISD', 'CHROME_RESTART': 'Google Chrome|Whoa! Google Chrome has crashed. Relaunch now?|LEFT_TO_RIGHT', 'COMMONPROGRAMFILES': 'C:\\\\Program Files\\\\Common Files', 'COMMONPROGRAMFILES(X86)': 'C:\\\\Program Files (x86)\\\\Common Files', 'COMMONPROGRAMW6432': 'C:\\\\Program Files\\\\Common Files', 'COMPUTERNAME': 'DOOBLES', 'COMSPEC': 'C:\\\\windows\\\\system32\\\\cmd.exe', 'CONDA_ALLOW_SOFTLINKS': 'false', 'CONDA_DEFAULT_ENV': 'dev', 'CONDA_EXE': 'C:\\\\Users\\\\ReisH\\\\anaconda\\\\Scripts\\\\conda.exe', 'CONDA_EXES': '\"C:\\\\Users\\\\ReisH\\\\anaconda\\\\condabin\\\\..\\\\Scripts\\\\conda.exe\"  ', 'CONDA_PREFIX': 'C:\\\\Users\\\\ReisH\\\\anaconda\\\\envs\\\\dev', 'CONDA_PROMPT_MODIFIER': '(dev) ', 'CONDA_PYTHON_EXE': 'C:\\\\Users\\\\ReisH\\\\anaconda\\\\python.exe', 'CONDA_ROOT': 'C:\\\\Users\\\\ReisH\\\\anaconda', 'CONDA_SHLVL': '1', 'DRIVERDATA': 'C:\\\\Windows\\\\System32\\\\Drivers\\\\DriverData', 'EFC_8980': '1', 'ELECTRON_NO_ATTACH_CONSOLE': '1', 'ELECTRON_RUN_AS_NODE': '1', 'FPS_BROWSER_APP_PROFILE_STRING': 'Internet Explorer', 'FPS_BROWSER_USER_PROFILE_STRING': 'Default', 'HOMEDRIVE': 'C:', 'HOMEPATH': '\\\\Users\\\\ReisH', 'JPY_INTERRUPT_EVENT': '1368', 'LOCALAPPDATA': 'C:\\\\Users\\\\ReisH\\\\AppData\\\\Local', 'LOCAL_GIT_DIRECTORY': 'C:\\\\Users\\\\ReisH\\\\AppData\\\\Local\\\\GitHubDesktop\\\\app-3.4.8\\\\resources\\\\app\\\\git', 'LOGONSERVER': '\\\\\\\\DOOBLES', 'NUMBER_OF_PROCESSORS': '4', 'ONEDRIVE': 'C:\\\\Users\\\\ReisH\\\\OneDrive', 'ONEDRIVECONSUMER': 'C:\\\\Users\\\\ReisH\\\\OneDrive', 'ONLINESERVICES': 'Online Services', 'ORIGINAL_XDG_CURRENT_DESKTOP': 'undefined', 'OS': 'Windows_NT', 'PATH': 'c:\\\\Users\\\\ReisH\\\\anaconda\\\\envs\\\\dev;C:\\\\Users\\\\ReisH\\\\anaconda\\\\envs\\\\dev;C:\\\\Users\\\\ReisH\\\\anaconda\\\\envs\\\\dev\\\\Library\\\\mingw-w64\\\\bin;C:\\\\Users\\\\ReisH\\\\anaconda\\\\envs\\\\dev\\\\Library\\\\usr\\\\bin;C:\\\\Users\\\\ReisH\\\\anaconda\\\\envs\\\\dev\\\\Library\\\\bin;C:\\\\Users\\\\ReisH\\\\anaconda\\\\envs\\\\dev\\\\Scripts;C:\\\\Users\\\\ReisH\\\\anaconda\\\\envs\\\\dev\\\\bin;C:\\\\Users\\\\ReisH\\\\anaconda\\\\condabin;C:\\\\Program Files\\\\Google\\\\Chrome\\\\Application;C:\\\\windows\\\\system32;C:\\\\windows;C:\\\\windows\\\\System32\\\\Wbem;C:\\\\windows\\\\System32\\\\WindowsPowerShell\\\\v1.0;C:\\\\windows\\\\System32\\\\OpenSSH;C:\\\\Program Files\\\\HP\\\\HP One Agent;C:\\\\Program Files\\\\Git\\\\cmd;C:\\\\Users\\\\ReisH\\\\anaconda;C:\\\\Users\\\\ReisH\\\\anaconda\\\\Library\\\\mingw-w64\\\\bin;C:\\\\Users\\\\ReisH\\\\anaconda\\\\Library\\\\usr\\\\bin;C:\\\\Users\\\\ReisH\\\\anaconda\\\\Library\\\\bin;C:\\\\Users\\\\ReisH\\\\anaconda\\\\Scripts;C:\\\\Users\\\\ReisH\\\\AppData\\\\Local\\\\Programs\\\\Python\\\\Python312\\\\Scripts;C:\\\\Users\\\\ReisH\\\\AppData\\\\Local\\\\Programs\\\\Python\\\\Python312;C:\\\\Users\\\\ReisH\\\\AppData\\\\Local\\\\Programs\\\\Python\\\\Launcher;C:\\\\Users\\\\ReisH\\\\AppData\\\\Local\\\\Microsoft\\\\WindowsApps;C:\\\\Users\\\\ReisH\\\\AppData\\\\Local\\\\Programs\\\\Microsoft VS Code\\\\bin;C:\\\\Users\\\\ReisH\\\\AppData\\\\Local\\\\GitHubDesktop\\\\bin;C:\\\\Users\\\\ReisH\\\\AppData\\\\Local\\\\gitkraken\\\\bin', 'PATHEXT': '.COM;.EXE;.BAT;.CMD;.VBS;.VBE;.JS;.JSE;.WSF;.WSH;.MSC', 'PLATFORMCODE': 'KV', 'PROCESSOR_ARCHITECTURE': 'AMD64', 'PROCESSOR_IDENTIFIER': 'Intel64 Family 6 Model 156 Stepping 0, GenuineIntel', 'PROCESSOR_LEVEL': '6', 'PROCESSOR_REVISION': '9c00', 'PROGRAMDATA': 'C:\\\\ProgramData', 'PROGRAMFILES': 'C:\\\\Program Files', 'PROGRAMFILES(X86)': 'C:\\\\Program Files (x86)', 'PROGRAMW6432': 'C:\\\\Program Files', 'PROMPT': '(dev) $P$G', 'PSMODULEPATH': 'C:\\\\Program Files\\\\WindowsPowerShell\\\\Modules;C:\\\\windows\\\\system32\\\\WindowsPowerShell\\\\v1.0\\\\Modules', 'PUBLIC': 'C:\\\\Users\\\\Public', 'PYDEVD_IPYTHON_COMPATIBLE_DEBUGGING': '1', 'PYTHONIOENCODING': 'utf-8', 'PYTHONUNBUFFERED': '1', 'PYTHONUTF8': '1', 'PYTHON_FROZEN_MODULES': 'on', 'REGIONCODE': 'NA', 'SESSIONNAME': 'Console', 'SSLKEYLOGFILE': '\\\\\\\\.\\\\aswMonFltProxy\\\\FFFFE78273BDCD00', 'SSL_CERT_FILE': 'C:\\\\Users\\\\ReisH\\\\anaconda\\\\envs\\\\dev\\\\Library\\\\ssl\\\\cacert.pem', 'SYSTEMDRIVE': 'C:', 'SYSTEMROOT': 'C:\\\\windows', 'TEMP': 'C:\\\\Users\\\\ReisH\\\\AppData\\\\Local\\\\Temp', 'TMP': 'C:\\\\Users\\\\ReisH\\\\AppData\\\\Local\\\\Temp', 'USERDOMAIN': 'DOOBLES', 'USERDOMAIN_ROAMINGPROFILE': 'DOOBLES', 'USERNAME': 'ReisH', 'USERPROFILE': 'C:\\\\Users\\\\ReisH', 'VSCODE_CLI': '1', 'VSCODE_CODE_CACHE_PATH': 'C:\\\\Users\\\\ReisH\\\\AppData\\\\Roaming\\\\Code\\\\CachedData\\\\f1a4fb101478ce6ec82fe9627c43efbf9e98c813', 'VSCODE_CRASH_REPORTER_PROCESS_TYPE': 'extensionHost', 'VSCODE_CWD': 'C:\\\\Windows\\\\System32', 'VSCODE_ESM_ENTRYPOINT': 'vs/workbench/api/node/extensionHostProcess', 'VSCODE_HANDLES_UNCAUGHT_ERRORS': 'true', 'VSCODE_IPC_HOOK': '\\\\\\\\.\\\\pipe\\\\edfdfc6d-1.95.3-main-sock', 'VSCODE_NLS_CONFIG': '{\"userLocale\":\"en-us\",\"osLocale\":\"en-us\",\"resolvedLanguage\":\"en\",\"defaultMessagesFile\":\"C:\\\\\\\\Users\\\\\\\\ReisH\\\\\\\\AppData\\\\\\\\Local\\\\\\\\Programs\\\\\\\\Microsoft VS Code\\\\\\\\resources\\\\\\\\app\\\\\\\\out\\\\\\\\nls.messages.json\",\"locale\":\"en-us\",\"availableLanguages\":{}}', 'VSCODE_PID': '21160', 'WINDIR': 'C:\\\\windows', 'ZES_ENABLE_SYSMAN': '1', '_CONDA_OLD_CHCP': '437', '__CONDA_OPENSLL_CERT_FILE_SET': '\"1\"', '__PSLOCKDOWNPOLICY': '0', 'PYDEVD_USE_FRAME_EVAL': 'NO', 'TERM': 'xterm-color', 'CLICOLOR': '1', 'FORCE_COLOR': '1', 'CLICOLOR_FORCE': '1', 'PAGER': 'cat', 'GIT_PAGER': 'cat', 'MPLBACKEND': 'module://matplotlib_inline.backend_inline', 'KMP_DUPLICATE_LIB_OK': 'True', 'KMP_INIT_AT_FORK': 'FALSE'})\n",
      "None\n"
     ]
    }
   ],
   "source": [
    "# Load the ATTOM API data from the ATTOM API website. \n",
    "# The data is stored at https://www.attomdata.com/\n",
    "\n",
    "# Load the API key for the ATTOM API from the localkeys.env file.\n",
    "import os\n",
    "from dotenv import load_dotenv\n",
    "load_dotenv('C:\\\\Users\\\\ReisH\\\\anaconda\\\\envs\\\\dev')\n",
    "ATTOM_API_KEY=(\"ec83bdb94ce2322466b65581559fc46d\")\n",
    "\n",
    "print(os.environ)\n",
    "\n",
    "\n",
    "attom_api_key = os.getenv(\"ATTOM_API_KEY\")\n",
    "print(attom_api_key)"
   ]
  },
  {
   "cell_type": "code",
   "execution_count": 15,
   "metadata": {},
   "outputs": [
    {
     "data": {
      "text/plain": [
       "True"
      ]
     },
     "execution_count": 15,
     "metadata": {},
     "output_type": "execute_result"
    }
   ],
   "source": [
    "load_dotenv(r\"C:\\Users\\ReisH\\OneDrive\\Desktop\\Project-2\\local_keys.env\")"
   ]
  },
  {
   "cell_type": "code",
   "execution_count": 16,
   "metadata": {},
   "outputs": [
    {
     "name": "stdout",
     "output_type": "stream",
     "text": [
      "ATTOM_API_KEY loaded successfully.\n",
      "ec83bdb94ce2322466b65581559fc46d\n",
      "ALLUSERSPROFILE: C:\\ProgramData\n",
      "APPDATA: C:\\Users\\ReisH\\AppData\\Roaming\n",
      "ASW_SERVER_STATE: 1\n",
      "CHROME_CRASHPAD_PIPE_NAME: \\\\.\\pipe\\crashpad_21160_RYBAZCBPDDWOVISD\n",
      "CHROME_RESTART: Google Chrome|Whoa! Google Chrome has crashed. Relaunch now?|LEFT_TO_RIGHT\n",
      "COMMONPROGRAMFILES: C:\\Program Files\\Common Files\n",
      "COMMONPROGRAMFILES(X86): C:\\Program Files (x86)\\Common Files\n",
      "COMMONPROGRAMW6432: C:\\Program Files\\Common Files\n",
      "COMPUTERNAME: DOOBLES\n",
      "COMSPEC: C:\\windows\\system32\\cmd.exe\n",
      "CONDA_ALLOW_SOFTLINKS: false\n",
      "CONDA_DEFAULT_ENV: dev\n",
      "CONDA_EXE: C:\\Users\\ReisH\\anaconda\\Scripts\\conda.exe\n",
      "CONDA_EXES: \"C:\\Users\\ReisH\\anaconda\\condabin\\..\\Scripts\\conda.exe\"  \n",
      "CONDA_PREFIX: C:\\Users\\ReisH\\anaconda\\envs\\dev\n",
      "CONDA_PROMPT_MODIFIER: (dev) \n",
      "CONDA_PYTHON_EXE: C:\\Users\\ReisH\\anaconda\\python.exe\n",
      "CONDA_ROOT: C:\\Users\\ReisH\\anaconda\n",
      "CONDA_SHLVL: 1\n",
      "DRIVERDATA: C:\\Windows\\System32\\Drivers\\DriverData\n",
      "EFC_8980: 1\n",
      "ELECTRON_NO_ATTACH_CONSOLE: 1\n",
      "ELECTRON_RUN_AS_NODE: 1\n",
      "FPS_BROWSER_APP_PROFILE_STRING: Internet Explorer\n",
      "FPS_BROWSER_USER_PROFILE_STRING: Default\n",
      "HOMEDRIVE: C:\n",
      "HOMEPATH: \\Users\\ReisH\n",
      "JPY_INTERRUPT_EVENT: 1368\n",
      "LOCALAPPDATA: C:\\Users\\ReisH\\AppData\\Local\n",
      "LOCAL_GIT_DIRECTORY: C:\\Users\\ReisH\\AppData\\Local\\GitHubDesktop\\app-3.4.8\\resources\\app\\git\n",
      "LOGONSERVER: \\\\DOOBLES\n",
      "NUMBER_OF_PROCESSORS: 4\n",
      "ONEDRIVE: C:\\Users\\ReisH\\OneDrive\n",
      "ONEDRIVECONSUMER: C:\\Users\\ReisH\\OneDrive\n",
      "ONLINESERVICES: Online Services\n",
      "ORIGINAL_XDG_CURRENT_DESKTOP: undefined\n",
      "OS: Windows_NT\n",
      "PATH: c:\\Users\\ReisH\\anaconda\\envs\\dev;C:\\Users\\ReisH\\anaconda\\envs\\dev;C:\\Users\\ReisH\\anaconda\\envs\\dev\\Library\\mingw-w64\\bin;C:\\Users\\ReisH\\anaconda\\envs\\dev\\Library\\usr\\bin;C:\\Users\\ReisH\\anaconda\\envs\\dev\\Library\\bin;C:\\Users\\ReisH\\anaconda\\envs\\dev\\Scripts;C:\\Users\\ReisH\\anaconda\\envs\\dev\\bin;C:\\Users\\ReisH\\anaconda\\condabin;C:\\Program Files\\Google\\Chrome\\Application;C:\\windows\\system32;C:\\windows;C:\\windows\\System32\\Wbem;C:\\windows\\System32\\WindowsPowerShell\\v1.0;C:\\windows\\System32\\OpenSSH;C:\\Program Files\\HP\\HP One Agent;C:\\Program Files\\Git\\cmd;C:\\Users\\ReisH\\anaconda;C:\\Users\\ReisH\\anaconda\\Library\\mingw-w64\\bin;C:\\Users\\ReisH\\anaconda\\Library\\usr\\bin;C:\\Users\\ReisH\\anaconda\\Library\\bin;C:\\Users\\ReisH\\anaconda\\Scripts;C:\\Users\\ReisH\\AppData\\Local\\Programs\\Python\\Python312\\Scripts;C:\\Users\\ReisH\\AppData\\Local\\Programs\\Python\\Python312;C:\\Users\\ReisH\\AppData\\Local\\Programs\\Python\\Launcher;C:\\Users\\ReisH\\AppData\\Local\\Microsoft\\WindowsApps;C:\\Users\\ReisH\\AppData\\Local\\Programs\\Microsoft VS Code\\bin;C:\\Users\\ReisH\\AppData\\Local\\GitHubDesktop\\bin;C:\\Users\\ReisH\\AppData\\Local\\gitkraken\\bin\n",
      "PATHEXT: .COM;.EXE;.BAT;.CMD;.VBS;.VBE;.JS;.JSE;.WSF;.WSH;.MSC\n",
      "PLATFORMCODE: KV\n",
      "PROCESSOR_ARCHITECTURE: AMD64\n",
      "PROCESSOR_IDENTIFIER: Intel64 Family 6 Model 156 Stepping 0, GenuineIntel\n",
      "PROCESSOR_LEVEL: 6\n",
      "PROCESSOR_REVISION: 9c00\n",
      "PROGRAMDATA: C:\\ProgramData\n",
      "PROGRAMFILES: C:\\Program Files\n",
      "PROGRAMFILES(X86): C:\\Program Files (x86)\n",
      "PROGRAMW6432: C:\\Program Files\n",
      "PROMPT: (dev) $P$G\n",
      "PSMODULEPATH: C:\\Program Files\\WindowsPowerShell\\Modules;C:\\windows\\system32\\WindowsPowerShell\\v1.0\\Modules\n",
      "PUBLIC: C:\\Users\\Public\n",
      "PYDEVD_IPYTHON_COMPATIBLE_DEBUGGING: 1\n",
      "PYTHONIOENCODING: utf-8\n",
      "PYTHONUNBUFFERED: 1\n",
      "PYTHONUTF8: 1\n",
      "PYTHON_FROZEN_MODULES: on\n",
      "REGIONCODE: NA\n",
      "SESSIONNAME: Console\n",
      "SSLKEYLOGFILE: \\\\.\\aswMonFltProxy\\FFFFE78273BDCD00\n",
      "SSL_CERT_FILE: C:\\Users\\ReisH\\anaconda\\envs\\dev\\Library\\ssl\\cacert.pem\n",
      "SYSTEMDRIVE: C:\n",
      "SYSTEMROOT: C:\\windows\n",
      "TEMP: C:\\Users\\ReisH\\AppData\\Local\\Temp\n",
      "TMP: C:\\Users\\ReisH\\AppData\\Local\\Temp\n",
      "USERDOMAIN: DOOBLES\n",
      "USERDOMAIN_ROAMINGPROFILE: DOOBLES\n",
      "USERNAME: ReisH\n",
      "USERPROFILE: C:\\Users\\ReisH\n",
      "VSCODE_CLI: 1\n",
      "VSCODE_CODE_CACHE_PATH: C:\\Users\\ReisH\\AppData\\Roaming\\Code\\CachedData\\f1a4fb101478ce6ec82fe9627c43efbf9e98c813\n",
      "VSCODE_CRASH_REPORTER_PROCESS_TYPE: extensionHost\n",
      "VSCODE_CWD: C:\\Windows\\System32\n",
      "VSCODE_ESM_ENTRYPOINT: vs/workbench/api/node/extensionHostProcess\n",
      "VSCODE_HANDLES_UNCAUGHT_ERRORS: true\n",
      "VSCODE_IPC_HOOK: \\\\.\\pipe\\edfdfc6d-1.95.3-main-sock\n",
      "VSCODE_NLS_CONFIG: {\"userLocale\":\"en-us\",\"osLocale\":\"en-us\",\"resolvedLanguage\":\"en\",\"defaultMessagesFile\":\"C:\\\\Users\\\\ReisH\\\\AppData\\\\Local\\\\Programs\\\\Microsoft VS Code\\\\resources\\\\app\\\\out\\\\nls.messages.json\",\"locale\":\"en-us\",\"availableLanguages\":{}}\n",
      "VSCODE_PID: 21160\n",
      "WINDIR: C:\\windows\n",
      "ZES_ENABLE_SYSMAN: 1\n",
      "_CONDA_OLD_CHCP: 437\n",
      "__CONDA_OPENSLL_CERT_FILE_SET: \"1\"\n",
      "__PSLOCKDOWNPOLICY: 0\n",
      "PYDEVD_USE_FRAME_EVAL: NO\n",
      "TERM: xterm-color\n",
      "CLICOLOR: 1\n",
      "FORCE_COLOR: 1\n",
      "CLICOLOR_FORCE: 1\n",
      "PAGER: cat\n",
      "GIT_PAGER: cat\n",
      "MPLBACKEND: module://matplotlib_inline.backend_inline\n",
      "KMP_DUPLICATE_LIB_OK: True\n",
      "KMP_INIT_AT_FORK: FALSE\n",
      "ATTOM_API_KEY: ec83bdb94ce2322466b65581559fc46d\n"
     ]
    }
   ],
   "source": [
    "import os\n",
    "from dotenv import load_dotenv\n",
    "\n",
    "# Load environment variables from the .env file\n",
    "load_dotenv()\n",
    "\n",
    "# Check if the variable is set correctly\n",
    "attom_api_key = os.getenv(\"ATTOM_API_KEY\")\n",
    "if attom_api_key is None:\n",
    "    print(\"ATTOM_API_KEY is not set. Please check your .env file.\")\n",
    "else:\n",
    "    print(\"ATTOM_API_KEY loaded successfully.\")\n",
    "\n",
    "    attom_api_key = \"ec83bdb94ce2322466b65581559fc46d\"  # Replace with your actual API key\n",
    "print(attom_api_key)\n",
    "load_dotenv('path/to/your/.env')\n",
    "\n",
    "import os\n",
    "from dotenv import load_dotenv\n",
    "\n",
    "# Load environment variables from the .env file\n",
    "load_dotenv()\n",
    "\n",
    "# Print all environment variables\n",
    "for key, value in os.environ.items():\n",
    "    print(f\"{key}: {value}\")"
   ]
  },
  {
   "cell_type": "code",
   "execution_count": 3,
   "metadata": {},
   "outputs": [
    {
     "name": "stdout",
     "output_type": "stream",
     "text": [
      "   RegionID  SizeRank       RegionName RegionType StateName  2018-03-31  \\\n",
      "0    102001         0    United States    country       NaN   1421530.0   \n",
      "1    394913         1     New York, NY        msa        NY     73707.0   \n",
      "2    753899         2  Los Angeles, CA        msa        CA     21998.0   \n",
      "3    394463         3      Chicago, IL        msa        IL     38581.0   \n",
      "4    394514         4       Dallas, TX        msa        TX     24043.0   \n",
      "\n",
      "   2018-04-30  2018-05-31  2018-06-30  2018-07-31  ...  2024-01-31  \\\n",
      "0   1500196.0   1592417.0   1660615.0   1709144.0  ...    890491.0   \n",
      "1     80345.0     85864.0     90067.0     91881.0  ...     36461.0   \n",
      "2     23784.0     25605.0     27109.0     28811.0  ...     14058.0   \n",
      "3     42253.0     45757.0     47492.0     48984.0  ...     19092.0   \n",
      "4     25876.0     28225.0     30490.0     32408.0  ...     21664.0   \n",
      "\n",
      "   2024-02-29  2024-03-31  2024-04-30  2024-05-31  2024-06-30  2024-07-31  \\\n",
      "0    876361.0    913841.0    967480.0   1036855.0   1101144.0   1149668.0   \n",
      "1     34858.0     36244.0     38666.0     41641.0     43847.0     44838.0   \n",
      "2     13754.0     14572.0     15567.0     16977.0     18457.0     19823.0   \n",
      "3     18342.0     19059.0     20389.0     21782.0     23134.0     24180.0   \n",
      "4     21401.0     22537.0     24388.0     26468.0     28696.0     30378.0   \n",
      "\n",
      "   2024-08-31  2024-09-30  2024-10-31  \n",
      "0   1173406.0   1180162.0   1181190.0  \n",
      "1     43767.0     42694.0     41774.0  \n",
      "2     20703.0     21328.0     21589.0  \n",
      "3     24779.0     25144.0     25409.0  \n",
      "4     31631.0     31774.0     31776.0  \n",
      "\n",
      "[5 rows x 85 columns]\n",
      "   RegionID  SizeRank       RegionName RegionType StateName  2018-01-31  \\\n",
      "0    102001         0    United States    country       NaN        49.0   \n",
      "1    394913         1     New York, NY        msa        NY        52.0   \n",
      "2    753899         2  Los Angeles, CA        msa        CA        68.0   \n",
      "3    394463         3      Chicago, IL        msa        IL        48.0   \n",
      "4    394514         4       Dallas, TX        msa        TX        55.0   \n",
      "\n",
      "   2018-02-28  2018-03-31  2018-04-30  2018-05-31  ...  2024-01-31  \\\n",
      "0        50.0        52.0        54.0        55.0  ...        59.0   \n",
      "1        52.0        55.0        56.0        55.0  ...        85.0   \n",
      "2        66.0        65.0        66.0        66.0  ...        81.0   \n",
      "3        49.0        51.0        52.0        51.0  ...        68.0   \n",
      "4        55.0        58.0        60.0        59.0  ...        66.0   \n",
      "\n",
      "   2024-02-29  2024-03-31  2024-04-30  2024-05-31  2024-06-30  2024-07-31  \\\n",
      "0        63.0        63.0        62.0        59.0        57.0        55.0   \n",
      "1        91.0        89.0        86.0        81.0        77.0        76.0   \n",
      "2        84.0        83.0        80.0        74.0        70.0        67.0   \n",
      "3        74.0        76.0        75.0        71.0        67.0        64.0   \n",
      "4        67.0        67.0        65.0        59.0        55.0        51.0   \n",
      "\n",
      "   2024-08-31  2024-09-30  2024-10-31  \n",
      "0        53.0        52.0        50.0  \n",
      "1        76.0        73.0        69.0  \n",
      "2        65.0        62.0        61.0  \n",
      "3        61.0        58.0        56.0  \n",
      "4        49.0        48.0        48.0  \n",
      "\n",
      "[5 rows x 87 columns]\n",
      "   RegionID  SizeRank       RegionName RegionType StateName  2018-03-31  \\\n",
      "0    102001         0    United States    country       NaN        51.0   \n",
      "1    394913         1     New York, NY        msa        NY        68.0   \n",
      "2    753899         2  Los Angeles, CA        msa        CA        35.0   \n",
      "3    394463         3      Chicago, IL        msa        IL        51.0   \n",
      "4    394514         4       Dallas, TX        msa        TX        46.0   \n",
      "\n",
      "   2018-04-30  2018-05-31  2018-06-30  2018-07-31  ...  2024-01-31  \\\n",
      "0        48.0        45.0        43.0        44.0  ...        49.0   \n",
      "1        65.0        63.0        64.0        66.0  ...        68.0   \n",
      "2        32.0        31.0        32.0        33.0  ...        40.0   \n",
      "3        44.0        40.0        39.0        40.0  ...        42.0   \n",
      "4        42.0        38.0        37.0        38.0  ...        51.0   \n",
      "\n",
      "   2024-02-29  2024-03-31  2024-04-30  2024-05-31  2024-06-30  2024-07-31  \\\n",
      "0        52.0        49.0        43.0        39.0        37.0        38.0   \n",
      "1        71.0        67.0        58.0        51.0        49.0        49.0   \n",
      "2        41.0        37.0        33.0        30.0        29.0        30.0   \n",
      "3        43.0        38.0        31.0        26.0        24.0        24.0   \n",
      "4        52.0        49.0        43.0        39.0        38.0        40.0   \n",
      "\n",
      "   2024-08-31  2024-09-30  2024-10-31  \n",
      "0        41.0        44.0        46.0  \n",
      "1        52.0        55.0        58.0  \n",
      "2        33.0        36.0        38.0  \n",
      "3        25.0        28.0        31.0  \n",
      "4        45.0        50.0        54.0  \n",
      "\n",
      "[5 rows x 85 columns]\n",
      "   RegionID  SizeRank       RegionName RegionType StateName  2018-01-31  \\\n",
      "0    102001         0    United States    country       NaN     34523.0   \n",
      "1    394913         1     New York, NY        msa        NY       546.0   \n",
      "2    753899         2  Los Angeles, CA        msa        CA       333.0   \n",
      "3    394463         3      Chicago, IL        msa        IL       287.0   \n",
      "4    394514         4       Dallas, TX        msa        TX      1439.0   \n",
      "\n",
      "   2018-02-28  2018-03-31  2018-04-30  2018-05-31  ...  2023-12-31  \\\n",
      "0     33812.0     43335.0     38319.0     40724.0  ...     33376.0   \n",
      "1       473.0       574.0       529.0       611.0  ...       362.0   \n",
      "2       397.0       586.0       438.0       453.0  ...       192.0   \n",
      "3       253.0       332.0       350.0       391.0  ...       348.0   \n",
      "4      1515.0      2083.0      1794.0      1600.0  ...      1600.0   \n",
      "\n",
      "   2024-01-31  2024-02-29  2024-03-31  2024-04-30  2024-05-31  2024-06-30  \\\n",
      "0     24156.0     30545.0     36263.0     34073.0     36559.0     33219.0   \n",
      "1       315.0       307.0       351.0       334.0       457.0       363.0   \n",
      "2       128.0       148.0       235.0       235.0       231.0       222.0   \n",
      "3       286.0       401.0       414.0       444.0       518.0       414.0   \n",
      "4      1178.0      1365.0      1590.0      1515.0      1464.0      1432.0   \n",
      "\n",
      "   2024-07-31  2024-08-31  2024-09-30  \n",
      "0     30925.0     29057.0     24605.0  \n",
      "1       406.0       396.0       314.0  \n",
      "2       142.0       147.0       117.0  \n",
      "3       421.0       451.0       353.0  \n",
      "4      1218.0      1035.0       720.0  \n",
      "\n",
      "[5 rows x 86 columns]\n",
      "   RegionID  SizeRank       RegionName RegionType StateName  2008-02-29  \\\n",
      "0    102001         0    United States    country       NaN    202444.0   \n",
      "1    394913         1     New York, NY        msa        NY      8671.0   \n",
      "2    753899         2  Los Angeles, CA        msa        CA      4137.0   \n",
      "3    394463         3      Chicago, IL        msa        IL      5580.0   \n",
      "4    394514         4       Dallas, TX        msa        TX      4873.0   \n",
      "\n",
      "   2008-03-31  2008-04-30  2008-05-31  2008-06-30  ...  2024-01-31  \\\n",
      "0    234240.0    260112.0    286644.0    299878.0  ...    213284.0   \n",
      "1      9170.0     10219.0     10612.0     11518.0  ...     10433.0   \n",
      "2      5037.0      6062.0      6871.0      7225.0  ...      4400.0   \n",
      "3      6918.0      7236.0      7945.0      8783.0  ...      5511.0   \n",
      "4      5523.0      5988.0      6672.0      6673.0  ...      4207.0   \n",
      "\n",
      "   2024-02-29  2024-03-31  2024-04-30  2024-05-31  2024-06-30  2024-07-31  \\\n",
      "0    236191.0    284929.0    321190.0    354379.0    329816.0    345965.0   \n",
      "1      9029.0     10171.0     11182.0     12466.0     12713.0     14428.0   \n",
      "2      4988.0      6100.0      6722.0      7123.0      6387.0      7026.0   \n",
      "3      5775.0      7681.0      9290.0     10212.0      9776.0     10261.0   \n",
      "4      5142.0      6156.0      6976.0      7474.0      6489.0      6821.0   \n",
      "\n",
      "   2024-08-31  2024-09-30  2024-10-31  \n",
      "0    335499.0    286245.0    308139.0  \n",
      "1     14561.0     12038.0     11781.0  \n",
      "2      6791.0      5876.0      6960.0  \n",
      "3      9917.0      8549.0      8954.0  \n",
      "4      6375.0      5426.0      5830.0  \n",
      "\n",
      "[5 rows x 206 columns]\n",
      "   RegionID  SizeRank       RegionName RegionType StateName    BaseDate  \\\n",
      "0    102001         0    United States    country       NaN  2024-10-31   \n",
      "1    394913         1     New York, NY        msa        NY  2024-10-31   \n",
      "2    753899         2  Los Angeles, CA        msa        CA  2024-10-31   \n",
      "3    394463         3      Chicago, IL        msa        IL  2024-10-31   \n",
      "4    394514         4       Dallas, TX        msa        TX  2024-10-31   \n",
      "\n",
      "   2024-11-30  2025-01-31  2025-10-31  \n",
      "0         0.2         0.6         2.9  \n",
      "1         0.3         0.5         1.5  \n",
      "2         0.2         0.4         2.3  \n",
      "3         0.1         0.2         1.1  \n",
      "4        -0.2        -0.7         1.2  \n",
      "   RegionID  SizeRank       RegionName RegionType StateName     2000-01-31  \\\n",
      "0    102001         0    United States    country       NaN  121618.117906   \n",
      "1    394913         1     New York, NY        msa        NY  216209.133034   \n",
      "2    753899         2  Los Angeles, CA        msa        CA  220054.246992   \n",
      "3    394463         3      Chicago, IL        msa        IL  152313.404618   \n",
      "4    394514         4       Dallas, TX        msa        TX  124931.823275   \n",
      "\n",
      "      2000-02-29     2000-03-31     2000-04-30     2000-05-31  ...  \\\n",
      "0  121832.083163  122097.431586  122666.551870  123321.541083  ...   \n",
      "1  217127.899860  218055.176122  219934.196642  221879.987460  ...   \n",
      "2  220873.127993  221963.869677  224134.079222  226507.608099  ...   \n",
      "3  152454.402460  152722.935334  153390.978391  154194.553834  ...   \n",
      "4  124987.468346  125051.438051  125217.560655  125436.588761  ...   \n",
      "\n",
      "      2024-01-31     2024-02-29     2024-03-31     2024-04-30     2024-05-31  \\\n",
      "0  351518.721971  352307.611057  353841.834013  355689.143658  357116.078246   \n",
      "1  636222.199812  640261.759998  645659.925232  651762.255593  656416.260742   \n",
      "2  918152.699842  915212.200707  914100.045351  917555.375306  923429.357719   \n",
      "3  309242.532032  310621.674151  313019.037704  315872.731458  317979.880350   \n",
      "4  368653.283687  369131.167377  370278.543600  371238.456044  371380.958812   \n",
      "\n",
      "      2024-06-30     2024-07-31     2024-08-31     2024-09-30     2024-10-31  \n",
      "0  357675.012344  357822.347127  358064.560426  358513.017685  359098.757006  \n",
      "1  659493.785408  662237.503625  665976.304121  669998.634470  673519.052950  \n",
      "2  927370.843139  931734.333222  936905.038981  943310.514820  948517.694617  \n",
      "3  319195.707171  319927.287910  320843.743524  321841.084746  322812.993795  \n",
      "4  370722.650770  369792.633169  369147.346536  368951.387387  368846.512185  \n",
      "\n",
      "[5 rows x 303 columns]\n"
     ]
    }
   ],
   "source": [
    "import pandas as pd\n",
    "\n",
    "# Load the data from the CSV file.\n",
    "data1 = pd.read_csv(r'C:\\Users\\ReisH\\OneDrive\\Desktop\\Project-2\\Metro_invt_fs_uc_sfrcondo_sm_month.csv')\n",
    "data2 = pd.read_csv(r'C:\\Users\\ReisH\\OneDrive\\Desktop\\Project-2\\Metro_market_temp_index_uc_sfrcondo_month (1).csv')\n",
    "data3 = pd.read_csv(r'C:\\Users\\ReisH\\OneDrive\\Desktop\\Project-2\\Metro_mean_doz_pending_uc_sfrcondo_sm_month.csv')\n",
    "data4 = pd.read_csv(r'C:\\Users\\ReisH\\OneDrive\\Desktop\\Project-2\\Metro_new_con_sales_count_raw_uc_sfrcondo_month.csv')\n",
    "data5 = pd.read_csv(r'C:\\Users\\ReisH\\OneDrive\\Desktop\\Project-2\\Metro_sales_count_now_uc_sfrcondo_month.csv')\n",
    "data6 = pd.read_csv(r'C:\\Users\\ReisH\\OneDrive\\Desktop\\Project-2\\Metro_zhvf_growth_uc_sfrcondo_tier_0.33_0.67_sm_sa_month.csv')\n",
    "data7 = pd.read_csv(r'C:\\Users\\ReisH\\OneDrive\\Desktop\\Project-2\\Metro_zhvi_uc_sfrcondo_tier_0.33_0.67_sm_sa_month (1).csv')\n",
    "\n",
    "# Display the first few rows of each dataset.\n",
    "print(data1.head())\n",
    "print(data2.head())\n",
    "print(data3.head())\n",
    "print(data4.head())\n",
    "print(data5.head())\n",
    "print(data6.head())\n",
    "print(data7.head())"
   ]
  },
  {
   "cell_type": "code",
   "execution_count": 4,
   "metadata": {},
   "outputs": [],
   "source": [
    "# Load the data from the ATTOM API.\n",
    "import requests\n",
    "import json\n",
    "import time\n",
    "import random\n",
    "\n",
    "# Load environment variables\n",
    "load_dotenv()\n",
    "attom_api_key = os.getenv(\"ATTOM_API_KEY\")\n"
   ]
  },
  {
   "cell_type": "code",
   "execution_count": 5,
   "metadata": {},
   "outputs": [],
   "source": [
    "\n",
    "# Set the base URL for the ATTOM API.\n",
    "base_url = \"https://api.gateway.attomdata.com/propertyapi/v1.0.0/assessment/detail\"\n"
   ]
  },
  {
   "cell_type": "code",
   "execution_count": 6,
   "metadata": {},
   "outputs": [],
   "source": [
    "\n",
    "# Set the headers for the ATTOM API.\n",
    "params = {\n",
    "    \"address\": \"123 Main St\",  \n",
    "    \"city\": \"Seattle\",         \n",
    "    \"state\": \"WA\",             \n",
    "    \"apikey\": attom_api_key\n",
    "}"
   ]
  },
  {
   "cell_type": "code",
   "execution_count": 7,
   "metadata": {},
   "outputs": [],
   "source": [
    "\n",
    "# Set the parameters for the ATTOM API.\n",
    "headers = {\n",
    "    \"accept\": \"application/json\",\n",
    "    \"apikey\": attom_api_key\n",
    "}"
   ]
  },
  {
   "cell_type": "code",
   "execution_count": 8,
   "metadata": {},
   "outputs": [
    {
     "name": "stdout",
     "output_type": "stream",
     "text": [
      "Error: 401\n"
     ]
    }
   ],
   "source": [
    "\n",
    "# Make a request to the ATTOM API.\n",
    "response = requests.get(base_url, headers=headers, params=params)\n",
    "if response.status_code == 200:\n",
    "    data = response.json()\n",
    "    print(json.dumps(data, indent=2))\n",
    "else:\n",
    "    print(f\"Error: {response.status_code}\")\n",
    "    "
   ]
  },
  {
   "cell_type": "code",
   "execution_count": 10,
   "metadata": {},
   "outputs": [
    {
     "name": "stdout",
     "output_type": "stream",
     "text": [
      "Full API Response:      RegionID  SizeRank       RegionName RegionType StateName  2018-03-31  \\\n",
      "0      102001         0    United States    country       NaN   1421530.0   \n",
      "1      394913         1     New York, NY        msa        NY     73707.0   \n",
      "2      753899         2  Los Angeles, CA        msa        CA     21998.0   \n",
      "3      394463         3      Chicago, IL        msa        IL     38581.0   \n",
      "4      394514         4       Dallas, TX        msa        TX     24043.0   \n",
      "..        ...       ...              ...        ...       ...         ...   \n",
      "923    753929       935       Zapata, TX        msa        TX        55.0   \n",
      "924    394743       936    Ketchikan, AK        msa        AK        77.0   \n",
      "925    753874       937        Craig, CO        msa        CO       115.0   \n",
      "926    395188       938       Vernon, TX        msa        TX        21.0   \n",
      "927    394767       939       Lamesa, TX        msa        TX        35.0   \n",
      "\n",
      "     2018-04-30  2018-05-31  2018-06-30  2018-07-31  ...  2024-01-31  \\\n",
      "0     1500196.0   1592417.0   1660615.0   1709144.0  ...    890491.0   \n",
      "1       80345.0     85864.0     90067.0     91881.0  ...     36461.0   \n",
      "2       23784.0     25605.0     27109.0     28811.0  ...     14058.0   \n",
      "3       42253.0     45757.0     47492.0     48984.0  ...     19092.0   \n",
      "4       25876.0     28225.0     30490.0     32408.0  ...     21664.0   \n",
      "..          ...         ...         ...         ...  ...         ...   \n",
      "923        55.0        56.0        66.0        65.0  ...        37.0   \n",
      "924        78.0        80.0        92.0       104.0  ...        34.0   \n",
      "925       116.0       126.0       148.0       165.0  ...        74.0   \n",
      "926        26.0        32.0        39.0        39.0  ...        43.0   \n",
      "927        35.0        37.0        38.0        41.0  ...        42.0   \n",
      "\n",
      "     2024-02-29  2024-03-31  2024-04-30  2024-05-31  2024-06-30  2024-07-31  \\\n",
      "0      876361.0    913841.0    967480.0   1036855.0   1101144.0   1149668.0   \n",
      "1       34858.0     36244.0     38666.0     41641.0     43847.0     44838.0   \n",
      "2       13754.0     14572.0     15567.0     16977.0     18457.0     19823.0   \n",
      "3       18342.0     19059.0     20389.0     21782.0     23134.0     24180.0   \n",
      "4       21401.0     22537.0     24388.0     26468.0     28696.0     30378.0   \n",
      "..          ...         ...         ...         ...         ...         ...   \n",
      "923        38.0        38.0        38.0        38.0        41.0        42.0   \n",
      "924        31.0        34.0        36.0        36.0        37.0        40.0   \n",
      "925        65.0        62.0        65.0        72.0        80.0        90.0   \n",
      "926        39.0        38.0        38.0        36.0        35.0        36.0   \n",
      "927        40.0        39.0        40.0        42.0        43.0        42.0   \n",
      "\n",
      "     2024-08-31  2024-09-30  2024-10-31  \n",
      "0     1173406.0   1180162.0   1181190.0  \n",
      "1       43767.0     42694.0     41774.0  \n",
      "2       20703.0     21328.0     21589.0  \n",
      "3       24779.0     25144.0     25409.0  \n",
      "4       31631.0     31774.0     31776.0  \n",
      "..          ...         ...         ...  \n",
      "923        43.0        41.0        40.0  \n",
      "924        48.0        49.0        51.0  \n",
      "925        95.0        91.0        84.0  \n",
      "926        40.0        41.0        39.0  \n",
      "927        41.0        39.0        37.0  \n",
      "\n",
      "[928 rows x 85 columns]\n",
      "Full API Response:      RegionID  SizeRank       RegionName RegionType StateName  2018-01-31  \\\n",
      "0      102001         0    United States    country       NaN        49.0   \n",
      "1      394913         1     New York, NY        msa        NY        52.0   \n",
      "2      753899         2  Los Angeles, CA        msa        CA        68.0   \n",
      "3      394463         3      Chicago, IL        msa        IL        48.0   \n",
      "4      394514         4       Dallas, TX        msa        TX        55.0   \n",
      "..        ...       ...              ...        ...       ...         ...   \n",
      "923    753929       935       Zapata, TX        msa        TX         NaN   \n",
      "924    394743       936    Ketchikan, AK        msa        AK        37.0   \n",
      "925    753874       937        Craig, CO        msa        CO         5.0   \n",
      "926    395188       938       Vernon, TX        msa        TX        51.0   \n",
      "927    394767       939       Lamesa, TX        msa        TX        46.0   \n",
      "\n",
      "     2018-02-28  2018-03-31  2018-04-30  2018-05-31  ...  2024-01-31  \\\n",
      "0          50.0        52.0        54.0        55.0  ...        59.0   \n",
      "1          52.0        55.0        56.0        55.0  ...        85.0   \n",
      "2          66.0        65.0        66.0        66.0  ...        81.0   \n",
      "3          49.0        51.0        52.0        51.0  ...        68.0   \n",
      "4          55.0        58.0        60.0        59.0  ...        66.0   \n",
      "..          ...         ...         ...         ...  ...         ...   \n",
      "923         NaN         NaN         NaN         NaN  ...        36.0   \n",
      "924        35.0        34.0        37.0        49.0  ...         NaN   \n",
      "925        25.0        53.0        68.0        57.0  ...        66.0   \n",
      "926        45.0         NaN        48.0        65.0  ...        77.0   \n",
      "927        45.0        43.0        49.0        51.0  ...        54.0   \n",
      "\n",
      "     2024-02-29  2024-03-31  2024-04-30  2024-05-31  2024-06-30  2024-07-31  \\\n",
      "0          63.0        63.0        62.0        59.0        57.0        55.0   \n",
      "1          91.0        89.0        86.0        81.0        77.0        76.0   \n",
      "2          84.0        83.0        80.0        74.0        70.0        67.0   \n",
      "3          74.0        76.0        75.0        71.0        67.0        64.0   \n",
      "4          67.0        67.0        65.0        59.0        55.0        51.0   \n",
      "..          ...         ...         ...         ...         ...         ...   \n",
      "923        39.0        36.0        27.0        40.0        53.0        47.0   \n",
      "924        74.0        69.0        48.0        53.0        61.0        63.0   \n",
      "925        68.0        67.0        73.0        67.0        57.0        40.0   \n",
      "926        84.0        79.0        64.0        65.0        61.0        53.0   \n",
      "927        47.0        44.0        47.0        48.0        41.0        38.0   \n",
      "\n",
      "     2024-08-31  2024-09-30  2024-10-31  \n",
      "0          53.0        52.0        50.0  \n",
      "1          76.0        73.0        69.0  \n",
      "2          65.0        62.0        61.0  \n",
      "3          61.0        58.0        56.0  \n",
      "4          49.0        48.0        48.0  \n",
      "..          ...         ...         ...  \n",
      "923        31.0        33.0        46.0  \n",
      "924        56.0        55.0        46.0  \n",
      "925        35.0        45.0        66.0  \n",
      "926        56.0        55.0        51.0  \n",
      "927        38.0        40.0        38.0  \n",
      "\n",
      "[928 rows x 87 columns]\n",
      "Full API Response:      RegionID  SizeRank          RegionName RegionType StateName  2018-03-31  \\\n",
      "0      102001         0       United States    country       NaN        51.0   \n",
      "1      394913         1        New York, NY        msa        NY        68.0   \n",
      "2      753899         2     Los Angeles, CA        msa        CA        35.0   \n",
      "3      394463         3         Chicago, IL        msa        IL        51.0   \n",
      "4      394514         4          Dallas, TX        msa        TX        46.0   \n",
      "..        ...       ...                 ...        ...       ...         ...   \n",
      "721    395241       881         Yankton, SD        msa        SD         NaN   \n",
      "722    394403       899          Borger, TX        msa        TX         NaN   \n",
      "723    753925       910  Vineyard Haven, MA        msa        MA         NaN   \n",
      "724    786263       913         Ruidoso, NM        msa        NM         NaN   \n",
      "725    394805       916      Los Alamos, NM        msa        NM         NaN   \n",
      "\n",
      "     2018-04-30  2018-05-31  2018-06-30  2018-07-31  ...  2024-01-31  \\\n",
      "0          48.0        45.0        43.0        44.0  ...        49.0   \n",
      "1          65.0        63.0        64.0        66.0  ...        68.0   \n",
      "2          32.0        31.0        32.0        33.0  ...        40.0   \n",
      "3          44.0        40.0        39.0        40.0  ...        42.0   \n",
      "4          42.0        38.0        37.0        38.0  ...        51.0   \n",
      "..          ...         ...         ...         ...  ...         ...   \n",
      "721         NaN         NaN         NaN         NaN  ...         NaN   \n",
      "722         NaN         NaN         NaN         NaN  ...         NaN   \n",
      "723         NaN         NaN         NaN         NaN  ...         NaN   \n",
      "724         NaN         NaN         NaN         NaN  ...         NaN   \n",
      "725         NaN         NaN         NaN         NaN  ...         NaN   \n",
      "\n",
      "     2024-02-29  2024-03-31  2024-04-30  2024-05-31  2024-06-30  2024-07-31  \\\n",
      "0          52.0        49.0        43.0        39.0        37.0        38.0   \n",
      "1          71.0        67.0        58.0        51.0        49.0        49.0   \n",
      "2          41.0        37.0        33.0        30.0        29.0        30.0   \n",
      "3          43.0        38.0        31.0        26.0        24.0        24.0   \n",
      "4          52.0        49.0        43.0        39.0        38.0        40.0   \n",
      "..          ...         ...         ...         ...         ...         ...   \n",
      "721         NaN         NaN         NaN         NaN         NaN         NaN   \n",
      "722         NaN         NaN         NaN         NaN         NaN         NaN   \n",
      "723         NaN         NaN         NaN         NaN         NaN         NaN   \n",
      "724         NaN         NaN         NaN         NaN         NaN         NaN   \n",
      "725         NaN         NaN        18.0        17.0        19.0        19.0   \n",
      "\n",
      "     2024-08-31  2024-09-30  2024-10-31  \n",
      "0          41.0        44.0        46.0  \n",
      "1          52.0        55.0        58.0  \n",
      "2          33.0        36.0        38.0  \n",
      "3          25.0        28.0        31.0  \n",
      "4          45.0        50.0        54.0  \n",
      "..          ...         ...         ...  \n",
      "721         NaN         NaN        46.0  \n",
      "722         NaN         NaN        54.0  \n",
      "723         NaN         NaN       109.0  \n",
      "724        92.0        86.0        89.0  \n",
      "725        15.0        13.0        21.0  \n",
      "\n",
      "[726 rows x 85 columns]\n",
      "Full API Response:      RegionID  SizeRank       RegionName RegionType StateName  2018-01-31  \\\n",
      "0      102001         0    United States    country       NaN     34523.0   \n",
      "1      394913         1     New York, NY        msa        NY       546.0   \n",
      "2      753899         2  Los Angeles, CA        msa        CA       333.0   \n",
      "3      394463         3      Chicago, IL        msa        IL       287.0   \n",
      "4      394514         4       Dallas, TX        msa        TX      1439.0   \n",
      "..        ...       ...              ...        ...       ...         ...   \n",
      "308    394476       704    Clewiston, FL        msa        FL         NaN   \n",
      "309    394786       783    Lewisburg, TN        msa        TN         NaN   \n",
      "310    394433       799    Cambridge, MD        msa        MD         NaN   \n",
      "311    395159       848       Toccoa, GA        msa        GA         NaN   \n",
      "312    395004       872   Prineville, OR        msa        OR         NaN   \n",
      "\n",
      "     2018-02-28  2018-03-31  2018-04-30  2018-05-31  ...  2023-12-31  \\\n",
      "0       33812.0     43335.0     38319.0     40724.0  ...     33376.0   \n",
      "1         473.0       574.0       529.0       611.0  ...       362.0   \n",
      "2         397.0       586.0       438.0       453.0  ...       192.0   \n",
      "3         253.0       332.0       350.0       391.0  ...       348.0   \n",
      "4        1515.0      2083.0      1794.0      1600.0  ...      1600.0   \n",
      "..          ...         ...         ...         ...  ...         ...   \n",
      "308         NaN         NaN         NaN         NaN  ...        18.0   \n",
      "309         NaN         NaN         NaN         NaN  ...         NaN   \n",
      "310         NaN         NaN         NaN         NaN  ...        13.0   \n",
      "311         NaN         NaN         NaN         NaN  ...         NaN   \n",
      "312         NaN         NaN         NaN         NaN  ...         NaN   \n",
      "\n",
      "     2024-01-31  2024-02-29  2024-03-31  2024-04-30  2024-05-31  2024-06-30  \\\n",
      "0       24156.0     30545.0     36263.0     34073.0     36559.0     33219.0   \n",
      "1         315.0       307.0       351.0       334.0       457.0       363.0   \n",
      "2         128.0       148.0       235.0       235.0       231.0       222.0   \n",
      "3         286.0       401.0       414.0       444.0       518.0       414.0   \n",
      "4        1178.0      1365.0      1590.0      1515.0      1464.0      1432.0   \n",
      "..          ...         ...         ...         ...         ...         ...   \n",
      "308        10.0        10.0        27.0        21.0        20.0        28.0   \n",
      "309         NaN         5.0        10.0        17.0        21.0        14.0   \n",
      "310         9.0         7.0        17.0        19.0        13.0        13.0   \n",
      "311         NaN         NaN         NaN         NaN         NaN         NaN   \n",
      "312         NaN         NaN         NaN         NaN         NaN         NaN   \n",
      "\n",
      "     2024-07-31  2024-08-31  2024-09-30  \n",
      "0       30925.0     29057.0     24605.0  \n",
      "1         406.0       396.0       314.0  \n",
      "2         142.0       147.0       117.0  \n",
      "3         421.0       451.0       353.0  \n",
      "4        1218.0      1035.0       720.0  \n",
      "..          ...         ...         ...  \n",
      "308        29.0        22.0        23.0  \n",
      "309        13.0         6.0         9.0  \n",
      "310        15.0         9.0        13.0  \n",
      "311         6.0         7.0         6.0  \n",
      "312         NaN         NaN         8.0  \n",
      "\n",
      "[313 rows x 86 columns]\n",
      "Full API Response:     RegionID  SizeRank        RegionName RegionType StateName  2008-02-29  \\\n",
      "0     102001         0     United States    country       NaN    202444.0   \n",
      "1     394913         1      New York, NY        msa        NY      8671.0   \n",
      "2     753899         2   Los Angeles, CA        msa        CA      4137.0   \n",
      "3     394463         3       Chicago, IL        msa        IL      5580.0   \n",
      "4     394514         4        Dallas, TX        msa        TX      4873.0   \n",
      "..       ...       ...               ...        ...       ...         ...   \n",
      "89    395006        92         Provo, UT        msa        UT       268.0   \n",
      "90    395160        93        Toledo, OH        msa        OH       326.0   \n",
      "91    395224        94       Wichita, KS        msa        KS       542.0   \n",
      "92    394549        95        Durham, NC        msa        NC       416.0   \n",
      "93    394602       152  Fort Collins, CO        msa        CO       267.0   \n",
      "\n",
      "    2008-03-31  2008-04-30  2008-05-31  2008-06-30  ...  2024-01-31  \\\n",
      "0     234240.0    260112.0    286644.0    299878.0  ...    213284.0   \n",
      "1       9170.0     10219.0     10612.0     11518.0  ...     10433.0   \n",
      "2       5037.0      6062.0      6871.0      7225.0  ...      4400.0   \n",
      "3       6918.0      7236.0      7945.0      8783.0  ...      5511.0   \n",
      "4       5523.0      5988.0      6672.0      6673.0  ...      4207.0   \n",
      "..         ...         ...         ...         ...  ...         ...   \n",
      "89       283.0       338.0       361.0       342.0  ...       367.0   \n",
      "90       358.0       425.0       476.0       474.0  ...       441.0   \n",
      "91       718.0       732.0       787.0       815.0  ...       385.0   \n",
      "92       516.0       552.0       781.0       775.0  ...       424.0   \n",
      "93       387.0       445.0       501.0       543.0  ...       259.0   \n",
      "\n",
      "    2024-02-29  2024-03-31  2024-04-30  2024-05-31  2024-06-30  2024-07-31  \\\n",
      "0     236191.0    284929.0    321190.0    354379.0    329816.0    345965.0   \n",
      "1       9029.0     10171.0     11182.0     12466.0     12713.0     14428.0   \n",
      "2       4988.0      6100.0      6722.0      7123.0      6387.0      7026.0   \n",
      "3       5775.0      7681.0      9290.0     10212.0      9776.0     10261.0   \n",
      "4       5142.0      6156.0      6976.0      7474.0      6489.0      6821.0   \n",
      "..         ...         ...         ...         ...         ...         ...   \n",
      "89       385.0       445.0       628.0       637.0       617.0       634.0   \n",
      "90       412.0       476.0       569.0       636.0       604.0       658.0   \n",
      "91       475.0       592.0       693.0       744.0       683.0       709.0   \n",
      "92       512.0       608.0       764.0       899.0       721.0       730.0   \n",
      "93       284.0       366.0       410.0       503.0       439.0       436.0   \n",
      "\n",
      "    2024-08-31  2024-09-30  2024-10-31  \n",
      "0     335499.0    286245.0    308139.0  \n",
      "1      14561.0     12038.0     11781.0  \n",
      "2       6791.0      5876.0      6960.0  \n",
      "3       9917.0      8549.0      8954.0  \n",
      "4       6375.0      5426.0      5830.0  \n",
      "..         ...         ...         ...  \n",
      "89       653.0       549.0       555.0  \n",
      "90       697.0       612.0       630.0  \n",
      "91       684.0       581.0         NaN  \n",
      "92       620.0       612.0       635.0  \n",
      "93       442.0       359.0       439.0  \n",
      "\n",
      "[94 rows x 206 columns]\n",
      "Full API Response:      RegionID  SizeRank       RegionName RegionType StateName    BaseDate  \\\n",
      "0      102001         0    United States    country       NaN  2024-10-31   \n",
      "1      394913         1     New York, NY        msa        NY  2024-10-31   \n",
      "2      753899         2  Los Angeles, CA        msa        CA  2024-10-31   \n",
      "3      394463         3      Chicago, IL        msa        IL  2024-10-31   \n",
      "4      394514         4       Dallas, TX        msa        TX  2024-10-31   \n",
      "..        ...       ...              ...        ...       ...         ...   \n",
      "890    753929       935       Zapata, TX        msa        TX  2024-10-31   \n",
      "891    394743       936    Ketchikan, AK        msa        AK  2024-10-31   \n",
      "892    753874       937        Craig, CO        msa        CO  2024-10-31   \n",
      "893    395188       938       Vernon, TX        msa        TX  2024-10-31   \n",
      "894    394767       939       Lamesa, TX        msa        TX  2024-10-31   \n",
      "\n",
      "     2024-11-30  2025-01-31  2025-10-31  \n",
      "0           0.2         0.6         2.9  \n",
      "1           0.3         0.5         1.5  \n",
      "2           0.2         0.4         2.3  \n",
      "3           0.1         0.2         1.1  \n",
      "4          -0.2        -0.7         1.2  \n",
      "..          ...         ...         ...  \n",
      "890        -0.8        -2.6        -7.2  \n",
      "891         0.2         0.1        -0.9  \n",
      "892         0.4         1.0         4.4  \n",
      "893        -1.4        -2.2        -4.3  \n",
      "894        -0.2        -0.7        -4.5  \n",
      "\n",
      "[895 rows x 9 columns]\n",
      "Full API Response:      RegionID  SizeRank       RegionName RegionType StateName     2000-01-31  \\\n",
      "0      102001         0    United States    country       NaN  121618.117906   \n",
      "1      394913         1     New York, NY        msa        NY  216209.133034   \n",
      "2      753899         2  Los Angeles, CA        msa        CA  220054.246992   \n",
      "3      394463         3      Chicago, IL        msa        IL  152313.404618   \n",
      "4      394514         4       Dallas, TX        msa        TX  124931.823275   \n",
      "..        ...       ...              ...        ...       ...            ...   \n",
      "890    753929       935       Zapata, TX        msa        TX            NaN   \n",
      "891    394743       936    Ketchikan, AK        msa        AK            NaN   \n",
      "892    753874       937        Craig, CO        msa        CO   98138.246235   \n",
      "893    395188       938       Vernon, TX        msa        TX            NaN   \n",
      "894    394767       939       Lamesa, TX        msa        TX            NaN   \n",
      "\n",
      "        2000-02-29     2000-03-31     2000-04-30     2000-05-31  ...  \\\n",
      "0    121832.083163  122097.431586  122666.551870  123321.541083  ...   \n",
      "1    217127.899860  218055.176122  219934.196642  221879.987460  ...   \n",
      "2    220873.127993  221963.869677  224134.079222  226507.608099  ...   \n",
      "3    152454.402460  152722.935334  153390.978391  154194.553834  ...   \n",
      "4    124987.468346  125051.438051  125217.560655  125436.588761  ...   \n",
      "..             ...            ...            ...            ...  ...   \n",
      "890            NaN            NaN            NaN            NaN  ...   \n",
      "891            NaN            NaN            NaN            NaN  ...   \n",
      "892   98389.192594   98856.388976   99521.719777  100294.879714  ...   \n",
      "893            NaN            NaN            NaN            NaN  ...   \n",
      "894            NaN            NaN            NaN            NaN  ...   \n",
      "\n",
      "        2024-01-31     2024-02-29     2024-03-31     2024-04-30  \\\n",
      "0    351518.721971  352307.611057  353841.834013  355689.143658   \n",
      "1    636222.199812  640261.759998  645659.925232  651762.255593   \n",
      "2    918152.699842  915212.200707  914100.045351  917555.375306   \n",
      "3    309242.532032  310621.674151  313019.037704  315872.731458   \n",
      "4    368653.283687  369131.167377  370278.543600  371238.456044   \n",
      "..             ...            ...            ...            ...   \n",
      "890  125008.677583  124153.313389  124277.676391  125831.848783   \n",
      "891  379357.281465  379475.577182  381150.269532  382647.123810   \n",
      "892  282600.733806  282532.302880  282992.307275  283767.943843   \n",
      "893   91330.080574   91380.673082   92040.860070   92785.619105   \n",
      "894   88533.691061   87425.670561   87478.504565   87697.973643   \n",
      "\n",
      "        2024-05-31     2024-06-30     2024-07-31     2024-08-31  \\\n",
      "0    357116.078246  357675.012344  357822.347127  358064.560426   \n",
      "1    656416.260742  659493.785408  662237.503625  665976.304121   \n",
      "2    923429.357719  927370.843139  931734.333222  936905.038981   \n",
      "3    317979.880350  319195.707171  319927.287910  320843.743524   \n",
      "4    371380.958812  370722.650770  369792.633169  369147.346536   \n",
      "..             ...            ...            ...            ...   \n",
      "890  127594.450637  128716.690246  128933.920475  128590.245500   \n",
      "891  383751.533356  383819.615546  383065.410420  383015.544053   \n",
      "892  284664.758836  285001.864473  285323.298466  285550.191983   \n",
      "893   93439.205920   93703.278159   93499.558466   93013.577818   \n",
      "894   88621.907185   89908.543510   91732.662275   93362.813839   \n",
      "\n",
      "        2024-09-30     2024-10-31  \n",
      "0    358513.017685  359098.757006  \n",
      "1    669998.634470  673519.052950  \n",
      "2    943310.514820  948517.694617  \n",
      "3    321841.084746  322812.993795  \n",
      "4    368951.387387  368846.512185  \n",
      "..             ...            ...  \n",
      "890  127961.858254  127085.947769  \n",
      "891  384321.822255  386202.654941  \n",
      "892  286901.985830  288588.402340  \n",
      "893   91740.713452   90136.363348  \n",
      "894   94070.017585   94079.655826  \n",
      "\n",
      "[895 rows x 303 columns]\n",
      "Full API Response: {'Response': {'status': {'version': '1.0.0', 'code': '401', 'msg': 'Unauthorized', 'total': '0', 'page': '0', 'pagesize': '0'}}}\n"
     ]
    }
   ],
   "source": [
    "   # Print the full JSON response to inspect its structure\n",
    "   print(\"Full API Response:\", data1)\n",
    "   print(\"Full API Response:\", data2)\n",
    "   print(\"Full API Response:\", data3)\n",
    "   print(\"Full API Response:\", data4)\n",
    "   print(\"Full API Response:\", data5)\n",
    "   print(\"Full API Response:\", data6)\n",
    "   print(\"Full API Response:\", data7)\n",
    "   print(\"Full API Response:\", response.json())\n"
   ]
  },
  {
   "cell_type": "code",
   "execution_count": 11,
   "metadata": {},
   "outputs": [],
   "source": [
    "\n",
    "# Get the data from the response.\n",
    "data = response.json()"
   ]
  },
  {
   "cell_type": "code",
   "execution_count": 12,
   "metadata": {},
   "outputs": [
    {
     "name": "stdout",
     "output_type": "stream",
     "text": [
      "dict_keys(['Response'])\n",
      "Key 'property' not found in the JSON response\n"
     ]
    }
   ],
   "source": [
    "# Inspect the keys of the JSON response\n",
    "print(data.keys())\n",
    "\n",
    "# Convert the relevant data to a DataFrame\n",
    "# Assuming the relevant data is in 'property' key within the JSON response\n",
    "if 'property' in data:\n",
    "\tdata_df = pd.DataFrame(data['property'])\n",
    "\tdata_df.head()\n",
    "else:\n",
    "\tprint(\"Key 'property' not found in the JSON response\")\n",
    "\n",
    "\n",
    "\n",
    "\n"
   ]
  },
  {
   "cell_type": "code",
   "execution_count": 13,
   "metadata": {},
   "outputs": [
    {
     "data": {
      "text/plain": [
       "Response    object\n",
       "dtype: object"
      ]
     },
     "execution_count": 13,
     "metadata": {},
     "output_type": "execute_result"
    }
   ],
   "source": [
    "# Convert the data to a DataFrame and display the data types of each column.\n",
    "df = pd.DataFrame(data)\n",
    "df.dtypes"
   ]
  },
  {
   "cell_type": "code",
   "execution_count": 14,
   "metadata": {},
   "outputs": [
    {
     "data": {
      "text/html": [
       "<div>\n",
       "<style scoped>\n",
       "    .dataframe tbody tr th:only-of-type {\n",
       "        vertical-align: middle;\n",
       "    }\n",
       "\n",
       "    .dataframe tbody tr th {\n",
       "        vertical-align: top;\n",
       "    }\n",
       "\n",
       "    .dataframe thead th {\n",
       "        text-align: right;\n",
       "    }\n",
       "</style>\n",
       "<table border=\"1\" class=\"dataframe\">\n",
       "  <thead>\n",
       "    <tr style=\"text-align: right;\">\n",
       "      <th></th>\n",
       "      <th>Response</th>\n",
       "    </tr>\n",
       "  </thead>\n",
       "  <tbody>\n",
       "    <tr>\n",
       "      <th>count</th>\n",
       "      <td>1</td>\n",
       "    </tr>\n",
       "    <tr>\n",
       "      <th>unique</th>\n",
       "      <td>1</td>\n",
       "    </tr>\n",
       "    <tr>\n",
       "      <th>top</th>\n",
       "      <td>{'version': '1.0.0', 'code': '401', 'msg': 'Un...</td>\n",
       "    </tr>\n",
       "    <tr>\n",
       "      <th>freq</th>\n",
       "      <td>1</td>\n",
       "    </tr>\n",
       "  </tbody>\n",
       "</table>\n",
       "</div>"
      ],
      "text/plain": [
       "                                                 Response\n",
       "count                                                   1\n",
       "unique                                                  1\n",
       "top     {'version': '1.0.0', 'code': '401', 'msg': 'Un...\n",
       "freq                                                    1"
      ]
     },
     "execution_count": 14,
     "metadata": {},
     "output_type": "execute_result"
    }
   ],
   "source": [
    "# Convert the data to a DataFrame and display the summary statistics.\n",
    "df = pd.DataFrame(data)\n",
    "df.describe()"
   ]
  },
  {
   "cell_type": "code",
   "execution_count": 15,
   "metadata": {},
   "outputs": [
    {
     "name": "stdout",
     "output_type": "stream",
     "text": [
      "Correlation Matrix:\n",
      "Empty DataFrame\n",
      "Columns: []\n",
      "Index: []\n"
     ]
    }
   ],
   "source": [
    "# Ensure the DataFrame contains only numerical values.\n",
    "df_numeric = df.select_dtypes(include=[np.number])\n",
    "\n",
    "# Display the correlation matrix of the numerical data.\n",
    "correlation_matrix = df_numeric.corr()\n",
    "print(\"Correlation Matrix:\")\n",
    "print(correlation_matrix)\n"
   ]
  },
  {
   "cell_type": "code",
   "execution_count": 16,
   "metadata": {},
   "outputs": [
    {
     "name": "stdout",
     "output_type": "stream",
     "text": [
      "Numerical DataFrame:\n",
      "Empty DataFrame\n",
      "Columns: []\n",
      "Index: [status]\n",
      "The numerical DataFrame is empty. Cannot plot heatmap.\n"
     ]
    }
   ],
   "source": [
    "# Ensure the DataFrame contains only numerical values.\n",
    "numerical_df = df.select_dtypes(include=['number'])\n",
    "print(\"Numerical DataFrame:\")\n",
    "print(numerical_df.head()) \n",
    "\n",
    "# Check if the numerical DataFrame is not empty before plotting.\n",
    "if not numerical_df.empty:\n",
    "\t# Plot the correlation matrix as a heatmap.\n",
    "\tplt.figure(figsize=(10, 8))\n",
    "\tsns.heatmap(numerical_df.corr(), annot=True, cmap='coolwarm')\n",
    "\tplt.show()\n",
    "else:\n",
    "\tprint(\"The numerical DataFrame is empty. Cannot plot heatmap.\")"
   ]
  },
  {
   "cell_type": "code",
   "execution_count": 23,
   "metadata": {},
   "outputs": [
    {
     "ename": "KeyError",
     "evalue": "\"None of [Index(['zipcode', 'bedrooms', 'bathrooms', 'sqft_living', 'sqft_lot', 'floors',\\n       'waterfront', 'view', 'condition', 'grade', 'sqft_above',\\n       'sqft_basement', 'yr_built', 'yr_renovated', 'lat', 'long',\\n       'sqft_living15', 'sqft_lot15'],\\n      dtype='object')] are in the [columns]\"",
     "output_type": "error",
     "traceback": [
      "\u001b[1;31m---------------------------------------------------------------------------\u001b[0m",
      "\u001b[1;31mKeyError\u001b[0m                                  Traceback (most recent call last)",
      "Cell \u001b[1;32mIn[23], line 5\u001b[0m\n\u001b[0;32m      2\u001b[0m data_df \u001b[38;5;241m=\u001b[39m pd\u001b[38;5;241m.\u001b[39mDataFrame(data)\n\u001b[0;32m      4\u001b[0m \u001b[38;5;66;03m# Split the data into features and target variable.\u001b[39;00m\n\u001b[1;32m----> 5\u001b[0m X \u001b[38;5;241m=\u001b[39m \u001b[43mdata_df\u001b[49m\u001b[38;5;241;43m.\u001b[39;49m\u001b[43mloc\u001b[49m\u001b[43m[\u001b[49m\u001b[43m:\u001b[49m\u001b[43m,\u001b[49m\u001b[43m \u001b[49m\u001b[43m[\u001b[49m\u001b[38;5;124;43m'\u001b[39;49m\u001b[38;5;124;43mzipcode\u001b[39;49m\u001b[38;5;124;43m'\u001b[39;49m\u001b[43m,\u001b[49m\u001b[43m \u001b[49m\u001b[38;5;124;43m'\u001b[39;49m\u001b[38;5;124;43mbedrooms\u001b[39;49m\u001b[38;5;124;43m'\u001b[39;49m\u001b[43m,\u001b[49m\u001b[43m \u001b[49m\u001b[38;5;124;43m'\u001b[39;49m\u001b[38;5;124;43mbathrooms\u001b[39;49m\u001b[38;5;124;43m'\u001b[39;49m\u001b[43m,\u001b[49m\u001b[43m \u001b[49m\u001b[38;5;124;43m'\u001b[39;49m\u001b[38;5;124;43msqft_living\u001b[39;49m\u001b[38;5;124;43m'\u001b[39;49m\u001b[43m,\u001b[49m\u001b[43m \u001b[49m\u001b[38;5;124;43m'\u001b[39;49m\u001b[38;5;124;43msqft_lot\u001b[39;49m\u001b[38;5;124;43m'\u001b[39;49m\u001b[43m,\u001b[49m\u001b[43m \u001b[49m\u001b[38;5;124;43m'\u001b[39;49m\u001b[38;5;124;43mfloors\u001b[39;49m\u001b[38;5;124;43m'\u001b[39;49m\u001b[43m,\u001b[49m\u001b[43m \u001b[49m\u001b[38;5;124;43m'\u001b[39;49m\u001b[38;5;124;43mwaterfront\u001b[39;49m\u001b[38;5;124;43m'\u001b[39;49m\u001b[43m,\u001b[49m\u001b[43m \u001b[49m\u001b[38;5;124;43m'\u001b[39;49m\u001b[38;5;124;43mview\u001b[39;49m\u001b[38;5;124;43m'\u001b[39;49m\u001b[43m,\u001b[49m\u001b[43m \u001b[49m\u001b[38;5;124;43m'\u001b[39;49m\u001b[38;5;124;43mcondition\u001b[39;49m\u001b[38;5;124;43m'\u001b[39;49m\u001b[43m,\u001b[49m\u001b[43m \u001b[49m\u001b[38;5;124;43m'\u001b[39;49m\u001b[38;5;124;43mgrade\u001b[39;49m\u001b[38;5;124;43m'\u001b[39;49m\u001b[43m,\u001b[49m\u001b[43m \u001b[49m\u001b[38;5;124;43m'\u001b[39;49m\u001b[38;5;124;43msqft_above\u001b[39;49m\u001b[38;5;124;43m'\u001b[39;49m\u001b[43m,\u001b[49m\u001b[43m \u001b[49m\u001b[38;5;124;43m'\u001b[39;49m\u001b[38;5;124;43msqft_basement\u001b[39;49m\u001b[38;5;124;43m'\u001b[39;49m\u001b[43m,\u001b[49m\u001b[43m \u001b[49m\u001b[38;5;124;43m'\u001b[39;49m\u001b[38;5;124;43myr_built\u001b[39;49m\u001b[38;5;124;43m'\u001b[39;49m\u001b[43m,\u001b[49m\u001b[43m \u001b[49m\u001b[38;5;124;43m'\u001b[39;49m\u001b[38;5;124;43myr_renovated\u001b[39;49m\u001b[38;5;124;43m'\u001b[39;49m\u001b[43m,\u001b[49m\u001b[43m \u001b[49m\u001b[38;5;124;43m'\u001b[39;49m\u001b[38;5;124;43mlat\u001b[39;49m\u001b[38;5;124;43m'\u001b[39;49m\u001b[43m,\u001b[49m\u001b[43m \u001b[49m\u001b[38;5;124;43m'\u001b[39;49m\u001b[38;5;124;43mlong\u001b[39;49m\u001b[38;5;124;43m'\u001b[39;49m\u001b[43m,\u001b[49m\u001b[43m \u001b[49m\u001b[38;5;124;43m'\u001b[39;49m\u001b[38;5;124;43msqft_living15\u001b[39;49m\u001b[38;5;124;43m'\u001b[39;49m\u001b[43m,\u001b[49m\u001b[43m \u001b[49m\u001b[38;5;124;43m'\u001b[39;49m\u001b[38;5;124;43msqft_lot15\u001b[39;49m\u001b[38;5;124;43m'\u001b[39;49m\u001b[43m]\u001b[49m\u001b[43m]\u001b[49m\n\u001b[0;32m      6\u001b[0m y \u001b[38;5;241m=\u001b[39m data_df\u001b[38;5;241m.\u001b[39mloc[:, \u001b[38;5;124m'\u001b[39m\u001b[38;5;124mSales\u001b[39m\u001b[38;5;124m'\u001b[39m]\n",
      "File \u001b[1;32mc:\\Users\\ReisH\\anaconda\\envs\\dev\\lib\\site-packages\\pandas\\core\\indexing.py:1184\u001b[0m, in \u001b[0;36m_LocationIndexer.__getitem__\u001b[1;34m(self, key)\u001b[0m\n\u001b[0;32m   1182\u001b[0m     \u001b[38;5;28;01mif\u001b[39;00m \u001b[38;5;28mself\u001b[39m\u001b[38;5;241m.\u001b[39m_is_scalar_access(key):\n\u001b[0;32m   1183\u001b[0m         \u001b[38;5;28;01mreturn\u001b[39;00m \u001b[38;5;28mself\u001b[39m\u001b[38;5;241m.\u001b[39mobj\u001b[38;5;241m.\u001b[39m_get_value(\u001b[38;5;241m*\u001b[39mkey, takeable\u001b[38;5;241m=\u001b[39m\u001b[38;5;28mself\u001b[39m\u001b[38;5;241m.\u001b[39m_takeable)\n\u001b[1;32m-> 1184\u001b[0m     \u001b[38;5;28;01mreturn\u001b[39;00m \u001b[38;5;28;43mself\u001b[39;49m\u001b[38;5;241;43m.\u001b[39;49m\u001b[43m_getitem_tuple\u001b[49m\u001b[43m(\u001b[49m\u001b[43mkey\u001b[49m\u001b[43m)\u001b[49m\n\u001b[0;32m   1185\u001b[0m \u001b[38;5;28;01melse\u001b[39;00m:\n\u001b[0;32m   1186\u001b[0m     \u001b[38;5;66;03m# we by definition only have the 0th axis\u001b[39;00m\n\u001b[0;32m   1187\u001b[0m     axis \u001b[38;5;241m=\u001b[39m \u001b[38;5;28mself\u001b[39m\u001b[38;5;241m.\u001b[39maxis \u001b[38;5;129;01mor\u001b[39;00m \u001b[38;5;241m0\u001b[39m\n",
      "File \u001b[1;32mc:\\Users\\ReisH\\anaconda\\envs\\dev\\lib\\site-packages\\pandas\\core\\indexing.py:1377\u001b[0m, in \u001b[0;36m_LocIndexer._getitem_tuple\u001b[1;34m(self, tup)\u001b[0m\n\u001b[0;32m   1374\u001b[0m \u001b[38;5;28;01mif\u001b[39;00m \u001b[38;5;28mself\u001b[39m\u001b[38;5;241m.\u001b[39m_multi_take_opportunity(tup):\n\u001b[0;32m   1375\u001b[0m     \u001b[38;5;28;01mreturn\u001b[39;00m \u001b[38;5;28mself\u001b[39m\u001b[38;5;241m.\u001b[39m_multi_take(tup)\n\u001b[1;32m-> 1377\u001b[0m \u001b[38;5;28;01mreturn\u001b[39;00m \u001b[38;5;28;43mself\u001b[39;49m\u001b[38;5;241;43m.\u001b[39;49m\u001b[43m_getitem_tuple_same_dim\u001b[49m\u001b[43m(\u001b[49m\u001b[43mtup\u001b[49m\u001b[43m)\u001b[49m\n",
      "File \u001b[1;32mc:\\Users\\ReisH\\anaconda\\envs\\dev\\lib\\site-packages\\pandas\\core\\indexing.py:1020\u001b[0m, in \u001b[0;36m_LocationIndexer._getitem_tuple_same_dim\u001b[1;34m(self, tup)\u001b[0m\n\u001b[0;32m   1017\u001b[0m \u001b[38;5;28;01mif\u001b[39;00m com\u001b[38;5;241m.\u001b[39mis_null_slice(key):\n\u001b[0;32m   1018\u001b[0m     \u001b[38;5;28;01mcontinue\u001b[39;00m\n\u001b[1;32m-> 1020\u001b[0m retval \u001b[38;5;241m=\u001b[39m \u001b[38;5;28;43mgetattr\u001b[39;49m\u001b[43m(\u001b[49m\u001b[43mretval\u001b[49m\u001b[43m,\u001b[49m\u001b[43m \u001b[49m\u001b[38;5;28;43mself\u001b[39;49m\u001b[38;5;241;43m.\u001b[39;49m\u001b[43mname\u001b[49m\u001b[43m)\u001b[49m\u001b[38;5;241;43m.\u001b[39;49m\u001b[43m_getitem_axis\u001b[49m\u001b[43m(\u001b[49m\u001b[43mkey\u001b[49m\u001b[43m,\u001b[49m\u001b[43m \u001b[49m\u001b[43maxis\u001b[49m\u001b[38;5;241;43m=\u001b[39;49m\u001b[43mi\u001b[49m\u001b[43m)\u001b[49m\n\u001b[0;32m   1021\u001b[0m \u001b[38;5;66;03m# We should never have retval.ndim < self.ndim, as that should\u001b[39;00m\n\u001b[0;32m   1022\u001b[0m \u001b[38;5;66;03m#  be handled by the _getitem_lowerdim call above.\u001b[39;00m\n\u001b[0;32m   1023\u001b[0m \u001b[38;5;28;01massert\u001b[39;00m retval\u001b[38;5;241m.\u001b[39mndim \u001b[38;5;241m==\u001b[39m \u001b[38;5;28mself\u001b[39m\u001b[38;5;241m.\u001b[39mndim\n",
      "File \u001b[1;32mc:\\Users\\ReisH\\anaconda\\envs\\dev\\lib\\site-packages\\pandas\\core\\indexing.py:1420\u001b[0m, in \u001b[0;36m_LocIndexer._getitem_axis\u001b[1;34m(self, key, axis)\u001b[0m\n\u001b[0;32m   1417\u001b[0m     \u001b[38;5;28;01mif\u001b[39;00m \u001b[38;5;28mhasattr\u001b[39m(key, \u001b[38;5;124m\"\u001b[39m\u001b[38;5;124mndim\u001b[39m\u001b[38;5;124m\"\u001b[39m) \u001b[38;5;129;01mand\u001b[39;00m key\u001b[38;5;241m.\u001b[39mndim \u001b[38;5;241m>\u001b[39m \u001b[38;5;241m1\u001b[39m:\n\u001b[0;32m   1418\u001b[0m         \u001b[38;5;28;01mraise\u001b[39;00m \u001b[38;5;167;01mValueError\u001b[39;00m(\u001b[38;5;124m\"\u001b[39m\u001b[38;5;124mCannot index with multidimensional key\u001b[39m\u001b[38;5;124m\"\u001b[39m)\n\u001b[1;32m-> 1420\u001b[0m     \u001b[38;5;28;01mreturn\u001b[39;00m \u001b[38;5;28;43mself\u001b[39;49m\u001b[38;5;241;43m.\u001b[39;49m\u001b[43m_getitem_iterable\u001b[49m\u001b[43m(\u001b[49m\u001b[43mkey\u001b[49m\u001b[43m,\u001b[49m\u001b[43m \u001b[49m\u001b[43maxis\u001b[49m\u001b[38;5;241;43m=\u001b[39;49m\u001b[43maxis\u001b[49m\u001b[43m)\u001b[49m\n\u001b[0;32m   1422\u001b[0m \u001b[38;5;66;03m# nested tuple slicing\u001b[39;00m\n\u001b[0;32m   1423\u001b[0m \u001b[38;5;28;01mif\u001b[39;00m is_nested_tuple(key, labels):\n",
      "File \u001b[1;32mc:\\Users\\ReisH\\anaconda\\envs\\dev\\lib\\site-packages\\pandas\\core\\indexing.py:1360\u001b[0m, in \u001b[0;36m_LocIndexer._getitem_iterable\u001b[1;34m(self, key, axis)\u001b[0m\n\u001b[0;32m   1357\u001b[0m \u001b[38;5;28mself\u001b[39m\u001b[38;5;241m.\u001b[39m_validate_key(key, axis)\n\u001b[0;32m   1359\u001b[0m \u001b[38;5;66;03m# A collection of keys\u001b[39;00m\n\u001b[1;32m-> 1360\u001b[0m keyarr, indexer \u001b[38;5;241m=\u001b[39m \u001b[38;5;28;43mself\u001b[39;49m\u001b[38;5;241;43m.\u001b[39;49m\u001b[43m_get_listlike_indexer\u001b[49m\u001b[43m(\u001b[49m\u001b[43mkey\u001b[49m\u001b[43m,\u001b[49m\u001b[43m \u001b[49m\u001b[43maxis\u001b[49m\u001b[43m)\u001b[49m\n\u001b[0;32m   1361\u001b[0m \u001b[38;5;28;01mreturn\u001b[39;00m \u001b[38;5;28mself\u001b[39m\u001b[38;5;241m.\u001b[39mobj\u001b[38;5;241m.\u001b[39m_reindex_with_indexers(\n\u001b[0;32m   1362\u001b[0m     {axis: [keyarr, indexer]}, copy\u001b[38;5;241m=\u001b[39m\u001b[38;5;28;01mTrue\u001b[39;00m, allow_dups\u001b[38;5;241m=\u001b[39m\u001b[38;5;28;01mTrue\u001b[39;00m\n\u001b[0;32m   1363\u001b[0m )\n",
      "File \u001b[1;32mc:\\Users\\ReisH\\anaconda\\envs\\dev\\lib\\site-packages\\pandas\\core\\indexing.py:1558\u001b[0m, in \u001b[0;36m_LocIndexer._get_listlike_indexer\u001b[1;34m(self, key, axis)\u001b[0m\n\u001b[0;32m   1555\u001b[0m ax \u001b[38;5;241m=\u001b[39m \u001b[38;5;28mself\u001b[39m\u001b[38;5;241m.\u001b[39mobj\u001b[38;5;241m.\u001b[39m_get_axis(axis)\n\u001b[0;32m   1556\u001b[0m axis_name \u001b[38;5;241m=\u001b[39m \u001b[38;5;28mself\u001b[39m\u001b[38;5;241m.\u001b[39mobj\u001b[38;5;241m.\u001b[39m_get_axis_name(axis)\n\u001b[1;32m-> 1558\u001b[0m keyarr, indexer \u001b[38;5;241m=\u001b[39m \u001b[43max\u001b[49m\u001b[38;5;241;43m.\u001b[39;49m\u001b[43m_get_indexer_strict\u001b[49m\u001b[43m(\u001b[49m\u001b[43mkey\u001b[49m\u001b[43m,\u001b[49m\u001b[43m \u001b[49m\u001b[43maxis_name\u001b[49m\u001b[43m)\u001b[49m\n\u001b[0;32m   1560\u001b[0m \u001b[38;5;28;01mreturn\u001b[39;00m keyarr, indexer\n",
      "File \u001b[1;32mc:\\Users\\ReisH\\anaconda\\envs\\dev\\lib\\site-packages\\pandas\\core\\indexes\\base.py:6200\u001b[0m, in \u001b[0;36mIndex._get_indexer_strict\u001b[1;34m(self, key, axis_name)\u001b[0m\n\u001b[0;32m   6197\u001b[0m \u001b[38;5;28;01melse\u001b[39;00m:\n\u001b[0;32m   6198\u001b[0m     keyarr, indexer, new_indexer \u001b[38;5;241m=\u001b[39m \u001b[38;5;28mself\u001b[39m\u001b[38;5;241m.\u001b[39m_reindex_non_unique(keyarr)\n\u001b[1;32m-> 6200\u001b[0m \u001b[38;5;28;43mself\u001b[39;49m\u001b[38;5;241;43m.\u001b[39;49m\u001b[43m_raise_if_missing\u001b[49m\u001b[43m(\u001b[49m\u001b[43mkeyarr\u001b[49m\u001b[43m,\u001b[49m\u001b[43m \u001b[49m\u001b[43mindexer\u001b[49m\u001b[43m,\u001b[49m\u001b[43m \u001b[49m\u001b[43maxis_name\u001b[49m\u001b[43m)\u001b[49m\n\u001b[0;32m   6202\u001b[0m keyarr \u001b[38;5;241m=\u001b[39m \u001b[38;5;28mself\u001b[39m\u001b[38;5;241m.\u001b[39mtake(indexer)\n\u001b[0;32m   6203\u001b[0m \u001b[38;5;28;01mif\u001b[39;00m \u001b[38;5;28misinstance\u001b[39m(key, Index):\n\u001b[0;32m   6204\u001b[0m     \u001b[38;5;66;03m# GH 42790 - Preserve name from an Index\u001b[39;00m\n",
      "File \u001b[1;32mc:\\Users\\ReisH\\anaconda\\envs\\dev\\lib\\site-packages\\pandas\\core\\indexes\\base.py:6249\u001b[0m, in \u001b[0;36mIndex._raise_if_missing\u001b[1;34m(self, key, indexer, axis_name)\u001b[0m\n\u001b[0;32m   6247\u001b[0m \u001b[38;5;28;01mif\u001b[39;00m nmissing:\n\u001b[0;32m   6248\u001b[0m     \u001b[38;5;28;01mif\u001b[39;00m nmissing \u001b[38;5;241m==\u001b[39m \u001b[38;5;28mlen\u001b[39m(indexer):\n\u001b[1;32m-> 6249\u001b[0m         \u001b[38;5;28;01mraise\u001b[39;00m \u001b[38;5;167;01mKeyError\u001b[39;00m(\u001b[38;5;124mf\u001b[39m\u001b[38;5;124m\"\u001b[39m\u001b[38;5;124mNone of [\u001b[39m\u001b[38;5;132;01m{\u001b[39;00mkey\u001b[38;5;132;01m}\u001b[39;00m\u001b[38;5;124m] are in the [\u001b[39m\u001b[38;5;132;01m{\u001b[39;00maxis_name\u001b[38;5;132;01m}\u001b[39;00m\u001b[38;5;124m]\u001b[39m\u001b[38;5;124m\"\u001b[39m)\n\u001b[0;32m   6251\u001b[0m     not_found \u001b[38;5;241m=\u001b[39m \u001b[38;5;28mlist\u001b[39m(ensure_index(key)[missing_mask\u001b[38;5;241m.\u001b[39mnonzero()[\u001b[38;5;241m0\u001b[39m]]\u001b[38;5;241m.\u001b[39munique())\n\u001b[0;32m   6252\u001b[0m     \u001b[38;5;28;01mraise\u001b[39;00m \u001b[38;5;167;01mKeyError\u001b[39;00m(\u001b[38;5;124mf\u001b[39m\u001b[38;5;124m\"\u001b[39m\u001b[38;5;132;01m{\u001b[39;00mnot_found\u001b[38;5;132;01m}\u001b[39;00m\u001b[38;5;124m not in index\u001b[39m\u001b[38;5;124m\"\u001b[39m)\n",
      "\u001b[1;31mKeyError\u001b[0m: \"None of [Index(['zipcode', 'bedrooms', 'bathrooms', 'sqft_living', 'sqft_lot', 'floors',\\n       'waterfront', 'view', 'condition', 'grade', 'sqft_above',\\n       'sqft_basement', 'yr_built', 'yr_renovated', 'lat', 'long',\\n       'sqft_living15', 'sqft_lot15'],\\n      dtype='object')] are in the [columns]\""
     ]
    }
   ],
   "source": [
    "# Convert the data dictionary to a DataFrame.\n",
    "data_df = pd.DataFrame(data)\n",
    "\n",
    "# Split the data into features and target variable.\n",
    "X = data_df.loc[:, ['zipcode', 'bedrooms', 'bathrooms', 'sqft_living', 'sqft_lot', 'floors', 'waterfront', 'view', 'condition', 'grade', 'sqft_above', 'sqft_basement', 'yr_built', 'yr_renovated', 'lat', 'long', 'sqft_living15', 'sqft_lot15']]\n",
    "y = data_df.loc[:, 'Sales']"
   ]
  },
  {
   "cell_type": "code",
   "execution_count": null,
   "metadata": {},
   "outputs": [],
   "source": [
    "# Split the data into training and testing sets.\n",
    "X_train, X_test, y_train, y_test = train_test_split(X, y, test_size=0.2, random_state=42)\n"
   ]
  },
  {
   "cell_type": "code",
   "execution_count": null,
   "metadata": {},
   "outputs": [],
   "source": [
    "#**Input Python code to load the historical housing data obtained from the ATTOM API or other sources. Ensure the data includes features like property attributes, location data, and market performance metrics.**\n",
    "\n",
    "# Load the historical housing data from the ATTOM API.\n",
    "import requests\n",
    "import json"
   ]
  },
  {
   "cell_type": "code",
   "execution_count": null,
   "metadata": {},
   "outputs": [],
   "source": [
    "\n",
    "# Python code to load dataset goes here\n",
    "# Load the historical housing data from the CSV file.\n",
    "data = pd.read_csv('data.csv')"
   ]
  },
  {
   "cell_type": "markdown",
   "metadata": {},
   "source": [
    "# Exploratory Data Analysis (EDA)\n",
    "                                 "
   ]
  },
  {
   "cell_type": "markdown",
   "metadata": {
    "trusted": true
   },
   "source": [
    "**Objectives:**\n",
    "Understand the dataset's structure and quality.\n",
    "Identify the most important features.\n",
    "Visualize the relationships between features and the target variable.\n",
    "Identify any potential issues with the data.\n"
   ]
  },
  {
   "cell_type": "code",
   "execution_count": null,
   "metadata": {},
   "outputs": [],
   "source": [
    "# Display the distribution of the target variable.\n",
    "plt.figure(figsize=(10, 6))\n",
    "sns.histplot(data['Sales'], kde=True)\n",
    "plt.title('Distribution of Sales')\n",
    "plt.show()"
   ]
  },
  {
   "cell_type": "code",
   "execution_count": 79,
   "metadata": {},
   "outputs": [
    {
     "ename": "TypeError",
     "evalue": "unhashable type: 'list'",
     "output_type": "error",
     "traceback": [
      "\u001b[1;31m---------------------------------------------------------------------------\u001b[0m",
      "\u001b[1;31mTypeError\u001b[0m                                 Traceback (most recent call last)",
      "Cell \u001b[1;32mIn[79], line 3\u001b[0m\n\u001b[0;32m      1\u001b[0m \u001b[38;5;66;03m# Explore distributions, relationships, and trends in the data.\u001b[39;00m\n\u001b[0;32m      2\u001b[0m plt\u001b[38;5;241m.\u001b[39mfigure(figsize\u001b[38;5;241m=\u001b[39m(\u001b[38;5;241m12\u001b[39m, \u001b[38;5;241m8\u001b[39m))\n\u001b[1;32m----> 3\u001b[0m sns\u001b[38;5;241m.\u001b[39mpairplot(\u001b[43mdata\u001b[49m\u001b[43m[\u001b[49m\u001b[43m[\u001b[49m\u001b[38;5;124;43m'\u001b[39;49m\u001b[38;5;124;43mzipcode\u001b[39;49m\u001b[38;5;124;43m'\u001b[39;49m\u001b[43m,\u001b[49m\u001b[43m \u001b[49m\u001b[38;5;124;43m'\u001b[39;49m\u001b[38;5;124;43mbedrooms\u001b[39;49m\u001b[38;5;124;43m'\u001b[39;49m\u001b[43m,\u001b[49m\u001b[43m \u001b[49m\u001b[38;5;124;43m'\u001b[39;49m\u001b[38;5;124;43mbathrooms\u001b[39;49m\u001b[38;5;124;43m'\u001b[39;49m\u001b[43m,\u001b[49m\u001b[43m \u001b[49m\u001b[38;5;124;43m'\u001b[39;49m\u001b[38;5;124;43msqft_living\u001b[39;49m\u001b[38;5;124;43m'\u001b[39;49m\u001b[43m,\u001b[49m\u001b[43m \u001b[49m\u001b[38;5;124;43m'\u001b[39;49m\u001b[38;5;124;43msqft_lot\u001b[39;49m\u001b[38;5;124;43m'\u001b[39;49m\u001b[43m,\u001b[49m\u001b[43m \u001b[49m\u001b[38;5;124;43m'\u001b[39;49m\u001b[38;5;124;43mfloors\u001b[39;49m\u001b[38;5;124;43m'\u001b[39;49m\u001b[43m,\u001b[49m\u001b[43m \u001b[49m\u001b[38;5;124;43m'\u001b[39;49m\u001b[38;5;124;43mwaterfront\u001b[39;49m\u001b[38;5;124;43m'\u001b[39;49m\u001b[43m,\u001b[49m\u001b[43m \u001b[49m\u001b[38;5;124;43m'\u001b[39;49m\u001b[38;5;124;43mview\u001b[39;49m\u001b[38;5;124;43m'\u001b[39;49m\u001b[43m,\u001b[49m\u001b[43m \u001b[49m\u001b[38;5;124;43m'\u001b[39;49m\u001b[38;5;124;43mcondition\u001b[39;49m\u001b[38;5;124;43m'\u001b[39;49m\u001b[43m,\u001b[49m\u001b[43m \u001b[49m\u001b[38;5;124;43m'\u001b[39;49m\u001b[38;5;124;43mgrade\u001b[39;49m\u001b[38;5;124;43m'\u001b[39;49m\u001b[43m,\u001b[49m\u001b[43m \u001b[49m\u001b[38;5;124;43m'\u001b[39;49m\u001b[38;5;124;43msqft_above\u001b[39;49m\u001b[38;5;124;43m'\u001b[39;49m\u001b[43m,\u001b[49m\u001b[43m \u001b[49m\u001b[38;5;124;43m'\u001b[39;49m\u001b[38;5;124;43msqft_basement\u001b[39;49m\u001b[38;5;124;43m'\u001b[39;49m\u001b[43m,\u001b[49m\u001b[43m \u001b[49m\u001b[38;5;124;43m'\u001b[39;49m\u001b[38;5;124;43myr_built\u001b[39;49m\u001b[38;5;124;43m'\u001b[39;49m\u001b[43m,\u001b[49m\u001b[43m \u001b[49m\u001b[38;5;124;43m'\u001b[39;49m\u001b[38;5;124;43myr_renovated\u001b[39;49m\u001b[38;5;124;43m'\u001b[39;49m\u001b[43m,\u001b[49m\u001b[43m \u001b[49m\u001b[38;5;124;43m'\u001b[39;49m\u001b[38;5;124;43mlat\u001b[39;49m\u001b[38;5;124;43m'\u001b[39;49m\u001b[43m,\u001b[49m\u001b[43m \u001b[49m\u001b[38;5;124;43m'\u001b[39;49m\u001b[38;5;124;43mlong\u001b[39;49m\u001b[38;5;124;43m'\u001b[39;49m\u001b[43m,\u001b[49m\u001b[43m \u001b[49m\u001b[38;5;124;43m'\u001b[39;49m\u001b[38;5;124;43msqft_living15\u001b[39;49m\u001b[38;5;124;43m'\u001b[39;49m\u001b[43m,\u001b[49m\u001b[43m \u001b[49m\u001b[38;5;124;43m'\u001b[39;49m\u001b[38;5;124;43msqft_lot15\u001b[39;49m\u001b[38;5;124;43m'\u001b[39;49m\u001b[43m,\u001b[49m\u001b[43m \u001b[49m\u001b[38;5;124;43m'\u001b[39;49m\u001b[38;5;124;43mSales\u001b[39;49m\u001b[38;5;124;43m'\u001b[39;49m\u001b[43m]\u001b[49m\u001b[43m]\u001b[49m)\n\u001b[0;32m      4\u001b[0m plt\u001b[38;5;241m.\u001b[39mshow()\n",
      "\u001b[1;31mTypeError\u001b[0m: unhashable type: 'list'"
     ]
    },
    {
     "data": {
      "text/plain": [
       "<Figure size 1200x800 with 0 Axes>"
      ]
     },
     "metadata": {},
     "output_type": "display_data"
    }
   ],
   "source": [
    "# Explore distributions, relationships, and trends in the data.\n",
    "plt.figure(figsize=(12, 8))\n",
    "sns.pairplot(data[['zipcode', 'bedrooms', 'bathrooms', 'sqft_living', 'sqft_lot', 'floors', 'waterfront', 'view', 'condition', 'grade', 'sqft_above', 'sqft_basement', 'yr_built', 'yr_renovated', 'lat', 'long', 'sqft_living15', 'sqft_lot15', 'Sales']])\n",
    "plt.show()"
   ]
  },
  {
   "cell_type": "code",
   "execution_count": null,
   "metadata": {},
   "outputs": [],
   "source": [
    "\n",
    "# Identify potential outliers and anomalies.\n",
    "plt.figure(figsize=(12, 6))\n",
    "sns.boxplot(x=data['Sales'])\n",
    "plt.title('Boxplot of Sales')\n",
    "plt.show()"
   ]
  },
  {
   "cell_type": "code",
   "execution_count": null,
   "metadata": {},
   "outputs": [],
   "source": [
    "# Check for missing or inconsistent data.\n",
    "data.isnull().sum()"
   ]
  },
  {
   "cell_type": "code",
   "execution_count": null,
   "metadata": {},
   "outputs": [],
   "source": [
    "# Display summary statistics and data structure.\n",
    "data.info()"
   ]
  },
  {
   "cell_type": "code",
   "execution_count": null,
   "metadata": {},
   "outputs": [],
   "source": [
    "#**Model Building**\n",
    "\n",
    "# Visualize data distributions (e.g., histograms, boxplots).\n",
    "plt.figure(figsize=(12, 8))\n",
    "sns.histplot(data['Sales'], kde=True)\n",
    "plt.title('Distribution of Sales')\n",
    "plt.show()\n"
   ]
  },
  {
   "cell_type": "code",
   "execution_count": null,
   "metadata": {},
   "outputs": [],
   "source": [
    "\n",
    "# Explore relationships using scatter plots and heatmaps.\n",
    "plt.figure(figsize=(12, 8))\n",
    "sns.scatterplot(x='sqft_living', y='Sales', data=data)\n",
    "plt.title('Sales vs. Sqft Living')\n",
    "plt.show()\n"
   ]
  },
  {
   "cell_type": "code",
   "execution_count": null,
   "metadata": {},
   "outputs": [],
   "source": [
    "\n",
    "# Display the distribution of the target variable.\n",
    "plt.figure(figsize=(10, 6))\n",
    "sns.histplot(data['Sales'], kde=True)\n",
    "plt.title('Distribution of Sales')\n",
    "plt.show()\n"
   ]
  },
  {
   "cell_type": "markdown",
   "metadata": {},
   "source": [
    "# Data Preprocessing\n"
   ]
  },
  {
   "cell_type": "code",
   "execution_count": null,
   "metadata": {},
   "outputs": [],
   "source": [
    "# Check for missing or inconsistent data.\n",
    "missing_data = data.isnull().sum()\n",
    "print(\"Missing data points per column:\\n\", missing_data)\n",
    "\n",
    "# Display summary statistics and data structure.\n",
    "print(data.info())\n",
    "print(data.describe())\n"
   ]
  },
  {
   "cell_type": "code",
   "execution_count": null,
   "metadata": {},
   "outputs": [],
   "source": [
    "# Visualize data distributions (e.g., histograms, boxplots).\n",
    "plt.figure(figsize=(10, 6))\n",
    "sns.boxplot(data=data)\n",
    "plt.title('Boxplot of Data Distributions')\n",
    "plt.show()\n"
   ]
  },
  {
   "cell_type": "code",
   "execution_count": null,
   "metadata": {},
   "outputs": [],
   "source": [
    "# Explore relationships using scatter plots and heatmaps.\n",
    "plt.figure(figsize=(10, 8))\n",
    "sns.heatmap(data.corr(), annot=True, cmap='coolwarm')\n",
    "plt.title('Correlation Heatmap')\n",
    "plt.show()"
   ]
  },
  {
   "cell_type": "code",
   "execution_count": null,
   "metadata": {},
   "outputs": [],
   "source": [
    "# Calculate the number of missing values in each column.\n",
    "missing_values = data.isnull().sum()"
   ]
  },
  {
   "cell_type": "code",
   "execution_count": null,
   "metadata": {
    "trusted": true
   },
   "outputs": [],
   "source": [
    "# Impute missing values or drop rows with missing data.\n",
    "data.fillna(data.mean(), inplace=True)\n",
    "data.dropna(inplace=True)"
   ]
  },
  {
   "cell_type": "code",
   "execution_count": null,
   "metadata": {},
   "outputs": [],
   "source": [
    "# Handle outliers.\n",
    "data = data[data['Sales'] < 1000000]\n",
    "data = data[data['sqft_living'] < 5000]"
   ]
  },
  {
   "cell_type": "code",
   "execution_count": null,
   "metadata": {},
   "outputs": [],
   "source": [
    "# Display the number of missing values in each column.\n",
    "# Identify outliers using boxplots and scatter plots.\n",
    "plt.figure(figsize=(10, 6))"
   ]
  },
  {
   "cell_type": "code",
   "execution_count": null,
   "metadata": {},
   "outputs": [],
   "source": [
    "# Encode categorical variables.\n",
    "data = pd.get_dummies(data, columns=['zipcode'])"
   ]
  },
  {
   "cell_type": "code",
   "execution_count": null,
   "metadata": {},
   "outputs": [],
   "source": [
    "# Split the data into features and target variable.\n",
    "X = data.drop(columns=['Sales'])\n",
    "y = data['Sales']"
   ]
  },
  {
   "cell_type": "code",
   "execution_count": null,
   "metadata": {},
   "outputs": [],
   "source": [
    "# Scale numerical features for improved model performance.\n",
    "from sklearn.preprocessing import StandardScaler\n",
    "scaler = StandardScaler()\n",
    "data_scaled = scaler.fit_transform(data)\n",
    "data_scaled = pd.DataFrame(data_scaled, columns=data.columns)"
   ]
  },
  {
   "cell_type": "code",
   "execution_count": null,
   "metadata": {},
   "outputs": [],
   "source": [
    "# Split data into training and testing sets.\n",
    "X = data.drop('Sales', axis=1)\n",
    "y = data['Sales']\n",
    "X_train, X_test, y_train, y_test = train_test_split(X, y, test_size=0.2, random_state=42)"
   ]
  },
  {
   "cell_type": "markdown",
   "metadata": {},
   "source": [
    "# Feature Engineering\n",
    "### Objectives: \n",
    "- Create new features based on domain knowledge (e.g., price per square foot, proximity to amenities).\n",
    "- Select the most relevant features for the model using feature importance or correlation analysis."
   ]
  },
  {
   "cell_type": "code",
   "execution_count": null,
   "metadata": {
    "trusted": true
   },
   "outputs": [],
   "source": [
    "# Python code for feature engineering goes here\n",
    "data['age'] = 2022 - data['yr_built']\n",
    "data['renovated'] = data['yr_renovated'].apply(lambda x: 1 if x > 0 else 0)\n",
    "data['sqft_ratio'] = data['sqft_above'] / data['sqft_living']\n",
    "data['sqft_total'] = data['sqft_living'] + data['sqft_lot']\n",
    "data['sqft_total15'] = data['sqft_living15'] + data['sqft_lot15']\n"
   ]
  },
  {
   "cell_type": "markdown",
   "metadata": {},
   "source": [
    "# Model Training\n",
    "### Objectives:\n",
    "- Train the selected machine learning model on the training dataset.\n",
    "- Optimize the model using techniques like grid search or random search for hyperparameter tuning."
   ]
  },
  {
   "cell_type": "code",
   "execution_count": null,
   "metadata": {
    "trusted": true
   },
   "outputs": [],
   "source": [
    "# Train the model\n",
    "model = LinearRegression()\n",
    "model.fit(X_train, y_train)\n"
   ]
  },
  {
   "cell_type": "code",
   "execution_count": null,
   "metadata": {},
   "outputs": [],
   "source": [
    "\n",
    "# Make predictions\n",
    "y_pred = model.predict(X_test)\n"
   ]
  },
  {
   "cell_type": "code",
   "execution_count": null,
   "metadata": {},
   "outputs": [],
   "source": [
    "# Hyperparameter tuning\n",
    "from sklearn.model_selection import GridSearchCV\n",
    "param_grid = {'fit_intercept': [True, False], 'normalize': [True, False]}\n",
    "grid = GridSearchCV(model, param_grid, cv=5)\n",
    "grid.fit(X_train, y_train)\n",
    "print(grid.best_params_)\n",
    "print(grid.best_score_)\n",
    "model = grid.best_estimator_\n"
   ]
  },
  {
   "cell_type": "code",
   "execution_count": null,
   "metadata": {},
   "outputs": [],
   "source": [
    "# Python code for optimizing the model goes here\n",
    "from sklearn.ensemble import RandomForestRegressor\n",
    "model = RandomForestRegressor(n_estimators=100, random_state=42)\n",
    "model.fit(X_train, y_train)\n",
    "y_pred = model.predict(X_test)\n",
    "mse = mean_squared_error(y_test, y_pred)\n",
    "print(\"Mean Squared Error:\", mse)\n"
   ]
  },
  {
   "cell_type": "markdown",
   "metadata": {},
   "source": [
    "# Model Evaluation\n",
    "### Objectives:\n",
    "- Evaluate the trained model's performance on the test dataset using metrics such as:\n",
    "    - Mean Absolute Error (MAE)\n",
    "    - Root Mean Squared Error (RMSE)\n",
    "    - R² Score\n",
    "- Visualize predictions vs. actual values to assess model accuracy."
   ]
  },
  {
   "cell_type": "code",
   "execution_count": null,
   "metadata": {
    "trusted": true
   },
   "outputs": [],
   "source": [
    "# Python code for model evaluation goes here\n",
    "from sklearn.metrics import r2_score\n",
    "r2 = r2_score(y_test, y_pred)\n",
    "print(\"R^2 Score:\", r2)"
   ]
  },
  {
   "cell_type": "markdown",
   "metadata": {},
   "source": [
    "# Model Deployment\n",
    "### Objectives:\n",
    "- Save the trained model using a library like joblib or pickle.\n",
    "- Create a function or API to make predictions based on user input."
   ]
  },
  {
   "cell_type": "code",
   "execution_count": null,
   "metadata": {
    "trusted": true
   },
   "outputs": [],
   "source": [
    "# Save the model\n",
    "import joblib\n",
    "joblib.dump(model, 'model.pkl')\n"
   ]
  },
  {
   "cell_type": "code",
   "execution_count": null,
   "metadata": {},
   "outputs": [],
   "source": [
    "# Load the model\n",
    "model = joblib.load('model.pkl')\n"
   ]
  },
  {
   "cell_type": "code",
   "execution_count": null,
   "metadata": {},
   "outputs": [],
   "source": [
    "# Create a prediction function\n",
    "def predict(data):\n",
    "    X = pd.DataFrame(data, index=[0])\n",
    "    prediction = model.predict(X)\n",
    "    return prediction[0]\n"
   ]
  },
  {
   "cell_type": "code",
   "execution_count": null,
   "metadata": {},
   "outputs": [],
   "source": [
    "# Python code for prediction logic goes here\n",
    "data = {'zipcode': 98103, 'bedrooms': 3, 'bathrooms': 2, 'sqft_living': 2000, 'sqft_lot': 5000, 'floors': 2, 'waterfront': 0, 'view': 0, 'condition': 3, 'grade': 7, 'sqft_above': 1500, 'sqft_basement': 500, 'yr_built': 1990, 'yr_renovated': 0, 'lat': 47.65, 'long': -122.33, 'sqft_living15': 1500, 'sqft_lot15': 5000}\n",
    "prediction = predict(data)\n",
    "print(\"Predicted Sales Price:\", prediction)"
   ]
  },
  {
   "cell_type": "markdown",
   "metadata": {},
   "source": [
    "# User Interface and Integration\n",
    "### Objectives:\n",
    "- Build a user-friendly interface (e.g., web app or CLI) for buyers and sellers to input property attributes and view predicted prices.\n",
    "- Integrate the model with real-time or updated data sources to keep predictions current."
   ]
  },
  {
   "cell_type": "code",
   "execution_count": null,
   "metadata": {
    "trusted": true
   },
   "outputs": [],
   "source": [
    "# Python code for building user interface or integration goes here\n",
    "# Import Flask and other libraries\n",
    "from flask import Flask, request, jsonify\n"
   ]
  },
  {
   "cell_type": "markdown",
   "metadata": {
    "trusted": true
   },
   "source": [
    "# Conclusion and Future Improvements\n",
    "### Summary:\n",
    "Recap the results and effectiveness of the trained model.\n",
    "Discuss potential improvements, such as:\n",
    "- Adding more data from diverse sources.\n",
    "- Enhancing the feature set with additional external factors (e.g., economic indicators, weather data).\n",
    "- Refining the user interface for better usability.\n"
   ]
  },
  {
   "cell_type": "markdown",
   "metadata": {
    "trusted": true
   },
   "source": [
    "# Next Steps\n",
    "- Implement the outlined code for each section to build the SmartPrice Navigator model.\n",
    "- Continuously refine the pipeline based on user feedback and additional data insights."
   ]
  },
  {
   "cell_type": "markdown",
   "metadata": {},
   "source": [
    "# References\n",
    "- [ATTOM API Documentation](https://www.attomdata.com/)\n",
    "- [Flask Documentation](https://flask.palletsprojects.com/)\n",
    "- [Joblib Documentation](https://joblib.readthedocs.io/)\n",
    "- [Matplotlib Documentation](https://matplotlib.org/)\n",
    "- [Numpy Documentation](https://numpy.org/doc/)\n",
    "- [Pandas Documentation](https://pandas.pydata.org/docs/)\n",
    "- [Python Standard Library](https://docs.python.org/3/library/)\n",
    "- [Scikit-learn Documentation](https://scikit-learn.org/stable/)\n",
    "- [Seaborn Documentation](https://seaborn.pydata.org/)\n",
    "- Any other relevant resources"
   ]
  }
 ],
 "metadata": {
  "kernelspec": {
   "display_name": "dev",
   "language": "python",
   "name": "python3"
  },
  "language_info": {
   "codemirror_mode": {
    "name": "ipython",
    "version": 3
   },
   "file_extension": ".py",
   "mimetype": "text/x-python",
   "name": "python",
   "nbconvert_exporter": "python",
   "pygments_lexer": "ipython3",
   "version": "3.10.14"
  }
 },
 "nbformat": 4,
 "nbformat_minor": 4
}
