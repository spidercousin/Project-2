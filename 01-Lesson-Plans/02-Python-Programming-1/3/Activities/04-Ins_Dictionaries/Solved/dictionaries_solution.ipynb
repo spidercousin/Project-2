{
 "cells": [
  {
   "cell_type": "code",
   "execution_count": 1,
   "metadata": {},
   "outputs": [],
   "source": [
    "# Create a dictionary to hold the actor's names.\n",
    "actors = {}"
   ]
  },
  {
   "cell_type": "code",
   "execution_count": 2,
   "metadata": {},
   "outputs": [],
   "source": [
    "# Create a dictionary using the built-in function.\n",
    "actors = dict()"
   ]
  },
  {
   "cell_type": "code",
   "execution_count": 3,
   "metadata": {},
   "outputs": [
    {
     "name": "stdout",
     "output_type": "stream",
     "text": [
      "Tom Cruise\n"
     ]
    }
   ],
   "source": [
    "# A dictionary of an actor.\n",
    "actors = {\"name\": \"Tom Cruise\"}\n",
    "print(f'{actors[\"name\"]}')"
   ]
  },
  {
   "cell_type": "code",
   "execution_count": 4,
   "metadata": {},
   "outputs": [],
   "source": [
    "# Add an actor to the dictionary with the key \"name\"\n",
    "# and the value \"Denzel Washington\".\n",
    "actors[\"name\"] = \"Denzel Washington\""
   ]
  },
  {
   "cell_type": "code",
   "execution_count": 5,
   "metadata": {},
   "outputs": [
    {
     "name": "stdout",
     "output_type": "stream",
     "text": [
      "Denzel Washington\n"
     ]
    }
   ],
   "source": [
    "\n",
    "# Print only the actor.\n",
    "print(f'{actors[\"name\"]}')\n"
   ]
  },
  {
   "cell_type": "code",
   "execution_count": 6,
   "metadata": {},
   "outputs": [],
   "source": [
    "# A list of actors\n",
    "actors_list = [\n",
    "    \"Tom Cruise\",\n",
    "    \"Angelina Jolie\",\n",
    "    \"Kristen Stewart\",\n",
    "    \"Denzel Washington\"]"
   ]
  },
  {
   "cell_type": "code",
   "execution_count": 7,
   "metadata": {},
   "outputs": [],
   "source": [
    "# Overwrite the value, \"Denzel Washington\", with the list of actors.\n",
    "actors[\"name\"] = actors_list"
   ]
  },
  {
   "cell_type": "code",
   "execution_count": 8,
   "metadata": {},
   "outputs": [
    {
     "name": "stdout",
     "output_type": "stream",
     "text": [
      "Tom Cruise\n"
     ]
    }
   ],
   "source": [
    "# Print the first actor\n",
    "print(f'{actors[\"name\"][0]}')"
   ]
  },
  {
   "cell_type": "code",
   "execution_count": 9,
   "metadata": {},
   "outputs": [],
   "source": [
    "# A dictionary can contain multiple pairs of information\n",
    "actress = {\n",
    "    \"name\": \"Angelina Jolie\",\n",
    "    \"genre\": \"Action\",\n",
    "    \"nationality\": \"United States\"\n",
    "}\n"
   ]
  },
  {
   "cell_type": "code",
   "execution_count": 10,
   "metadata": {},
   "outputs": [
    {
     "name": "stdout",
     "output_type": "stream",
     "text": [
      "Sylvester Stallone was in Rocky\n"
     ]
    }
   ],
   "source": [
    "\n",
    "# A dictionary can contain multiple types of information\n",
    "another_actor = {\n",
    "    \"name\": \"Sylvester Stallone\",\n",
    "    \"age\": 62,\n",
    "    \"married\": True,\n",
    "    \"best movies\": [\n",
    "        \"Rocky\",\n",
    "        \"Rocky 2\",\n",
    "        \"Rocky 3\"]}\n",
    "print(f'{another_actor[\"name\"]} was in {another_actor[\"best movies\"][0]}')"
   ]
  },
  {
   "cell_type": "code",
   "execution_count": 12,
   "metadata": {},
   "outputs": [
    {
     "name": "stdout",
     "output_type": "stream",
     "text": [
      "Interstellar made 360 million dollars in the US.\n"
     ]
    }
   ],
   "source": [
    "# A dictionary can even contain another dictionary\n",
    "film = {\n",
    "    \"title\": \"Interstellar\",\n",
    "    \"revenues\": {\n",
    "        \"United States\": 360,\n",
    "        \"China\": 250,\n",
    "        \"United Kingdom\": 73\n",
    "    }\n",
    "}\n",
    "print(f'{film[\"title\"]} made {film[\"revenues\"][\"United States\"]}'\" million dollars in the US.\")\n"
   ]
  },
  {
   "cell_type": "code",
   "execution_count": 14,
   "metadata": {},
   "outputs": [],
   "source": [
    "# Create our film dictionary\n",
    "film = {\n",
    "    \"title\": \"Everything Everywhere All At Once\",\n",
    "    \"director\": [\"Daniel Kwan\", \"Daniel Scheinert\"],\n",
    "    \"cast\": [\n",
    "        \"Michelle Yeoh\",\n",
    "        \"Ke Huy Quan\",\n",
    "        \"Jamie Lee Curtis\",\n",
    "        \"Stephanie Hsu\",\n",
    "        \"James Hong\",\n",
    "        \"Jenny Slate\",\n",
    "        \"Harry Shum Jr.\",\n",
    "        \"Tallie Medel\"\n",
    "    ],\n",
    "    \"distributor\": \"A24\",\n",
    "    \"box_office_in_millions\": {\n",
    "        \"us\": 72.1,\n",
    "        \"uk\": 6.2,\n",
    "        \"canada\": 5.1,\n",
    "        \"australia\": 4.5\n",
    "    },\n",
    "    \"release_date\": {\n",
    "        \"us\": \"April 8, 2022\",\n",
    "        \"uk\": \"May 13, 2022\",\n",
    "        \"canada\": \"March 25, 2022\",\n",
    "        \"australia\": \"April 14, 2022\"\n",
    "    }\n",
    "}"
   ]
  },
  {
   "cell_type": "code",
   "execution_count": 15,
   "metadata": {},
   "outputs": [
    {
     "name": "stdout",
     "output_type": "stream",
     "text": [
      "dict_keys(['title', 'director', 'cast', 'distributor', 'box_office_in_millions', 'release_date'])\n"
     ]
    }
   ],
   "source": [
    "# If we don't know all of the keys in the dictionary that we\n",
    "# may want to access, we can use keys() to list them for us\n",
    "print(film.keys())"
   ]
  },
  {
   "cell_type": "code",
   "execution_count": 16,
   "metadata": {},
   "outputs": [
    {
     "name": "stdout",
     "output_type": "stream",
     "text": [
      "dict_values(['Everything Everywhere All At Once', ['Daniel Kwan', 'Daniel Scheinert'], ['Michelle Yeoh', 'Ke Huy Quan', 'Jamie Lee Curtis', 'Stephanie Hsu', 'James Hong', 'Jenny Slate', 'Harry Shum Jr.', 'Tallie Medel'], 'A24', {'us': 72.1, 'uk': 6.2, 'canada': 5.1, 'australia': 4.5}, {'us': 'April 8, 2022', 'uk': 'May 13, 2022', 'canada': 'March 25, 2022', 'australia': 'April 14, 2022'}])\n"
     ]
    }
   ],
   "source": [
    "# We may also just want to access a dictionary's values\n",
    "\n",
    "print(film.values())"
   ]
  },
  {
   "cell_type": "code",
   "execution_count": 17,
   "metadata": {},
   "outputs": [
    {
     "name": "stdout",
     "output_type": "stream",
     "text": [
      "dict_items([('title', 'Everything Everywhere All At Once'), ('director', ['Daniel Kwan', 'Daniel Scheinert']), ('cast', ['Michelle Yeoh', 'Ke Huy Quan', 'Jamie Lee Curtis', 'Stephanie Hsu', 'James Hong', 'Jenny Slate', 'Harry Shum Jr.', 'Tallie Medel']), ('distributor', 'A24'), ('box_office_in_millions', {'us': 72.1, 'uk': 6.2, 'canada': 5.1, 'australia': 4.5}), ('release_date', {'us': 'April 8, 2022', 'uk': 'May 13, 2022', 'canada': 'March 25, 2022', 'australia': 'April 14, 2022'})])\n"
     ]
    }
   ],
   "source": [
    "# And we can access each item in the dictionary as a key-value pair\n",
    "# as a list of tuples in the format [(key, value)]\n",
    "\n",
    "print(film.items())"
   ]
  },
  {
   "cell_type": "code",
   "execution_count": 18,
   "metadata": {},
   "outputs": [
    {
     "name": "stdout",
     "output_type": "stream",
     "text": [
      "\n",
      "Using for key in film:\n",
      "title\n",
      "director\n",
      "cast\n",
      "distributor\n",
      "box_office_in_millions\n",
      "release_date\n"
     ]
    }
   ],
   "source": [
    "# Using these dictionary methods, we can iterate through different\n",
    "# parts of the dictionary.\n",
    "\n",
    "# There are two ways to loop through the keys\n",
    "print(\"\\nUsing for key in film:\")\n",
    "for key in film:\n",
    "    print(key)"
   ]
  },
  {
   "cell_type": "code",
   "execution_count": 19,
   "metadata": {},
   "outputs": [
    {
     "name": "stdout",
     "output_type": "stream",
     "text": [
      "\n",
      "Using for key in film.keys():\n",
      "title\n",
      "director\n",
      "cast\n",
      "distributor\n",
      "box_office_in_millions\n",
      "release_date\n"
     ]
    }
   ],
   "source": [
    "print(\"\\nUsing for key in film.keys():\")\n",
    "for key in film.keys():\n",
    "    print(key)"
   ]
  },
  {
   "cell_type": "code",
   "execution_count": 20,
   "metadata": {},
   "outputs": [
    {
     "name": "stdout",
     "output_type": "stream",
     "text": [
      "\n",
      "for value in film.values():\n",
      "Everything Everywhere All At Once\n",
      "['Daniel Kwan', 'Daniel Scheinert']\n",
      "['Michelle Yeoh', 'Ke Huy Quan', 'Jamie Lee Curtis', 'Stephanie Hsu', 'James Hong', 'Jenny Slate', 'Harry Shum Jr.', 'Tallie Medel']\n",
      "A24\n",
      "{'us': 72.1, 'uk': 6.2, 'canada': 5.1, 'australia': 4.5}\n",
      "{'us': 'April 8, 2022', 'uk': 'May 13, 2022', 'canada': 'March 25, 2022', 'australia': 'April 14, 2022'}\n"
     ]
    }
   ],
   "source": [
    "# Looping through a dictionary's values must use the values() method\n",
    "print(\"\\nfor value in film.values():\")\n",
    "for value in film.values():\n",
    "    print(value)"
   ]
  },
  {
   "cell_type": "code",
   "execution_count": 21,
   "metadata": {},
   "outputs": [
    {
     "name": "stdout",
     "output_type": "stream",
     "text": [
      "\n",
      "for key, value in film.items():\n",
      "--------------------------------------------------\n",
      "Key: title\n",
      "Value: Everything Everywhere All At Once\n",
      "--------------------------------------------------\n",
      "Key: director\n",
      "Value: ['Daniel Kwan', 'Daniel Scheinert']\n",
      "--------------------------------------------------\n",
      "Key: cast\n",
      "Value: ['Michelle Yeoh', 'Ke Huy Quan', 'Jamie Lee Curtis', 'Stephanie Hsu', 'James Hong', 'Jenny Slate', 'Harry Shum Jr.', 'Tallie Medel']\n",
      "--------------------------------------------------\n",
      "Key: distributor\n",
      "Value: A24\n",
      "--------------------------------------------------\n",
      "Key: box_office_in_millions\n",
      "Value: {'us': 72.1, 'uk': 6.2, 'canada': 5.1, 'australia': 4.5}\n",
      "--------------------------------------------------\n",
      "Key: release_date\n",
      "Value: {'us': 'April 8, 2022', 'uk': 'May 13, 2022', 'canada': 'March 25, 2022', 'australia': 'April 14, 2022'}\n"
     ]
    }
   ],
   "source": [
    "# When looping through each item in a dictionary, we unpack the (key, value)\n",
    "# tuple so we can use them separately\n",
    "print(\"\\nfor key, value in film.items():\")\n",
    "for key, value in film.items():\n",
    "    print(\"-\" * 50)\n",
    "    print(f\"Key: {key}\\nValue: {value}\" )"
   ]
  },
  {
   "cell_type": "code",
   "execution_count": null,
   "metadata": {},
   "outputs": [],
   "source": []
  }
 ],
 "metadata": {
  "kernelspec": {
   "display_name": "base",
   "language": "python",
   "name": "python3"
  },
  "language_info": {
   "codemirror_mode": {
    "name": "ipython",
    "version": 3
   },
   "file_extension": ".py",
   "mimetype": "text/x-python",
   "name": "python",
   "nbconvert_exporter": "python",
   "pygments_lexer": "ipython3",
   "version": "3.7.10"
  }
 },
 "nbformat": 4,
 "nbformat_minor": 2
}
