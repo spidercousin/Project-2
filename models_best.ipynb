{
 "cells": [
  {
   "cell_type": "code",
   "execution_count": 25,
   "id": "9d67c2c8-3ac5-4472-962e-98b1422b511b",
   "metadata": {},
   "outputs": [],
   "source": [
    "import pandas as pd\n",
    "import numpy as np\n",
    "from sklearn.model_selection import train_test_split, GridSearchCV\n",
    "from sklearn.preprocessing import StandardScaler, OneHotEncoder\n",
    "from sklearn.compose import ColumnTransformer\n",
    "from sklearn.pipeline import Pipeline\n",
    "from sklearn.ensemble import GradientBoostingRegressor\n",
    "from sklearn.metrics import mean_squared_error, r2_score"
   ]
  },
  {
   "cell_type": "code",
   "execution_count": 26,
   "id": "1d1efac8-4bae-4b84-ae8b-97102dae992f",
   "metadata": {},
   "outputs": [],
   "source": [
    "try:\n",
    "    file = pd.read_csv('Cleaned.csv')\n",
    "    df = pd.DataFrame(file)\n",
    "except FileNotFoundError:\n",
    "    print(\"The file 'Cleaned.csv' was not found.\")\n",
    "    raise"
   ]
  },
  {
   "cell_type": "code",
   "execution_count": 27,
   "id": "41e43572-46ff-4f31-9de4-6d4f0035d9e8",
   "metadata": {},
   "outputs": [],
   "source": [
    "# Separate features and target\n",
    "X = df.drop('price', axis=1)\n",
    "y = df['price']"
   ]
  },
  {
   "cell_type": "code",
   "execution_count": 28,
   "id": "cd44cd11-597c-4312-b270-63bd589243c1",
   "metadata": {},
   "outputs": [],
   "source": [
    "# Identify categorical and numerical features\n",
    "categorical_features = ['county', 'propertyType']\n",
    "numerical_features = ['bedrooms', 'bathrooms', 'squareFootage', 'lotSize', 'yearBuilt']\n"
   ]
  },
  {
   "cell_type": "code",
   "execution_count": 29,
   "id": "cec8225e-8070-4e1c-8a3d-6e9986e248ad",
   "metadata": {},
   "outputs": [],
   "source": [
    "# Check for missing values\n",
    "if X.isnull().any().any() or y.isnull().any():\n",
    "    print(\"Handling missing values...\")\n",
    "    # Impute missing values\n",
    "    for col in numerical_features:\n",
    "        X[col].fillna(X[col].median(), inplace=True)\n",
    "    for col in categorical_features:\n",
    "        X[col].fillna(X[col].mode()[0], inplace=True)\n",
    "    y.fillna(y.median(), inplace=True)"
   ]
  },
  {
   "cell_type": "code",
   "execution_count": 30,
   "id": "e022410e-e5ba-4e14-98bc-4e2d9209c2fd",
   "metadata": {},
   "outputs": [],
   "source": [
    "# Combine preprocessing steps\n",
    "preprocessor = ColumnTransformer(\n",
    "    transformers=[\n",
    "        ('num', numerical_transformer, numerical_features),\n",
    "        ('cat', categorical_transformer, categorical_features)\n",
    "    ]\n",
    ")"
   ]
  },
  {
   "cell_type": "code",
   "execution_count": 31,
   "id": "872124ae-54b3-4ec7-9aac-bd642a5817ab",
   "metadata": {},
   "outputs": [],
   "source": [
    "from sklearn.linear_model import LinearRegression, Ridge, Lasso, ElasticNet\n",
    "from sklearn.ensemble import RandomForestRegressor\n",
    "\n",
    "# Define models and their hyperparameters\n",
    "models = {\n",
    "    'Linear Regression': (LinearRegression(), {}),\n",
    "    'Ridge Regression': (Ridge(random_state=1), {'model__alpha': [0.1, 1.0, 10.0]}),\n",
    "    'Lasso Regression': (Lasso(random_state=1), {'model__alpha': [0.1, 1.0, 10.0]}),\n",
    "    'Elastic Net Regression': (ElasticNet(random_state=1), {'model__alpha': [0.1, 1.0, 10.0], 'model__l1_ratio': [0.1, 0.5, 0.9]}),\n",
    "    'Random Forest Regression': (RandomForestRegressor(random_state=1), {'model__n_estimators': [100, 200], 'model__max_depth': [None, 10, 20]})\n",
    "}"
   ]
  },
  {
   "cell_type": "code",
   "execution_count": 32,
   "id": "2e38e892-e26c-4ff9-a00d-43b11efc8aab",
   "metadata": {},
   "outputs": [],
   "source": [
    "# Create a pipeline\n",
    "pipeline = Pipeline(steps=[('preprocessor', preprocessor),\n",
    "                             ('model', model)])"
   ]
  },
  {
   "cell_type": "code",
   "execution_count": 33,
   "id": "d68ff698-aab8-40b9-9f0a-6e830fced214",
   "metadata": {},
   "outputs": [],
   "source": [
    "# Split data\n",
    "X_train, X_test, y_train, y_test = train_test_split(X, y, test_size=0.2, random_state=1)"
   ]
  },
  {
   "cell_type": "code",
   "execution_count": 35,
   "id": "acfcf1c8-1b17-40c4-91d8-88f07dc995ca",
   "metadata": {},
   "outputs": [],
   "source": [
    "# Perform hyperparameter tuning\n",
    "param_grid = {\n",
    "    'model__n_estimators': [100, 200, 300],\n",
    "    'model__learning_rate': [0.01, 0.05, 0.1],\n",
    "    'model__max_depth': [3, 4, 5]\n",
    "}\n"
   ]
  },
  {
   "cell_type": "code",
   "execution_count": null,
   "id": "918c8bf1",
   "metadata": {},
   "outputs": [],
   "source": []
  },
  {
   "cell_type": "code",
   "execution_count": 36,
   "id": "662e9564-55b4-4a8b-aa49-135d3cef4d31",
   "metadata": {},
   "outputs": [
    {
     "name": "stdout",
     "output_type": "stream",
     "text": [
      "Starting Grid Search...\n",
      "Fitting 5 folds for each of 27 candidates, totalling 135 fits\n",
      "[CV] END model__learning_rate=0.01, model__max_depth=3, model__n_estimators=100; total time=   9.5s\n",
      "[CV] END model__learning_rate=0.01, model__max_depth=3, model__n_estimators=100; total time=   9.1s\n",
      "[CV] END model__learning_rate=0.01, model__max_depth=3, model__n_estimators=100; total time=   8.4s\n",
      "[CV] END model__learning_rate=0.01, model__max_depth=3, model__n_estimators=100; total time=   9.9s\n",
      "[CV] END model__learning_rate=0.01, model__max_depth=3, model__n_estimators=100; total time=   9.0s\n",
      "[CV] END model__learning_rate=0.01, model__max_depth=3, model__n_estimators=200; total time=  19.0s\n",
      "[CV] END model__learning_rate=0.01, model__max_depth=3, model__n_estimators=200; total time=  16.2s\n",
      "[CV] END model__learning_rate=0.01, model__max_depth=3, model__n_estimators=200; total time=  16.5s\n",
      "[CV] END model__learning_rate=0.01, model__max_depth=3, model__n_estimators=200; total time=  21.3s\n",
      "[CV] END model__learning_rate=0.01, model__max_depth=3, model__n_estimators=200; total time=  27.9s\n",
      "[CV] END model__learning_rate=0.01, model__max_depth=3, model__n_estimators=300; total time= 1.0min\n",
      "[CV] END model__learning_rate=0.01, model__max_depth=3, model__n_estimators=300; total time= 1.0min\n",
      "[CV] END model__learning_rate=0.01, model__max_depth=3, model__n_estimators=300; total time=  41.5s\n",
      "[CV] END model__learning_rate=0.01, model__max_depth=3, model__n_estimators=300; total time=  33.2s\n",
      "[CV] END model__learning_rate=0.01, model__max_depth=3, model__n_estimators=300; total time=  40.0s\n",
      "[CV] END model__learning_rate=0.01, model__max_depth=4, model__n_estimators=100; total time=  17.6s\n",
      "[CV] END model__learning_rate=0.01, model__max_depth=4, model__n_estimators=100; total time=  16.5s\n",
      "[CV] END model__learning_rate=0.01, model__max_depth=4, model__n_estimators=100; total time=  16.8s\n",
      "[CV] END model__learning_rate=0.01, model__max_depth=4, model__n_estimators=100; total time=  18.3s\n",
      "[CV] END model__learning_rate=0.01, model__max_depth=4, model__n_estimators=100; total time=  38.8s\n",
      "[CV] END model__learning_rate=0.01, model__max_depth=4, model__n_estimators=200; total time= 1.5min\n",
      "[CV] END model__learning_rate=0.01, model__max_depth=4, model__n_estimators=200; total time= 1.5min\n",
      "[CV] END model__learning_rate=0.01, model__max_depth=4, model__n_estimators=200; total time= 1.6min\n",
      "[CV] END model__learning_rate=0.01, model__max_depth=4, model__n_estimators=200; total time= 1.8min\n",
      "[CV] END model__learning_rate=0.01, model__max_depth=4, model__n_estimators=200; total time= 2.5min\n",
      "[CV] END model__learning_rate=0.01, model__max_depth=4, model__n_estimators=300; total time= 3.0min\n",
      "[CV] END model__learning_rate=0.01, model__max_depth=4, model__n_estimators=300; total time= 6.5min\n",
      "[CV] END model__learning_rate=0.01, model__max_depth=4, model__n_estimators=300; total time= 2.6min\n",
      "[CV] END model__learning_rate=0.01, model__max_depth=4, model__n_estimators=300; total time= 1.3min\n",
      "[CV] END model__learning_rate=0.01, model__max_depth=4, model__n_estimators=300; total time=  50.1s\n",
      "[CV] END model__learning_rate=0.01, model__max_depth=5, model__n_estimators=100; total time=  22.0s\n",
      "[CV] END model__learning_rate=0.01, model__max_depth=5, model__n_estimators=100; total time=  22.2s\n",
      "[CV] END model__learning_rate=0.01, model__max_depth=5, model__n_estimators=100; total time=  26.2s\n",
      "[CV] END model__learning_rate=0.01, model__max_depth=5, model__n_estimators=100; total time=  36.8s\n",
      "[CV] END model__learning_rate=0.01, model__max_depth=5, model__n_estimators=100; total time=  48.6s\n",
      "[CV] END model__learning_rate=0.01, model__max_depth=5, model__n_estimators=200; total time=  48.8s\n",
      "[CV] END model__learning_rate=0.01, model__max_depth=5, model__n_estimators=200; total time=  54.7s\n",
      "[CV] END model__learning_rate=0.01, model__max_depth=5, model__n_estimators=200; total time=  57.5s\n",
      "[CV] END model__learning_rate=0.01, model__max_depth=5, model__n_estimators=200; total time= 1.1min\n",
      "[CV] END model__learning_rate=0.01, model__max_depth=5, model__n_estimators=200; total time= 1.2min\n",
      "[CV] END model__learning_rate=0.01, model__max_depth=5, model__n_estimators=300; total time= 1.4min\n",
      "[CV] END model__learning_rate=0.01, model__max_depth=5, model__n_estimators=300; total time= 1.3min\n",
      "[CV] END model__learning_rate=0.01, model__max_depth=5, model__n_estimators=300; total time=  45.8s\n",
      "[CV] END model__learning_rate=0.01, model__max_depth=5, model__n_estimators=300; total time=  42.0s\n",
      "[CV] END model__learning_rate=0.01, model__max_depth=5, model__n_estimators=300; total time=  42.2s\n",
      "[CV] END model__learning_rate=0.05, model__max_depth=3, model__n_estimators=100; total time=   7.6s\n",
      "[CV] END model__learning_rate=0.05, model__max_depth=3, model__n_estimators=100; total time=   7.1s\n",
      "[CV] END model__learning_rate=0.05, model__max_depth=3, model__n_estimators=100; total time=   7.3s\n",
      "[CV] END model__learning_rate=0.05, model__max_depth=3, model__n_estimators=100; total time=   7.0s\n",
      "[CV] END model__learning_rate=0.05, model__max_depth=3, model__n_estimators=100; total time=   7.5s\n",
      "[CV] END model__learning_rate=0.05, model__max_depth=3, model__n_estimators=200; total time=  14.2s\n",
      "[CV] END model__learning_rate=0.05, model__max_depth=3, model__n_estimators=200; total time=  14.3s\n",
      "[CV] END model__learning_rate=0.05, model__max_depth=3, model__n_estimators=200; total time=  14.3s\n",
      "[CV] END model__learning_rate=0.05, model__max_depth=3, model__n_estimators=200; total time=  13.9s\n",
      "[CV] END model__learning_rate=0.05, model__max_depth=3, model__n_estimators=200; total time=  15.1s\n",
      "[CV] END model__learning_rate=0.05, model__max_depth=3, model__n_estimators=300; total time=  22.7s\n",
      "[CV] END model__learning_rate=0.05, model__max_depth=3, model__n_estimators=300; total time=  21.4s\n",
      "[CV] END model__learning_rate=0.05, model__max_depth=3, model__n_estimators=300; total time=  22.1s\n",
      "[CV] END model__learning_rate=0.05, model__max_depth=3, model__n_estimators=300; total time=  25.1s\n",
      "[CV] END model__learning_rate=0.05, model__max_depth=3, model__n_estimators=300; total time=  33.3s\n",
      "[CV] END model__learning_rate=0.05, model__max_depth=4, model__n_estimators=100; total time=  32.0s\n",
      "[CV] END model__learning_rate=0.05, model__max_depth=4, model__n_estimators=100; total time=  39.4s\n",
      "[CV] END model__learning_rate=0.05, model__max_depth=4, model__n_estimators=100; total time=  35.6s\n",
      "[CV] END model__learning_rate=0.05, model__max_depth=4, model__n_estimators=100; total time=  32.4s\n",
      "[CV] END model__learning_rate=0.05, model__max_depth=4, model__n_estimators=100; total time=  31.6s\n",
      "[CV] END model__learning_rate=0.05, model__max_depth=4, model__n_estimators=200; total time= 1.0min\n",
      "[CV] END model__learning_rate=0.05, model__max_depth=4, model__n_estimators=200; total time=  46.6s\n",
      "[CV] END model__learning_rate=0.05, model__max_depth=4, model__n_estimators=200; total time=  50.0s\n",
      "[CV] END model__learning_rate=0.05, model__max_depth=4, model__n_estimators=200; total time=  33.8s\n",
      "[CV] END model__learning_rate=0.05, model__max_depth=4, model__n_estimators=200; total time=  33.9s\n",
      "[CV] END model__learning_rate=0.05, model__max_depth=4, model__n_estimators=300; total time=  48.9s\n",
      "[CV] END model__learning_rate=0.05, model__max_depth=4, model__n_estimators=300; total time=  52.0s\n",
      "[CV] END model__learning_rate=0.05, model__max_depth=4, model__n_estimators=300; total time=  51.3s\n",
      "[CV] END model__learning_rate=0.05, model__max_depth=4, model__n_estimators=300; total time=  50.5s\n",
      "[CV] END model__learning_rate=0.05, model__max_depth=4, model__n_estimators=300; total time=  52.3s\n",
      "[CV] END model__learning_rate=0.05, model__max_depth=5, model__n_estimators=100; total time=  23.8s\n",
      "[CV] END model__learning_rate=0.05, model__max_depth=5, model__n_estimators=100; total time=  27.4s\n",
      "[CV] END model__learning_rate=0.05, model__max_depth=5, model__n_estimators=100; total time=  35.2s\n",
      "[CV] END model__learning_rate=0.05, model__max_depth=5, model__n_estimators=100; total time=  29.7s\n",
      "[CV] END model__learning_rate=0.05, model__max_depth=5, model__n_estimators=100; total time=  42.7s\n",
      "[CV] END model__learning_rate=0.05, model__max_depth=5, model__n_estimators=200; total time= 1.1min\n",
      "[CV] END model__learning_rate=0.05, model__max_depth=5, model__n_estimators=200; total time= 1.2min\n",
      "[CV] END model__learning_rate=0.05, model__max_depth=5, model__n_estimators=200; total time= 1.2min\n",
      "[CV] END model__learning_rate=0.05, model__max_depth=5, model__n_estimators=200; total time= 1.4min\n",
      "[CV] END model__learning_rate=0.05, model__max_depth=5, model__n_estimators=200; total time=  56.4s\n",
      "[CV] END model__learning_rate=0.05, model__max_depth=5, model__n_estimators=300; total time= 1.4min\n",
      "[CV] END model__learning_rate=0.05, model__max_depth=5, model__n_estimators=300; total time= 1.1min\n",
      "[CV] END model__learning_rate=0.05, model__max_depth=5, model__n_estimators=300; total time= 1.3min\n",
      "[CV] END model__learning_rate=0.05, model__max_depth=5, model__n_estimators=300; total time= 1.2min\n",
      "[CV] END model__learning_rate=0.05, model__max_depth=5, model__n_estimators=300; total time= 1.1min\n",
      "[CV] END model__learning_rate=0.1, model__max_depth=3, model__n_estimators=100; total time=  13.6s\n",
      "[CV] END model__learning_rate=0.1, model__max_depth=3, model__n_estimators=100; total time=  14.4s\n",
      "[CV] END model__learning_rate=0.1, model__max_depth=3, model__n_estimators=100; total time=  15.3s\n",
      "[CV] END model__learning_rate=0.1, model__max_depth=3, model__n_estimators=100; total time=  14.5s\n",
      "[CV] END model__learning_rate=0.1, model__max_depth=3, model__n_estimators=100; total time=  14.2s\n",
      "[CV] END model__learning_rate=0.1, model__max_depth=3, model__n_estimators=200; total time=  26.9s\n",
      "[CV] END model__learning_rate=0.1, model__max_depth=3, model__n_estimators=200; total time=  19.0s\n",
      "[CV] END model__learning_rate=0.1, model__max_depth=3, model__n_estimators=200; total time=  15.2s\n",
      "[CV] END model__learning_rate=0.1, model__max_depth=3, model__n_estimators=200; total time=  16.9s\n",
      "[CV] END model__learning_rate=0.1, model__max_depth=3, model__n_estimators=200; total time=  15.4s\n",
      "[CV] END model__learning_rate=0.1, model__max_depth=3, model__n_estimators=300; total time=  26.6s\n",
      "[CV] END model__learning_rate=0.1, model__max_depth=3, model__n_estimators=300; total time=  21.1s\n",
      "[CV] END model__learning_rate=0.1, model__max_depth=3, model__n_estimators=300; total time=  22.1s\n",
      "[CV] END model__learning_rate=0.1, model__max_depth=3, model__n_estimators=300; total time=  21.6s\n",
      "[CV] END model__learning_rate=0.1, model__max_depth=3, model__n_estimators=300; total time=  20.6s\n",
      "[CV] END model__learning_rate=0.1, model__max_depth=4, model__n_estimators=100; total time=   9.8s\n",
      "[CV] END model__learning_rate=0.1, model__max_depth=4, model__n_estimators=100; total time=  10.0s\n",
      "[CV] END model__learning_rate=0.1, model__max_depth=4, model__n_estimators=100; total time=  10.7s\n",
      "[CV] END model__learning_rate=0.1, model__max_depth=4, model__n_estimators=100; total time=  10.7s\n",
      "[CV] END model__learning_rate=0.1, model__max_depth=4, model__n_estimators=100; total time=   9.5s\n",
      "[CV] END model__learning_rate=0.1, model__max_depth=4, model__n_estimators=200; total time=  19.2s\n",
      "[CV] END model__learning_rate=0.1, model__max_depth=4, model__n_estimators=200; total time=  18.9s\n",
      "[CV] END model__learning_rate=0.1, model__max_depth=4, model__n_estimators=200; total time=  18.9s\n",
      "[CV] END model__learning_rate=0.1, model__max_depth=4, model__n_estimators=200; total time=  18.9s\n",
      "[CV] END model__learning_rate=0.1, model__max_depth=4, model__n_estimators=200; total time=  19.0s\n",
      "[CV] END model__learning_rate=0.1, model__max_depth=4, model__n_estimators=300; total time=  29.8s\n",
      "[CV] END model__learning_rate=0.1, model__max_depth=4, model__n_estimators=300; total time=  28.6s\n",
      "[CV] END model__learning_rate=0.1, model__max_depth=4, model__n_estimators=300; total time=  28.6s\n",
      "[CV] END model__learning_rate=0.1, model__max_depth=4, model__n_estimators=300; total time=  29.7s\n",
      "[CV] END model__learning_rate=0.1, model__max_depth=4, model__n_estimators=300; total time=  28.5s\n",
      "[CV] END model__learning_rate=0.1, model__max_depth=5, model__n_estimators=100; total time=  12.2s\n",
      "[CV] END model__learning_rate=0.1, model__max_depth=5, model__n_estimators=100; total time=  13.1s\n",
      "[CV] END model__learning_rate=0.1, model__max_depth=5, model__n_estimators=100; total time=  12.6s\n",
      "[CV] END model__learning_rate=0.1, model__max_depth=5, model__n_estimators=100; total time=  12.6s\n",
      "[CV] END model__learning_rate=0.1, model__max_depth=5, model__n_estimators=100; total time=  12.3s\n",
      "[CV] END model__learning_rate=0.1, model__max_depth=5, model__n_estimators=200; total time=  24.5s\n",
      "[CV] END model__learning_rate=0.1, model__max_depth=5, model__n_estimators=200; total time=  24.4s\n",
      "[CV] END model__learning_rate=0.1, model__max_depth=5, model__n_estimators=200; total time=  24.3s\n",
      "[CV] END model__learning_rate=0.1, model__max_depth=5, model__n_estimators=200; total time=  24.1s\n",
      "[CV] END model__learning_rate=0.1, model__max_depth=5, model__n_estimators=200; total time=  30.1s\n",
      "[CV] END model__learning_rate=0.1, model__max_depth=5, model__n_estimators=300; total time=  37.4s\n",
      "[CV] END model__learning_rate=0.1, model__max_depth=5, model__n_estimators=300; total time=  38.6s\n",
      "[CV] END model__learning_rate=0.1, model__max_depth=5, model__n_estimators=300; total time=  37.1s\n",
      "[CV] END model__learning_rate=0.1, model__max_depth=5, model__n_estimators=300; total time=  36.7s\n",
      "[CV] END model__learning_rate=0.1, model__max_depth=5, model__n_estimators=300; total time=  38.0s\n",
      "Grid Search complete.\n"
     ]
    }
   ],
   "source": [
    "print(\"Starting Grid Search...\")\n",
    "grid_search = GridSearchCV(pipeline, param_grid, cv=5, scoring='neg_mean_squared_error', verbose=2)\n",
    "grid_search.fit(X_train, y_train)\n",
    "print(\"Grid Search complete.\")"
   ]
  },
  {
   "cell_type": "code",
   "execution_count": 38,
   "id": "f05615ab-c4f5-498c-81af-e84cde0a3f55",
   "metadata": {},
   "outputs": [
    {
     "name": "stdout",
     "output_type": "stream",
     "text": [
      "Best Parameters for GradientBoostingRegressor: {'model__learning_rate': 0.1, 'model__max_depth': 5, 'model__n_estimators': 300}\n",
      "Best Score for GradientBoostingRegressor: 141348165476.88568\n",
      "Best Model for GradientBoostingRegressor: Pipeline(steps=[('preprocessor',\n",
      "                 ColumnTransformer(transformers=[('num', StandardScaler(),\n",
      "                                                  ['bedrooms', 'bathrooms',\n",
      "                                                   'squareFootage', 'lotSize',\n",
      "                                                   'yearBuilt']),\n",
      "                                                 ('cat',\n",
      "                                                  OneHotEncoder(handle_unknown='ignore'),\n",
      "                                                  ['county',\n",
      "                                                   'propertyType'])])),\n",
      "                ('model',\n",
      "                 GradientBoostingRegressor(max_depth=5, n_estimators=300,\n",
      "                                           random_state=1))])\n",
      "\n"
     ]
    }
   ],
   "source": [
    "# Best parameters and model\n",
    "best_model = grid_search.best_estimator_\n",
    "model_name = type(best_model.named_steps['model']).__name__\n",
    "print(f\"Best Parameters for {model_name}:\", grid_search.best_params_)\n",
    "print(f\"Best Score for {model_name}:\", -grid_search.best_score_)\n",
    "print(f\"Best Model for {model_name}:\", best_model)\n",
    "print()\n"
   ]
  },
  {
   "cell_type": "code",
   "execution_count": 40,
   "id": "197185ce-c6c0-4055-a52e-90b2602852d5",
   "metadata": {},
   "outputs": [
    {
     "name": "stdout",
     "output_type": "stream",
     "text": [
      "Evaluating GradientBoostingRegressor on the test set...\n",
      "Mean Squared Error for GradientBoostingRegressor: 130811946782.38727\n",
      "R² Score for GradientBoostingRegressor: 0.8307493505977925\n"
     ]
    }
   ],
   "source": [
    "# Predictions and evaluation\n",
    "print(f\"Evaluating {model_name} on the test set...\")\n",
    "y_pred = best_model.predict(X_test)\n",
    "mse = mean_squared_error(y_test, y_pred)\n",
    "r2 = r2_score(y_test, y_pred)\n",
    "print(f\"Mean Squared Error for {model_name}:\", mse)\n",
    "print(f\"R² Score for {model_name}:\", r2)"
   ]
  },
  {
   "cell_type": "code",
   "execution_count": 42,
   "id": "b8a3ceee-504d-4f2c-9ab2-0b6ef646d738",
   "metadata": {},
   "outputs": [
    {
     "name": "stdout",
     "output_type": "stream",
     "text": [
      "Results saved to regression_results_GradientBoostingRegressor.csv.\n",
      "\n"
     ]
    }
   ],
   "source": [
    "# Save results to CSV for analysis\n",
    "results = pd.DataFrame({'Actual': y_test, 'Predicted': y_pred})\n",
    "results.to_csv(f'regression_results_{model_name.replace(\" \", \"_\")}.csv', index=False)\n",
    "print(f\"Results saved to regression_results_{model_name.replace(' ', '_')}.csv.\\n\")"
   ]
  },
  {
   "cell_type": "code",
   "execution_count": null,
   "id": "6c1c61ac",
   "metadata": {},
   "outputs": [],
   "source": [
    "#save the best model\n",
    "import joblib\n",
    "joblib.dump(best_model, 'best_model.pkl')\n",
    "print(\"Best model saved as best_model.pkl.\")\n"
   ]
  },
  {
   "cell_type": "code",
   "execution_count": null,
   "id": "f66cbb52-1f9c-413b-917e-058901493841",
   "metadata": {},
   "outputs": [],
   "source": []
  }
 ],
 "metadata": {
  "kernelspec": {
   "display_name": "dev",
   "language": "python",
   "name": "python3"
  },
  "language_info": {
   "codemirror_mode": {
    "name": "ipython",
    "version": 3
   },
   "file_extension": ".py",
   "mimetype": "text/x-python",
   "name": "python",
   "nbconvert_exporter": "python",
   "pygments_lexer": "ipython3",
   "version": "3.10.14"
  }
 },
 "nbformat": 4,
 "nbformat_minor": 5
}
