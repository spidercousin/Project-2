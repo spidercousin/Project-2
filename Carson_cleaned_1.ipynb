{
 "cells": [
  {
   "cell_type": "code",
   "execution_count": 2,
   "metadata": {},
   "outputs": [
    {
     "name": "stderr",
     "output_type": "stream",
     "text": [
      "C:\\Users\\carson\\AppData\\Local\\Temp\\ipykernel_27644\\2931859851.py:4: DtypeWarning: Columns (11,12,13,20,21) have mixed types. Specify dtype option on import or set low_memory=False.\n",
      "  file = pd.read_csv('utah_sales_20241203_201859.csv')\n"
     ]
    }
   ],
   "source": [
    "import pandas as pd\n",
    "import numpy as np\n",
    "from sklearn.preprocessing import LabelEncoder\n",
    "file = pd.read_csv('utah_sales_20241203_201859.csv')\n",
    "df = pd.DataFrame(file)"
   ]
  },
  {
   "cell_type": "code",
   "execution_count": 3,
   "metadata": {},
   "outputs": [
    {
     "data": {
      "text/html": [
       "<div>\n",
       "<style scoped>\n",
       "    .dataframe tbody tr th:only-of-type {\n",
       "        vertical-align: middle;\n",
       "    }\n",
       "\n",
       "    .dataframe tbody tr th {\n",
       "        vertical-align: top;\n",
       "    }\n",
       "\n",
       "    .dataframe thead th {\n",
       "        text-align: right;\n",
       "    }\n",
       "</style>\n",
       "<table border=\"1\" class=\"dataframe\">\n",
       "  <thead>\n",
       "    <tr style=\"text-align: right;\">\n",
       "      <th></th>\n",
       "      <th>id</th>\n",
       "      <th>formattedAddress</th>\n",
       "      <th>addressLine1</th>\n",
       "      <th>addressLine2</th>\n",
       "      <th>city</th>\n",
       "      <th>state</th>\n",
       "      <th>zipCode</th>\n",
       "      <th>county</th>\n",
       "      <th>latitude</th>\n",
       "      <th>longitude</th>\n",
       "      <th>...</th>\n",
       "      <th>squareFootage</th>\n",
       "      <th>lotSize</th>\n",
       "      <th>yearBuilt</th>\n",
       "      <th>status</th>\n",
       "      <th>price</th>\n",
       "      <th>listedDate</th>\n",
       "      <th>removedDate</th>\n",
       "      <th>createdDate</th>\n",
       "      <th>lastSeenDate</th>\n",
       "      <th>daysOnMarket</th>\n",
       "    </tr>\n",
       "  </thead>\n",
       "  <tbody>\n",
       "    <tr>\n",
       "      <th>0</th>\n",
       "      <td>231-S-Virginia-St,-Kaysville,-UT-84037</td>\n",
       "      <td>231 S Virginia St, Kaysville, UT 84037</td>\n",
       "      <td>231 S Virginia St</td>\n",
       "      <td>NaN</td>\n",
       "      <td>Kaysville</td>\n",
       "      <td>UT</td>\n",
       "      <td>84037</td>\n",
       "      <td>Davis</td>\n",
       "      <td>41.031291</td>\n",
       "      <td>-111.934739</td>\n",
       "      <td>...</td>\n",
       "      <td>862.0</td>\n",
       "      <td>4792.0</td>\n",
       "      <td>1941.0</td>\n",
       "      <td>Inactive</td>\n",
       "      <td>360000</td>\n",
       "      <td>2024-01-05T00:00:00.000Z</td>\n",
       "      <td>2024-04-06T00:00:00.000Z</td>\n",
       "      <td>2023-12-08T00:00:00.000Z</td>\n",
       "      <td>2024-04-05T00:00:00.000Z</td>\n",
       "      <td>92.0</td>\n",
       "    </tr>\n",
       "    <tr>\n",
       "      <th>1</th>\n",
       "      <td>3157-Monroe-Blvd,-Ogden,-UT-84403</td>\n",
       "      <td>3157 Monroe Blvd, Ogden, UT 84403</td>\n",
       "      <td>3157 Monroe Blvd</td>\n",
       "      <td>NaN</td>\n",
       "      <td>Ogden</td>\n",
       "      <td>UT</td>\n",
       "      <td>84403</td>\n",
       "      <td>Weber</td>\n",
       "      <td>41.206655</td>\n",
       "      <td>-111.959974</td>\n",
       "      <td>...</td>\n",
       "      <td>1750.0</td>\n",
       "      <td>4792.0</td>\n",
       "      <td>1941.0</td>\n",
       "      <td>Inactive</td>\n",
       "      <td>314999</td>\n",
       "      <td>2024-01-05T00:00:00.000Z</td>\n",
       "      <td>2024-04-06T00:00:00.000Z</td>\n",
       "      <td>2024-01-06T00:00:00.000Z</td>\n",
       "      <td>2024-04-05T00:00:00.000Z</td>\n",
       "      <td>92.0</td>\n",
       "    </tr>\n",
       "    <tr>\n",
       "      <th>2</th>\n",
       "      <td>1988-Stone-Creek-Rd,-Unit-19,-Park-City,-UT-84098</td>\n",
       "      <td>1988 Stone Creek Rd, Unit 19, Park City, UT 84098</td>\n",
       "      <td>1988 Stone Creek Rd</td>\n",
       "      <td>Unit 19</td>\n",
       "      <td>Park City</td>\n",
       "      <td>UT</td>\n",
       "      <td>84098</td>\n",
       "      <td>Summit</td>\n",
       "      <td>40.683172</td>\n",
       "      <td>-111.549270</td>\n",
       "      <td>...</td>\n",
       "      <td>2082.0</td>\n",
       "      <td>NaN</td>\n",
       "      <td>2025.0</td>\n",
       "      <td>Inactive</td>\n",
       "      <td>2790000</td>\n",
       "      <td>2024-01-10T00:00:00.000Z</td>\n",
       "      <td>2024-04-06T00:00:00.000Z</td>\n",
       "      <td>2022-07-27T14:22:11.749Z</td>\n",
       "      <td>2024-04-05T00:00:00.000Z</td>\n",
       "      <td>87.0</td>\n",
       "    </tr>\n",
       "    <tr>\n",
       "      <th>3</th>\n",
       "      <td>1990-Stone-Creek-Rd,-Unit-20,-Park-City,-UT-84098</td>\n",
       "      <td>1990 Stone Creek Rd, Unit 20, Park City, UT 84098</td>\n",
       "      <td>1990 Stone Creek Rd</td>\n",
       "      <td>Unit 20</td>\n",
       "      <td>Park City</td>\n",
       "      <td>UT</td>\n",
       "      <td>84098</td>\n",
       "      <td>Summit</td>\n",
       "      <td>40.683081</td>\n",
       "      <td>-111.549202</td>\n",
       "      <td>...</td>\n",
       "      <td>2533.0</td>\n",
       "      <td>NaN</td>\n",
       "      <td>2025.0</td>\n",
       "      <td>Inactive</td>\n",
       "      <td>3190000</td>\n",
       "      <td>2024-01-10T00:00:00.000Z</td>\n",
       "      <td>2024-04-06T00:00:00.000Z</td>\n",
       "      <td>2022-07-27T14:24:30.407Z</td>\n",
       "      <td>2024-04-05T00:00:00.000Z</td>\n",
       "      <td>87.0</td>\n",
       "    </tr>\n",
       "    <tr>\n",
       "      <th>4</th>\n",
       "      <td>4398-N-2525-W,-Cedar-City,-UT-84721</td>\n",
       "      <td>4398 N 2525 W, Cedar City, UT 84721</td>\n",
       "      <td>4398 N 2525 W</td>\n",
       "      <td>NaN</td>\n",
       "      <td>Cedar City</td>\n",
       "      <td>UT</td>\n",
       "      <td>84721</td>\n",
       "      <td>Iron</td>\n",
       "      <td>37.757465</td>\n",
       "      <td>-113.097258</td>\n",
       "      <td>...</td>\n",
       "      <td>3000.0</td>\n",
       "      <td>21780.0</td>\n",
       "      <td>2021.0</td>\n",
       "      <td>Inactive</td>\n",
       "      <td>540000</td>\n",
       "      <td>2024-01-12T00:00:00.000Z</td>\n",
       "      <td>2024-04-06T00:00:00.000Z</td>\n",
       "      <td>2023-12-31T00:00:00.000Z</td>\n",
       "      <td>2024-04-05T00:00:00.000Z</td>\n",
       "      <td>85.0</td>\n",
       "    </tr>\n",
       "  </tbody>\n",
       "</table>\n",
       "<p>5 rows × 23 columns</p>\n",
       "</div>"
      ],
      "text/plain": [
       "                                                  id  \\\n",
       "0             231-S-Virginia-St,-Kaysville,-UT-84037   \n",
       "1                  3157-Monroe-Blvd,-Ogden,-UT-84403   \n",
       "2  1988-Stone-Creek-Rd,-Unit-19,-Park-City,-UT-84098   \n",
       "3  1990-Stone-Creek-Rd,-Unit-20,-Park-City,-UT-84098   \n",
       "4                4398-N-2525-W,-Cedar-City,-UT-84721   \n",
       "\n",
       "                                    formattedAddress         addressLine1  \\\n",
       "0             231 S Virginia St, Kaysville, UT 84037    231 S Virginia St   \n",
       "1                  3157 Monroe Blvd, Ogden, UT 84403     3157 Monroe Blvd   \n",
       "2  1988 Stone Creek Rd, Unit 19, Park City, UT 84098  1988 Stone Creek Rd   \n",
       "3  1990 Stone Creek Rd, Unit 20, Park City, UT 84098  1990 Stone Creek Rd   \n",
       "4                4398 N 2525 W, Cedar City, UT 84721        4398 N 2525 W   \n",
       "\n",
       "  addressLine2        city state  zipCode  county   latitude   longitude  ...  \\\n",
       "0          NaN   Kaysville    UT    84037   Davis  41.031291 -111.934739  ...   \n",
       "1          NaN       Ogden    UT    84403   Weber  41.206655 -111.959974  ...   \n",
       "2      Unit 19   Park City    UT    84098  Summit  40.683172 -111.549270  ...   \n",
       "3      Unit 20   Park City    UT    84098  Summit  40.683081 -111.549202  ...   \n",
       "4          NaN  Cedar City    UT    84721    Iron  37.757465 -113.097258  ...   \n",
       "\n",
       "  squareFootage  lotSize yearBuilt    status    price  \\\n",
       "0         862.0   4792.0    1941.0  Inactive   360000   \n",
       "1        1750.0   4792.0    1941.0  Inactive   314999   \n",
       "2        2082.0      NaN    2025.0  Inactive  2790000   \n",
       "3        2533.0      NaN    2025.0  Inactive  3190000   \n",
       "4        3000.0  21780.0    2021.0  Inactive   540000   \n",
       "\n",
       "                 listedDate               removedDate  \\\n",
       "0  2024-01-05T00:00:00.000Z  2024-04-06T00:00:00.000Z   \n",
       "1  2024-01-05T00:00:00.000Z  2024-04-06T00:00:00.000Z   \n",
       "2  2024-01-10T00:00:00.000Z  2024-04-06T00:00:00.000Z   \n",
       "3  2024-01-10T00:00:00.000Z  2024-04-06T00:00:00.000Z   \n",
       "4  2024-01-12T00:00:00.000Z  2024-04-06T00:00:00.000Z   \n",
       "\n",
       "                createdDate              lastSeenDate daysOnMarket  \n",
       "0  2023-12-08T00:00:00.000Z  2024-04-05T00:00:00.000Z         92.0  \n",
       "1  2024-01-06T00:00:00.000Z  2024-04-05T00:00:00.000Z         92.0  \n",
       "2  2022-07-27T14:22:11.749Z  2024-04-05T00:00:00.000Z         87.0  \n",
       "3  2022-07-27T14:24:30.407Z  2024-04-05T00:00:00.000Z         87.0  \n",
       "4  2023-12-31T00:00:00.000Z  2024-04-05T00:00:00.000Z         85.0  \n",
       "\n",
       "[5 rows x 23 columns]"
      ]
     },
     "execution_count": 3,
     "metadata": {},
     "output_type": "execute_result"
    }
   ],
   "source": [
    "df.head()"
   ]
  },
  {
   "cell_type": "code",
   "execution_count": 4,
   "metadata": {},
   "outputs": [
    {
     "data": {
      "text/plain": [
       "Index(['id', 'formattedAddress', 'addressLine1', 'addressLine2', 'city',\n",
       "       'state', 'zipCode', 'county', 'latitude', 'longitude', 'propertyType',\n",
       "       'bedrooms', 'bathrooms', 'squareFootage', 'lotSize', 'yearBuilt',\n",
       "       'status', 'price', 'listedDate', 'removedDate', 'createdDate',\n",
       "       'lastSeenDate', 'daysOnMarket'],\n",
       "      dtype='object')"
      ]
     },
     "execution_count": 4,
     "metadata": {},
     "output_type": "execute_result"
    }
   ],
   "source": [
    "df.keys()"
   ]
  },
  {
   "cell_type": "code",
   "execution_count": 5,
   "metadata": {},
   "outputs": [
    {
     "data": {
      "text/plain": [
       "array(['Single Family', 'Townhouse', 'Condo', 'Land', 'Manufactured',\n",
       "       'Multi-Family', 'Apartment', nan, '2.0', '3.0', '5.0', '7.0',\n",
       "       '6.0', '4.0', '0.0', '10.0', '1.0', '8.0', '12.0'], dtype=object)"
      ]
     },
     "execution_count": 5,
     "metadata": {},
     "output_type": "execute_result"
    }
   ],
   "source": [
    "df['propertyType'].unique()"
   ]
  },
  {
   "cell_type": "code",
   "execution_count": 6,
   "metadata": {},
   "outputs": [],
   "source": [
    "dropped = df.drop(columns=['id', 'formattedAddress', 'addressLine1', 'addressLine2', 'city',\n",
    "       'state', 'zipCode', 'latitude', 'longitude', 'listedDate', 'removedDate', 'createdDate', 'daysOnMarket', 'lastSeenDate', 'status'])"
   ]
  },
  {
   "cell_type": "code",
   "execution_count": 7,
   "metadata": {},
   "outputs": [],
   "source": [
    "# if dropped['propertyType'] == ['Apartment','Manufactured',\n",
    "#        'Multi-Family','Land', 'nan', '2.0', '3.0', '5.0', '7.0',\n",
    "#        '6.0', '4.0', '0.0', '10.0', '1.0', '8.0', '12.0']:\n",
    "    "
   ]
  },
  {
   "cell_type": "code",
   "execution_count": 8,
   "metadata": {},
   "outputs": [],
   "source": [
    "my_conditions = ['Apartment','Manufactured',\n",
    "       'Multi-Family','Land', 'nan', '2.0', '3.0', '5.0', '7.0',\n",
    "       '6.0', '4.0', '0.0', '10.0', '1.0', '8.0', '12.0', 'Inactive']"
   ]
  },
  {
   "cell_type": "code",
   "execution_count": 9,
   "metadata": {},
   "outputs": [
    {
     "data": {
      "text/html": [
       "<div>\n",
       "<style scoped>\n",
       "    .dataframe tbody tr th:only-of-type {\n",
       "        vertical-align: middle;\n",
       "    }\n",
       "\n",
       "    .dataframe tbody tr th {\n",
       "        vertical-align: top;\n",
       "    }\n",
       "\n",
       "    .dataframe thead th {\n",
       "        text-align: right;\n",
       "    }\n",
       "</style>\n",
       "<table border=\"1\" class=\"dataframe\">\n",
       "  <thead>\n",
       "    <tr style=\"text-align: right;\">\n",
       "      <th></th>\n",
       "      <th>county</th>\n",
       "      <th>propertyType</th>\n",
       "      <th>bedrooms</th>\n",
       "      <th>bathrooms</th>\n",
       "      <th>squareFootage</th>\n",
       "      <th>lotSize</th>\n",
       "      <th>yearBuilt</th>\n",
       "      <th>price</th>\n",
       "    </tr>\n",
       "  </thead>\n",
       "  <tbody>\n",
       "    <tr>\n",
       "      <th>0</th>\n",
       "      <td>Davis</td>\n",
       "      <td>Single Family</td>\n",
       "      <td>2.0</td>\n",
       "      <td>1.0</td>\n",
       "      <td>862.0</td>\n",
       "      <td>4792.0</td>\n",
       "      <td>1941.0</td>\n",
       "      <td>360000</td>\n",
       "    </tr>\n",
       "    <tr>\n",
       "      <th>1</th>\n",
       "      <td>Weber</td>\n",
       "      <td>Single Family</td>\n",
       "      <td>3.0</td>\n",
       "      <td>1.0</td>\n",
       "      <td>1750.0</td>\n",
       "      <td>4792.0</td>\n",
       "      <td>1941.0</td>\n",
       "      <td>314999</td>\n",
       "    </tr>\n",
       "    <tr>\n",
       "      <th>2</th>\n",
       "      <td>Summit</td>\n",
       "      <td>Townhouse</td>\n",
       "      <td>3.0</td>\n",
       "      <td>3.5</td>\n",
       "      <td>2082.0</td>\n",
       "      <td>nan</td>\n",
       "      <td>2025.0</td>\n",
       "      <td>2790000</td>\n",
       "    </tr>\n",
       "    <tr>\n",
       "      <th>3</th>\n",
       "      <td>Summit</td>\n",
       "      <td>Townhouse</td>\n",
       "      <td>3.0</td>\n",
       "      <td>4.0</td>\n",
       "      <td>2533.0</td>\n",
       "      <td>nan</td>\n",
       "      <td>2025.0</td>\n",
       "      <td>3190000</td>\n",
       "    </tr>\n",
       "    <tr>\n",
       "      <th>4</th>\n",
       "      <td>Iron</td>\n",
       "      <td>Single Family</td>\n",
       "      <td>5.0</td>\n",
       "      <td>4.0</td>\n",
       "      <td>3000.0</td>\n",
       "      <td>21780.0</td>\n",
       "      <td>2021.0</td>\n",
       "      <td>540000</td>\n",
       "    </tr>\n",
       "    <tr>\n",
       "      <th>...</th>\n",
       "      <td>...</td>\n",
       "      <td>...</td>\n",
       "      <td>...</td>\n",
       "      <td>...</td>\n",
       "      <td>...</td>\n",
       "      <td>...</td>\n",
       "      <td>...</td>\n",
       "      <td>...</td>\n",
       "    </tr>\n",
       "    <tr>\n",
       "      <th>181793</th>\n",
       "      <td>Carbon County</td>\n",
       "      <td>Single Family</td>\n",
       "      <td>2.0</td>\n",
       "      <td>1.0</td>\n",
       "      <td>878.0</td>\n",
       "      <td>Inactive</td>\n",
       "      <td>79000</td>\n",
       "      <td>2022-08-07T20:12:08.717Z</td>\n",
       "    </tr>\n",
       "    <tr>\n",
       "      <th>181794</th>\n",
       "      <td>Carbon County</td>\n",
       "      <td>Condo</td>\n",
       "      <td>4.0</td>\n",
       "      <td>2.5</td>\n",
       "      <td>2336.0</td>\n",
       "      <td>Inactive</td>\n",
       "      <td>155000</td>\n",
       "      <td>2022-08-07T20:12:08.717Z</td>\n",
       "    </tr>\n",
       "    <tr>\n",
       "      <th>181795</th>\n",
       "      <td>Salt Lake County</td>\n",
       "      <td>Condo</td>\n",
       "      <td>2.0</td>\n",
       "      <td>1.0</td>\n",
       "      <td>800.0</td>\n",
       "      <td>Inactive</td>\n",
       "      <td>164900</td>\n",
       "      <td>2022-08-07T20:12:08.717Z</td>\n",
       "    </tr>\n",
       "    <tr>\n",
       "      <th>181796</th>\n",
       "      <td>Summit County</td>\n",
       "      <td>Single Family</td>\n",
       "      <td>5.0</td>\n",
       "      <td>3.0</td>\n",
       "      <td>2304.0</td>\n",
       "      <td>Inactive</td>\n",
       "      <td>375000</td>\n",
       "      <td>2022-08-07T20:12:08.717Z</td>\n",
       "    </tr>\n",
       "    <tr>\n",
       "      <th>181797</th>\n",
       "      <td>Salt Lake County</td>\n",
       "      <td>Condo</td>\n",
       "      <td>2.0</td>\n",
       "      <td>1.0</td>\n",
       "      <td>803.0</td>\n",
       "      <td>Inactive</td>\n",
       "      <td>115000</td>\n",
       "      <td>2022-08-07T20:12:08.717Z</td>\n",
       "    </tr>\n",
       "  </tbody>\n",
       "</table>\n",
       "<p>131367 rows × 8 columns</p>\n",
       "</div>"
      ],
      "text/plain": [
       "                  county   propertyType bedrooms bathrooms squareFootage  \\\n",
       "0                  Davis  Single Family      2.0       1.0         862.0   \n",
       "1                  Weber  Single Family      3.0       1.0        1750.0   \n",
       "2                 Summit      Townhouse      3.0       3.5        2082.0   \n",
       "3                 Summit      Townhouse      3.0       4.0        2533.0   \n",
       "4                   Iron  Single Family      5.0       4.0        3000.0   \n",
       "...                  ...            ...      ...       ...           ...   \n",
       "181793     Carbon County  Single Family      2.0       1.0         878.0   \n",
       "181794     Carbon County          Condo      4.0       2.5        2336.0   \n",
       "181795  Salt Lake County          Condo      2.0       1.0         800.0   \n",
       "181796     Summit County  Single Family      5.0       3.0        2304.0   \n",
       "181797  Salt Lake County          Condo      2.0       1.0         803.0   \n",
       "\n",
       "         lotSize yearBuilt                     price  \n",
       "0         4792.0    1941.0                    360000  \n",
       "1         4792.0    1941.0                    314999  \n",
       "2            nan    2025.0                   2790000  \n",
       "3            nan    2025.0                   3190000  \n",
       "4        21780.0    2021.0                    540000  \n",
       "...          ...       ...                       ...  \n",
       "181793  Inactive     79000  2022-08-07T20:12:08.717Z  \n",
       "181794  Inactive    155000  2022-08-07T20:12:08.717Z  \n",
       "181795  Inactive    164900  2022-08-07T20:12:08.717Z  \n",
       "181796  Inactive    375000  2022-08-07T20:12:08.717Z  \n",
       "181797  Inactive    115000  2022-08-07T20:12:08.717Z  \n",
       "\n",
       "[131367 rows x 8 columns]"
      ]
     },
     "execution_count": 9,
     "metadata": {},
     "output_type": "execute_result"
    }
   ],
   "source": [
    "dropped_cleaned = dropped[~dropped['propertyType'].isin(my_conditions)]\n",
    "# dropped_cleaned = dropped_cleaned[dropped_cleaned[\"lotSize\"] != \"Inactive\"]\n",
    "dropped_cleaned = dropped_cleaned[dropped_cleaned[\"squareFootage\"] != \"Inactive\"]\n",
    "dropped_cleaned = dropped_cleaned[dropped_cleaned[\"bedrooms\"] != \"Inactive\"]\n",
    "dropped_cleaned = dropped_cleaned[dropped_cleaned[\"bathrooms\"] != \"Inactive\"]\n",
    "dropped_cleaned[\"lotSize\"] = dropped_cleaned[\"lotSize\"].astype(str)\n",
    "\n",
    "\n",
    "dropped_cleaned = dropped_cleaned[dropped_cleaned[\"lotSize\"].str.len().between(0, 8)]\n",
    "dropped_cleaned = dropped_cleaned.dropna()\n",
    "dropped_cleaned"
   ]
  },
  {
   "cell_type": "code",
   "execution_count": 10,
   "metadata": {},
   "outputs": [
    {
     "data": {
      "text/plain": [
       "array(['Single Family', 'Townhouse', 'Condo'], dtype=object)"
      ]
     },
     "execution_count": 10,
     "metadata": {},
     "output_type": "execute_result"
    }
   ],
   "source": [
    "dropped_cleaned['propertyType'].unique()"
   ]
  },
  {
   "cell_type": "code",
   "execution_count": 11,
   "metadata": {},
   "outputs": [],
   "source": [
    "#Bedrooms more than 10\n",
    "#Bathrooms more than 8 and half\n",
    "#Square feet more than 20000\n",
    "#year built greater than 2024 get rid of it\n",
    "#price under 15K\n",
    "\n"
   ]
  },
  {
   "cell_type": "code",
   "execution_count": 12,
   "metadata": {},
   "outputs": [
    {
     "data": {
      "text/plain": [
       "array(['Davis', 'Weber', 'Summit', 'Iron', 'Utah', 'Salt Lake',\n",
       "       'Washington', 'Tooele', 'Beaver', 'Cache', 'Wasatch', 'Kane',\n",
       "       'Box Elder', 'Uintah', 'Rich', 'Carbon', 'Juab', 'Duchesne',\n",
       "       'Grand', 'Millard', 'Sevier', 'San Juan', 'Wayne', 'Morgan',\n",
       "       'Emery', 'Garfield', 'Sanpete', 'Piute', 'Daggett', 'Utah County',\n",
       "       'Iron County', 'Carbon County', 'Salt Lake County', 'Cache County',\n",
       "       'Weber County', 'Davis County', 'Washington County',\n",
       "       'Sevier County', 'Tooele County', 'Summit County', 'Beaver County',\n",
       "       'Piute County', 'Wasatch County', 'Grand County', 'Emery County',\n",
       "       'Box Elder County', 'Uintah County', 'Millard County',\n",
       "       'Sanpete County', 'Duchesne County', 'Garfield County',\n",
       "       'Rich County', 'Kane County', 'Wayne County', 'Juab County',\n",
       "       'Morgan County', 'San Juan County', 'Daggett County'], dtype=object)"
      ]
     },
     "execution_count": 12,
     "metadata": {},
     "output_type": "execute_result"
    }
   ],
   "source": [
    "dropped_cleaned['county'].unique()"
   ]
  },
  {
   "cell_type": "code",
   "execution_count": 13,
   "metadata": {},
   "outputs": [],
   "source": [
    "dropped_cleaned[\"bedrooms\"] = pd.to_numeric(dropped_cleaned[\"bedrooms\"], errors='coerce').fillna(0).astype(int)"
   ]
  },
  {
   "cell_type": "code",
   "execution_count": 14,
   "metadata": {},
   "outputs": [],
   "source": [
    "dropped_cleaned[\"squareFootage\"] = pd.to_numeric(dropped_cleaned[\"squareFootage\"], errors='coerce').fillna(0).astype(int)"
   ]
  },
  {
   "cell_type": "code",
   "execution_count": 15,
   "metadata": {},
   "outputs": [],
   "source": [
    "dropped_cleaned[\"lotSize\"] = pd.to_numeric(dropped_cleaned[\"lotSize\"], errors='coerce').fillna(0).astype(int)"
   ]
  },
  {
   "cell_type": "code",
   "execution_count": 16,
   "metadata": {},
   "outputs": [],
   "source": [
    "dropped_cleaned[\"yearBuilt\"] = pd.to_numeric(dropped_cleaned[\"yearBuilt\"], errors='coerce').fillna(0).astype(int)"
   ]
  },
  {
   "cell_type": "code",
   "execution_count": 17,
   "metadata": {},
   "outputs": [],
   "source": [
    "dropped_cleaned[\"price\"] = pd.to_numeric(dropped_cleaned[\"price\"], errors='coerce').fillna(0).astype(int)"
   ]
  },
  {
   "cell_type": "code",
   "execution_count": 18,
   "metadata": {},
   "outputs": [],
   "source": [
    "dropped_cleaned['bathrooms'] = dropped_cleaned['bathrooms'].astype(float)"
   ]
  },
  {
   "cell_type": "code",
   "execution_count": 19,
   "metadata": {},
   "outputs": [],
   "source": [
    "#dropped_cleaned = pd.DataFrame(data)"
   ]
  },
  {
   "cell_type": "code",
   "execution_count": 20,
   "metadata": {},
   "outputs": [],
   "source": [
    "encoder = LabelEncoder()\n",
    "dropped_cleaned['county'] = encoder.fit_transform(dropped_cleaned['county'])"
   ]
  },
  {
   "cell_type": "code",
   "execution_count": 21,
   "metadata": {},
   "outputs": [],
   "source": [
    "encoder = LabelEncoder()\n",
    "dropped_cleaned['propertyType'] = encoder.fit_transform(dropped_cleaned['propertyType'])"
   ]
  },
  {
   "cell_type": "code",
   "execution_count": 22,
   "metadata": {},
   "outputs": [
    {
     "name": "stdout",
     "output_type": "stream",
     "text": [
      "        county  propertyType  bedrooms  bathrooms  squareFootage  lotSize  \\\n",
      "0           10             1         2        1.0            862     4792   \n",
      "1           56             1         3        1.0           1750     4792   \n",
      "2           42             2         3        3.5           2082        0   \n",
      "3           42             2         3        4.0           2533        0   \n",
      "4           20             1         5        4.0           3000    21780   \n",
      "...        ...           ...       ...        ...            ...      ...   \n",
      "181793       7             1         2        1.0            878        0   \n",
      "181794       7             0         4        2.5           2336        0   \n",
      "181795      35             0         2        1.0            800        0   \n",
      "181796      43             1         5        3.0           2304        0   \n",
      "181797      35             0         2        1.0            803        0   \n",
      "\n",
      "        yearBuilt    price  \n",
      "0            1941   360000  \n",
      "1            1941   314999  \n",
      "2            2025  2790000  \n",
      "3            2025  3190000  \n",
      "4            2021   540000  \n",
      "...           ...      ...  \n",
      "181793      79000        0  \n",
      "181794     155000        0  \n",
      "181795     164900        0  \n",
      "181796     375000        0  \n",
      "181797     115000        0  \n",
      "\n",
      "[131367 rows x 8 columns]\n"
     ]
    }
   ],
   "source": [
    "print(dropped_cleaned)"
   ]
  },
  {
   "cell_type": "code",
   "execution_count": 23,
   "metadata": {},
   "outputs": [
    {
     "data": {
      "text/plain": [
       "county             int32\n",
       "propertyType       int32\n",
       "bedrooms           int32\n",
       "bathrooms        float64\n",
       "squareFootage      int32\n",
       "lotSize            int32\n",
       "yearBuilt          int32\n",
       "price              int32\n",
       "dtype: object"
      ]
     },
     "execution_count": 23,
     "metadata": {},
     "output_type": "execute_result"
    }
   ],
   "source": [
    "dropped_cleaned.dtypes"
   ]
  },
  {
   "cell_type": "code",
   "execution_count": 24,
   "metadata": {},
   "outputs": [],
   "source": [
    "dropped_cleaned = dropped_cleaned[dropped_cleaned['bedrooms'] <= 10]"
   ]
  },
  {
   "cell_type": "code",
   "execution_count": 25,
   "metadata": {},
   "outputs": [
    {
     "name": "stdout",
     "output_type": "stream",
     "text": [
      "        county  propertyType  bedrooms  bathrooms  squareFootage  lotSize  \\\n",
      "0           10             1         2        1.0            862     4792   \n",
      "1           56             1         3        1.0           1750     4792   \n",
      "2           42             2         3        3.5           2082        0   \n",
      "3           42             2         3        4.0           2533        0   \n",
      "4           20             1         5        4.0           3000    21780   \n",
      "...        ...           ...       ...        ...            ...      ...   \n",
      "181793       7             1         2        1.0            878        0   \n",
      "181794       7             0         4        2.5           2336        0   \n",
      "181795      35             0         2        1.0            800        0   \n",
      "181796      43             1         5        3.0           2304        0   \n",
      "181797      35             0         2        1.0            803        0   \n",
      "\n",
      "        yearBuilt    price  \n",
      "0            1941   360000  \n",
      "1            1941   314999  \n",
      "2            2025  2790000  \n",
      "3            2025  3190000  \n",
      "4            2021   540000  \n",
      "...           ...      ...  \n",
      "181793      79000        0  \n",
      "181794     155000        0  \n",
      "181795     164900        0  \n",
      "181796     375000        0  \n",
      "181797     115000        0  \n",
      "\n",
      "[130983 rows x 8 columns]\n"
     ]
    }
   ],
   "source": [
    "print(dropped_cleaned)"
   ]
  },
  {
   "cell_type": "code",
   "execution_count": 26,
   "metadata": {},
   "outputs": [],
   "source": [
    "dropped_cleaned = dropped_cleaned[dropped_cleaned['bathrooms'] <= 8.5]"
   ]
  },
  {
   "cell_type": "code",
   "execution_count": 27,
   "metadata": {},
   "outputs": [
    {
     "name": "stdout",
     "output_type": "stream",
     "text": [
      "        county  propertyType  bedrooms  bathrooms  squareFootage  lotSize  \\\n",
      "0           10             1         2        1.0            862     4792   \n",
      "1           56             1         3        1.0           1750     4792   \n",
      "2           42             2         3        3.5           2082        0   \n",
      "3           42             2         3        4.0           2533        0   \n",
      "4           20             1         5        4.0           3000    21780   \n",
      "...        ...           ...       ...        ...            ...      ...   \n",
      "181793       7             1         2        1.0            878        0   \n",
      "181794       7             0         4        2.5           2336        0   \n",
      "181795      35             0         2        1.0            800        0   \n",
      "181796      43             1         5        3.0           2304        0   \n",
      "181797      35             0         2        1.0            803        0   \n",
      "\n",
      "        yearBuilt    price  \n",
      "0            1941   360000  \n",
      "1            1941   314999  \n",
      "2            2025  2790000  \n",
      "3            2025  3190000  \n",
      "4            2021   540000  \n",
      "...           ...      ...  \n",
      "181793      79000        0  \n",
      "181794     155000        0  \n",
      "181795     164900        0  \n",
      "181796     375000        0  \n",
      "181797     115000        0  \n",
      "\n",
      "[130937 rows x 8 columns]\n"
     ]
    }
   ],
   "source": [
    "print(dropped_cleaned)"
   ]
  },
  {
   "cell_type": "code",
   "execution_count": 28,
   "metadata": {},
   "outputs": [],
   "source": [
    "dropped_cleaned = dropped_cleaned[dropped_cleaned['squareFootage'] <=20000]"
   ]
  },
  {
   "cell_type": "code",
   "execution_count": 29,
   "metadata": {},
   "outputs": [
    {
     "name": "stdout",
     "output_type": "stream",
     "text": [
      "        county  propertyType  bedrooms  bathrooms  squareFootage  lotSize  \\\n",
      "0           10             1         2        1.0            862     4792   \n",
      "1           56             1         3        1.0           1750     4792   \n",
      "2           42             2         3        3.5           2082        0   \n",
      "3           42             2         3        4.0           2533        0   \n",
      "4           20             1         5        4.0           3000    21780   \n",
      "...        ...           ...       ...        ...            ...      ...   \n",
      "181793       7             1         2        1.0            878        0   \n",
      "181794       7             0         4        2.5           2336        0   \n",
      "181795      35             0         2        1.0            800        0   \n",
      "181796      43             1         5        3.0           2304        0   \n",
      "181797      35             0         2        1.0            803        0   \n",
      "\n",
      "        yearBuilt    price  \n",
      "0            1941   360000  \n",
      "1            1941   314999  \n",
      "2            2025  2790000  \n",
      "3            2025  3190000  \n",
      "4            2021   540000  \n",
      "...           ...      ...  \n",
      "181793      79000        0  \n",
      "181794     155000        0  \n",
      "181795     164900        0  \n",
      "181796     375000        0  \n",
      "181797     115000        0  \n",
      "\n",
      "[130934 rows x 8 columns]\n"
     ]
    }
   ],
   "source": [
    "print(dropped_cleaned)"
   ]
  },
  {
   "cell_type": "code",
   "execution_count": 30,
   "metadata": {},
   "outputs": [],
   "source": [
    "dropped_cleaned = dropped_cleaned[dropped_cleaned['yearBuilt'] <=2024]"
   ]
  },
  {
   "cell_type": "code",
   "execution_count": 31,
   "metadata": {},
   "outputs": [
    {
     "name": "stdout",
     "output_type": "stream",
     "text": [
      "       county  propertyType  bedrooms  bathrooms  squareFootage  lotSize  \\\n",
      "0          10             1         2        1.0            862     4792   \n",
      "1          56             1         3        1.0           1750     4792   \n",
      "4          20             1         5        4.0           3000    21780   \n",
      "5          48             1         3        2.5           4448    11326   \n",
      "6          48             1         3        2.0           1050     4792   \n",
      "...       ...           ...       ...        ...            ...      ...   \n",
      "82530       5             1         4        3.0           2646    25265   \n",
      "82531      47             1         3        2.0           2028    19166   \n",
      "82532      47             1         4        2.0           1620    10454   \n",
      "82534      13             1         7        3.0           3194    16988   \n",
      "82535      21             0         2        2.0           1037     2178   \n",
      "\n",
      "       yearBuilt   price  \n",
      "0           1941  360000  \n",
      "1           1941  314999  \n",
      "4           2021  540000  \n",
      "5           2024  777400  \n",
      "6           1998  379900  \n",
      "...          ...     ...  \n",
      "82530       2020  650000  \n",
      "82531       2008  349000  \n",
      "82532       2008  240000  \n",
      "82534       2010  539999  \n",
      "82535       1985  255000  \n",
      "\n",
      "[58210 rows x 8 columns]\n"
     ]
    }
   ],
   "source": [
    "print(dropped_cleaned)"
   ]
  },
  {
   "cell_type": "code",
   "execution_count": 32,
   "metadata": {},
   "outputs": [],
   "source": [
    "dropped_cleaned = dropped_cleaned[dropped_cleaned['price'] >= 15000]"
   ]
  },
  {
   "cell_type": "code",
   "execution_count": 33,
   "metadata": {},
   "outputs": [
    {
     "name": "stdout",
     "output_type": "stream",
     "text": [
      "       county  propertyType  bedrooms  bathrooms  squareFootage  lotSize  \\\n",
      "0          10             1         2        1.0            862     4792   \n",
      "1          56             1         3        1.0           1750     4792   \n",
      "4          20             1         5        4.0           3000    21780   \n",
      "5          48             1         3        2.5           4448    11326   \n",
      "6          48             1         3        2.0           1050     4792   \n",
      "...       ...           ...       ...        ...            ...      ...   \n",
      "82530       5             1         4        3.0           2646    25265   \n",
      "82531      47             1         3        2.0           2028    19166   \n",
      "82532      47             1         4        2.0           1620    10454   \n",
      "82534      13             1         7        3.0           3194    16988   \n",
      "82535      21             0         2        2.0           1037     2178   \n",
      "\n",
      "       yearBuilt   price  \n",
      "0           1941  360000  \n",
      "1           1941  314999  \n",
      "4           2021  540000  \n",
      "5           2024  777400  \n",
      "6           1998  379900  \n",
      "...          ...     ...  \n",
      "82530       2020  650000  \n",
      "82531       2008  349000  \n",
      "82532       2008  240000  \n",
      "82534       2010  539999  \n",
      "82535       1985  255000  \n",
      "\n",
      "[56505 rows x 8 columns]\n"
     ]
    }
   ],
   "source": [
    "print(dropped_cleaned)"
   ]
  },
  {
   "cell_type": "code",
   "execution_count": 34,
   "metadata": {},
   "outputs": [],
   "source": [
    "dropped_cleaned.to_csv('Cleaned.csv',index = False)"
   ]
  },
  {
   "cell_type": "code",
   "execution_count": null,
   "metadata": {},
   "outputs": [],
   "source": []
  },
  {
   "cell_type": "code",
   "execution_count": null,
   "metadata": {},
   "outputs": [],
   "source": []
  },
  {
   "cell_type": "code",
   "execution_count": null,
   "metadata": {},
   "outputs": [],
   "source": []
  }
 ],
 "metadata": {
  "kernelspec": {
   "display_name": "Python 3 (ipykernel)",
   "language": "python",
   "name": "python3"
  },
  "language_info": {
   "codemirror_mode": {
    "name": "ipython",
    "version": 3
   },
   "file_extension": ".py",
   "mimetype": "text/x-python",
   "name": "python",
   "nbconvert_exporter": "python",
   "pygments_lexer": "ipython3",
   "version": "3.12.4"
  }
 },
 "nbformat": 4,
 "nbformat_minor": 4
}
