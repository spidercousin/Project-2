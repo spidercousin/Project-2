{
 "cells": [
  {
   "cell_type": "code",
   "execution_count": 1,
   "metadata": {},
   "outputs": [
    {
     "data": {
      "text/plain": [
       "True"
      ]
     },
     "execution_count": 1,
     "metadata": {},
     "output_type": "execute_result"
    }
   ],
   "source": [
    "\n",
    "import json\n",
    "import requests\n",
    "from dotenv import load_dotenv, find_dotenv\n",
    "import os\n",
    "\n",
    "load_dotenv(find_dotenv(\"local_keys.env\"))\n",
    "\n",
    "\n"
   ]
  },
  {
   "cell_type": "code",
   "execution_count": 35,
   "metadata": {},
   "outputs": [],
   "source": [
    "key = os.getenv(\"rentcast\")"
   ]
  },
  {
   "cell_type": "code",
   "execution_count": 36,
   "metadata": {},
   "outputs": [
    {
     "data": {
      "text/plain": [
       "str"
      ]
     },
     "execution_count": 36,
     "metadata": {},
     "output_type": "execute_result"
    }
   ],
   "source": [
    "type(key)"
   ]
  },
  {
   "cell_type": "code",
   "execution_count": 37,
   "metadata": {},
   "outputs": [],
   "source": [
    "# state = input(str(\"What state would you like to view?: \")).capitalize()\n",
    "state = \"Utah\""
   ]
  },
  {
   "cell_type": "code",
   "execution_count": 38,
   "metadata": {},
   "outputs": [],
   "source": [
    "# zipcode = input(\"What zip code would you like to search for?: \")\n",
    "zipcode = \"84770\" "
   ]
  },
  {
   "cell_type": "code",
   "execution_count": 39,
   "metadata": {},
   "outputs": [],
   "source": [
    "# radius = input(\"How far would you like to view around that zip code in mile?: \")\n",
    "radius = 25"
   ]
  },
  {
   "cell_type": "code",
   "execution_count": 40,
   "metadata": {},
   "outputs": [],
   "source": [
    "url = f\"https://api.rentcast.io/v1/listings/sale?city=St%20George&state=UT&limit=1\"\n",
    "\n",
    "headers = {\n",
    "    \"accept\": \"application/json\",\n",
    "    \"X-Api-Key\": key\n",
    "}\n",
    "\n",
    "response = requests.get(url, headers=headers)\n",
    "responsedata = response.json()\n",
    "\n",
    "#listings = pd.json_normalize(responsedata)"
   ]
  },
  {
   "cell_type": "code",
   "execution_count": 41,
   "metadata": {},
   "outputs": [
    {
     "name": "stdout",
     "output_type": "stream",
     "text": [
      "[{'id': '150-N-3050-E,---54,-St-George,-UT-84790', 'formattedAddress': '150 N 3050 E, # 54, St George, UT 84790', 'addressLine1': '150 N 3050 E', 'addressLine2': '# 54', 'city': 'St George', 'state': 'UT', 'zipCode': '84790', 'county': 'Washington', 'latitude': 37.11042, 'longitude': -113.520127, 'propertyType': 'Land', 'lotSize': 2178, 'status': 'Inactive', 'price': 85000, 'listedDate': '2023-02-01T00:00:00.000Z', 'removedDate': '2023-05-23T00:00:00.000Z', 'createdDate': '2023-03-04T00:00:00.000Z', 'lastSeenDate': '2023-05-22T00:00:00.000Z', 'daysOnMarket': 111}]\n"
     ]
    },
    {
     "data": {
      "text/html": [
       "<div>\n",
       "<style scoped>\n",
       "    .dataframe tbody tr th:only-of-type {\n",
       "        vertical-align: middle;\n",
       "    }\n",
       "\n",
       "    .dataframe tbody tr th {\n",
       "        vertical-align: top;\n",
       "    }\n",
       "\n",
       "    .dataframe thead th {\n",
       "        text-align: right;\n",
       "    }\n",
       "</style>\n",
       "<table border=\"1\" class=\"dataframe\">\n",
       "  <thead>\n",
       "    <tr style=\"text-align: right;\">\n",
       "      <th></th>\n",
       "      <th>id</th>\n",
       "      <th>formattedAddress</th>\n",
       "      <th>addressLine1</th>\n",
       "      <th>addressLine2</th>\n",
       "      <th>city</th>\n",
       "      <th>state</th>\n",
       "      <th>zipCode</th>\n",
       "      <th>county</th>\n",
       "      <th>latitude</th>\n",
       "      <th>longitude</th>\n",
       "      <th>propertyType</th>\n",
       "      <th>lotSize</th>\n",
       "      <th>status</th>\n",
       "      <th>price</th>\n",
       "      <th>listedDate</th>\n",
       "      <th>removedDate</th>\n",
       "      <th>createdDate</th>\n",
       "      <th>lastSeenDate</th>\n",
       "      <th>daysOnMarket</th>\n",
       "    </tr>\n",
       "  </thead>\n",
       "  <tbody>\n",
       "    <tr>\n",
       "      <th>0</th>\n",
       "      <td>150-N-3050-E,---54,-St-George,-UT-84790</td>\n",
       "      <td>150 N 3050 E, # 54, St George, UT 84790</td>\n",
       "      <td>150 N 3050 E</td>\n",
       "      <td># 54</td>\n",
       "      <td>St George</td>\n",
       "      <td>UT</td>\n",
       "      <td>84790</td>\n",
       "      <td>Washington</td>\n",
       "      <td>37.11042</td>\n",
       "      <td>-113.520127</td>\n",
       "      <td>Land</td>\n",
       "      <td>2178</td>\n",
       "      <td>Inactive</td>\n",
       "      <td>85000</td>\n",
       "      <td>2023-02-01T00:00:00.000Z</td>\n",
       "      <td>2023-05-23T00:00:00.000Z</td>\n",
       "      <td>2023-03-04T00:00:00.000Z</td>\n",
       "      <td>2023-05-22T00:00:00.000Z</td>\n",
       "      <td>111</td>\n",
       "    </tr>\n",
       "  </tbody>\n",
       "</table>\n",
       "</div>"
      ],
      "text/plain": [
       "                                        id  \\\n",
       "0  150-N-3050-E,---54,-St-George,-UT-84790   \n",
       "\n",
       "                          formattedAddress  addressLine1 addressLine2  \\\n",
       "0  150 N 3050 E, # 54, St George, UT 84790  150 N 3050 E         # 54   \n",
       "\n",
       "        city state zipCode      county  latitude   longitude propertyType  \\\n",
       "0  St George    UT   84790  Washington  37.11042 -113.520127         Land   \n",
       "\n",
       "   lotSize    status  price                listedDate  \\\n",
       "0     2178  Inactive  85000  2023-02-01T00:00:00.000Z   \n",
       "\n",
       "                removedDate               createdDate  \\\n",
       "0  2023-05-23T00:00:00.000Z  2023-03-04T00:00:00.000Z   \n",
       "\n",
       "               lastSeenDate  daysOnMarket  \n",
       "0  2023-05-22T00:00:00.000Z           111  "
      ]
     },
     "execution_count": 41,
     "metadata": {},
     "output_type": "execute_result"
    }
   ],
   "source": [
    "import pandas as pd\n",
    "print(responsedata)\n",
    "df = pd.DataFrame(responsedata)\n",
    "df\n"
   ]
  },
  {
   "cell_type": "code",
   "execution_count": 42,
   "metadata": {},
   "outputs": [
    {
     "data": {
      "text/html": [
       "<div>\n",
       "<style scoped>\n",
       "    .dataframe tbody tr th:only-of-type {\n",
       "        vertical-align: middle;\n",
       "    }\n",
       "\n",
       "    .dataframe tbody tr th {\n",
       "        vertical-align: top;\n",
       "    }\n",
       "\n",
       "    .dataframe thead th {\n",
       "        text-align: right;\n",
       "    }\n",
       "</style>\n",
       "<table border=\"1\" class=\"dataframe\">\n",
       "  <thead>\n",
       "    <tr style=\"text-align: right;\">\n",
       "      <th></th>\n",
       "      <th>id</th>\n",
       "      <th>formattedAddress</th>\n",
       "      <th>addressLine1</th>\n",
       "      <th>addressLine2</th>\n",
       "      <th>city</th>\n",
       "      <th>state</th>\n",
       "      <th>zipCode</th>\n",
       "      <th>county</th>\n",
       "      <th>latitude</th>\n",
       "      <th>longitude</th>\n",
       "      <th>propertyType</th>\n",
       "      <th>lotSize</th>\n",
       "      <th>status</th>\n",
       "      <th>price</th>\n",
       "      <th>listedDate</th>\n",
       "      <th>removedDate</th>\n",
       "      <th>createdDate</th>\n",
       "      <th>lastSeenDate</th>\n",
       "      <th>daysOnMarket</th>\n",
       "    </tr>\n",
       "  </thead>\n",
       "  <tbody>\n",
       "    <tr>\n",
       "      <th>0</th>\n",
       "      <td>150-N-3050-E,---54,-St-George,-UT-84790</td>\n",
       "      <td>150 N 3050 E, # 54, St George, UT 84790</td>\n",
       "      <td>150 N 3050 E</td>\n",
       "      <td># 54</td>\n",
       "      <td>St George</td>\n",
       "      <td>UT</td>\n",
       "      <td>84790</td>\n",
       "      <td>Washington</td>\n",
       "      <td>37.11042</td>\n",
       "      <td>-113.520127</td>\n",
       "      <td>Land</td>\n",
       "      <td>2178</td>\n",
       "      <td>Inactive</td>\n",
       "      <td>85000</td>\n",
       "      <td>2023-02-01T00:00:00.000Z</td>\n",
       "      <td>2023-05-23T00:00:00.000Z</td>\n",
       "      <td>2023-03-04T00:00:00.000Z</td>\n",
       "      <td>2023-05-22T00:00:00.000Z</td>\n",
       "      <td>111</td>\n",
       "    </tr>\n",
       "  </tbody>\n",
       "</table>\n",
       "</div>"
      ],
      "text/plain": [
       "                                        id  \\\n",
       "0  150-N-3050-E,---54,-St-George,-UT-84790   \n",
       "\n",
       "                          formattedAddress  addressLine1 addressLine2  \\\n",
       "0  150 N 3050 E, # 54, St George, UT 84790  150 N 3050 E         # 54   \n",
       "\n",
       "        city state zipCode      county  latitude   longitude propertyType  \\\n",
       "0  St George    UT   84790  Washington  37.11042 -113.520127         Land   \n",
       "\n",
       "   lotSize    status  price                listedDate  \\\n",
       "0     2178  Inactive  85000  2023-02-01T00:00:00.000Z   \n",
       "\n",
       "                removedDate               createdDate  \\\n",
       "0  2023-05-23T00:00:00.000Z  2023-03-04T00:00:00.000Z   \n",
       "\n",
       "               lastSeenDate  daysOnMarket  \n",
       "0  2023-05-22T00:00:00.000Z           111  "
      ]
     },
     "execution_count": 42,
     "metadata": {},
     "output_type": "execute_result"
    }
   ],
   "source": [
    "records = []\n",
    "for record in responsedata:\n",
    "    if isinstance(record, dict):  # Ensure it's a dictionary\n",
    "        records.append(record)\n",
    "pd.DataFrame(records)"
   ]
  },
  {
   "cell_type": "code",
   "execution_count": 43,
   "metadata": {},
   "outputs": [],
   "source": [
    "houses = []\n",
    "for record in responsedata:\n",
    "    if 'comparables' in record:\n",
    "        for comparable in record['comparables']:\n",
    "            print(comparable)\n",
    "            houses.append(comparable)"
   ]
  },
  {
   "cell_type": "code",
   "execution_count": 51,
   "metadata": {},
   "outputs": [
    {
     "name": "stdout",
     "output_type": "stream",
     "text": [
      "Added house: {'address': '123 Main St, St. George, UT', 'price': 350000}\n",
      "Added house: {'address': '456 Maple Ave, St. George, UT', 'price': 400000}\n",
      "List of houses:\n",
      "Address: 123 Main St, St. George, UT, Price: $350000\n",
      "Address: 456 Maple Ave, St. George, UT, Price: $400000\n"
     ]
    }
   ],
   "source": [
    "# Initialize an empty list\n",
    "houses = []\n",
    "\n",
    "# Function to add a house to the list\n",
    "def add_house(address, price):\n",
    "    house = {\n",
    "        'address': address,\n",
    "        'price': price\n",
    "    }\n",
    "    houses.append(house)\n",
    "    print(f\"Added house: {house}\")\n",
    "\n",
    "# Function to display all houses\n",
    "def display_houses():\n",
    "    if not houses:\n",
    "        print(\"No houses available.\")\n",
    "    else:\n",
    "        print(\"List of houses:\")\n",
    "        for house in houses:\n",
    "            print(f\"Address: {house['address']}, Price: ${house['price']}\")\n",
    "\n",
    "# Example usage\n",
    "add_house(\"123 Main St, St. George, UT\", 350000)\n",
    "add_house(\"456 Maple Ave, St. George, UT\", 400000)\n",
    "\n",
    "# Display the houses\n",
    "display_houses()"
   ]
  },
  {
   "cell_type": "code",
   "execution_count": 53,
   "metadata": {},
   "outputs": [
    {
     "name": "stdout",
     "output_type": "stream",
     "text": [
      "Address not available\n",
      "Address not available\n"
     ]
    }
   ],
   "source": [
    "for house in houses:\n",
    "    if 'formattedAddress' in house:\n",
    "        print(house['formattedAddress'])\n",
    "    else:\n",
    "        print(\"Address not available\")"
   ]
  },
  {
   "cell_type": "code",
   "execution_count": 54,
   "metadata": {},
   "outputs": [],
   "source": [
    "from datetime import datetime"
   ]
  },
  {
   "cell_type": "code",
   "execution_count": 57,
   "metadata": {},
   "outputs": [
    {
     "ename": "KeyError",
     "evalue": "['removedDate']",
     "output_type": "error",
     "traceback": [
      "\u001b[1;31m---------------------------------------------------------------------------\u001b[0m",
      "\u001b[1;31mKeyError\u001b[0m                                  Traceback (most recent call last)",
      "\u001b[1;32m~\\AppData\\Local\\Temp\\ipykernel_17016\\1073936493.py\u001b[0m in \u001b[0;36m?\u001b[1;34m()\u001b[0m\n\u001b[0;32m      6\u001b[0m \u001b[1;31m# Drop only the columns that exist in the DataFrame\u001b[0m\u001b[1;33m\u001b[0m\u001b[1;33m\u001b[0m\u001b[0m\n\u001b[0;32m      7\u001b[0m \u001b[0mx\u001b[0m \u001b[1;33m=\u001b[0m \u001b[0moriginal_df\u001b[0m\u001b[1;33m.\u001b[0m\u001b[0mdrop\u001b[0m\u001b[1;33m(\u001b[0m\u001b[0mcolumns\u001b[0m\u001b[1;33m=\u001b[0m\u001b[1;33m[\u001b[0m\u001b[0mcol\u001b[0m \u001b[1;32mfor\u001b[0m \u001b[0mcol\u001b[0m \u001b[1;32min\u001b[0m \u001b[0mcolumns_to_drop\u001b[0m \u001b[1;32mif\u001b[0m \u001b[0mcol\u001b[0m \u001b[1;32min\u001b[0m \u001b[0moriginal_df\u001b[0m\u001b[1;33m.\u001b[0m\u001b[0mcolumns\u001b[0m\u001b[1;33m]\u001b[0m\u001b[1;33m)\u001b[0m\u001b[1;33m\u001b[0m\u001b[1;33m\u001b[0m\u001b[0m\n\u001b[0;32m      8\u001b[0m \u001b[1;33m\u001b[0m\u001b[0m\n\u001b[0;32m      9\u001b[0m \u001b[1;31m# x['listedDate'] = x['listedDate'].strftime('%Y-%m-%d')\u001b[0m\u001b[1;33m\u001b[0m\u001b[1;33m\u001b[0m\u001b[0m\n\u001b[1;32m---> 10\u001b[1;33m \u001b[0mx\u001b[0m \u001b[1;33m=\u001b[0m \u001b[0mx\u001b[0m\u001b[1;33m.\u001b[0m\u001b[0mdropna\u001b[0m\u001b[1;33m(\u001b[0m\u001b[0msubset\u001b[0m\u001b[1;33m=\u001b[0m\u001b[1;33m[\u001b[0m\u001b[1;34m'removedDate'\u001b[0m\u001b[1;33m]\u001b[0m\u001b[1;33m)\u001b[0m\u001b[1;33m\u001b[0m\u001b[1;33m\u001b[0m\u001b[0m\n\u001b[0m\u001b[0;32m     11\u001b[0m \u001b[0mx\u001b[0m \u001b[1;33m=\u001b[0m \u001b[0mx\u001b[0m\u001b[1;33m.\u001b[0m\u001b[0mdrop\u001b[0m\u001b[1;33m(\u001b[0m\u001b[0mcolumns\u001b[0m\u001b[1;33m=\u001b[0m\u001b[1;33m[\u001b[0m\u001b[1;34m'removedDate'\u001b[0m\u001b[1;33m,\u001b[0m \u001b[1;34m'daysOnMarket'\u001b[0m\u001b[1;33m]\u001b[0m\u001b[1;33m)\u001b[0m\u001b[1;33m\u001b[0m\u001b[1;33m\u001b[0m\u001b[0m\n\u001b[0;32m     12\u001b[0m \u001b[0mx\u001b[0m\u001b[1;33m\u001b[0m\u001b[1;33m\u001b[0m\u001b[0m\n",
      "\u001b[1;32mc:\\Users\\ReisH\\anaconda\\envs\\dev\\lib\\site-packages\\pandas\\core\\frame.py\u001b[0m in \u001b[0;36m?\u001b[1;34m(self, axis, how, thresh, subset, inplace, ignore_index)\u001b[0m\n\u001b[0;32m   6666\u001b[0m             \u001b[0max\u001b[0m \u001b[1;33m=\u001b[0m \u001b[0mself\u001b[0m\u001b[1;33m.\u001b[0m\u001b[0m_get_axis\u001b[0m\u001b[1;33m(\u001b[0m\u001b[0magg_axis\u001b[0m\u001b[1;33m)\u001b[0m\u001b[1;33m\u001b[0m\u001b[1;33m\u001b[0m\u001b[0m\n\u001b[0;32m   6667\u001b[0m             \u001b[0mindices\u001b[0m \u001b[1;33m=\u001b[0m \u001b[0max\u001b[0m\u001b[1;33m.\u001b[0m\u001b[0mget_indexer_for\u001b[0m\u001b[1;33m(\u001b[0m\u001b[0msubset\u001b[0m\u001b[1;33m)\u001b[0m\u001b[1;33m\u001b[0m\u001b[1;33m\u001b[0m\u001b[0m\n\u001b[0;32m   6668\u001b[0m             \u001b[0mcheck\u001b[0m \u001b[1;33m=\u001b[0m \u001b[0mindices\u001b[0m \u001b[1;33m==\u001b[0m \u001b[1;33m-\u001b[0m\u001b[1;36m1\u001b[0m\u001b[1;33m\u001b[0m\u001b[1;33m\u001b[0m\u001b[0m\n\u001b[0;32m   6669\u001b[0m             \u001b[1;32mif\u001b[0m \u001b[0mcheck\u001b[0m\u001b[1;33m.\u001b[0m\u001b[0many\u001b[0m\u001b[1;33m(\u001b[0m\u001b[1;33m)\u001b[0m\u001b[1;33m:\u001b[0m\u001b[1;33m\u001b[0m\u001b[1;33m\u001b[0m\u001b[0m\n\u001b[1;32m-> 6670\u001b[1;33m                 \u001b[1;32mraise\u001b[0m \u001b[0mKeyError\u001b[0m\u001b[1;33m(\u001b[0m\u001b[0mnp\u001b[0m\u001b[1;33m.\u001b[0m\u001b[0marray\u001b[0m\u001b[1;33m(\u001b[0m\u001b[0msubset\u001b[0m\u001b[1;33m)\u001b[0m\u001b[1;33m[\u001b[0m\u001b[0mcheck\u001b[0m\u001b[1;33m]\u001b[0m\u001b[1;33m.\u001b[0m\u001b[0mtolist\u001b[0m\u001b[1;33m(\u001b[0m\u001b[1;33m)\u001b[0m\u001b[1;33m)\u001b[0m\u001b[1;33m\u001b[0m\u001b[1;33m\u001b[0m\u001b[0m\n\u001b[0m\u001b[0;32m   6671\u001b[0m             \u001b[0magg_obj\u001b[0m \u001b[1;33m=\u001b[0m \u001b[0mself\u001b[0m\u001b[1;33m.\u001b[0m\u001b[0mtake\u001b[0m\u001b[1;33m(\u001b[0m\u001b[0mindices\u001b[0m\u001b[1;33m,\u001b[0m \u001b[0maxis\u001b[0m\u001b[1;33m=\u001b[0m\u001b[0magg_axis\u001b[0m\u001b[1;33m)\u001b[0m\u001b[1;33m\u001b[0m\u001b[1;33m\u001b[0m\u001b[0m\n\u001b[0;32m   6672\u001b[0m \u001b[1;33m\u001b[0m\u001b[0m\n\u001b[0;32m   6673\u001b[0m         \u001b[1;32mif\u001b[0m \u001b[0mthresh\u001b[0m \u001b[1;32mis\u001b[0m \u001b[1;32mnot\u001b[0m \u001b[0mlib\u001b[0m\u001b[1;33m.\u001b[0m\u001b[0mno_default\u001b[0m\u001b[1;33m:\u001b[0m\u001b[1;33m\u001b[0m\u001b[1;33m\u001b[0m\u001b[0m\n",
      "\u001b[1;31mKeyError\u001b[0m: ['removedDate']"
     ]
    }
   ],
   "source": [
    "\n",
    "original_df = pd.DataFrame(houses)\n",
    "\n",
    "# List of columns to drop\n",
    "columns_to_drop = ['id', 'formattedAddress', 'addressLine1', 'addressLine2', 'county', 'latitude', 'longitude', 'distance', 'correlation', 'listingType', 'listedDate', 'lastSeenDate', 'daysOld', 'propertyType', 'city', 'state', 'zipCode']\n",
    "\n",
    "# Drop only the columns that exist in the DataFrame\n",
    "x = original_df.drop(columns=[col for col in columns_to_drop if col in original_df.columns])\n",
    "\n",
    "# x['listedDate'] = x['listedDate'].strftime('%Y-%m-%d')\n",
    "x = x.dropna(subset=['removedDate'])\n",
    "x = x.drop(columns=['removedDate', 'daysOnMarket'])\n",
    "x"
   ]
  },
  {
   "cell_type": "code",
   "execution_count": 59,
   "metadata": {},
   "outputs": [
    {
     "name": "stdout",
     "output_type": "stream",
     "text": [
      "Column 'daysOnMarket' does not exist in the DataFrame.\n"
     ]
    },
    {
     "data": {
      "text/html": [
       "<div>\n",
       "<style scoped>\n",
       "    .dataframe tbody tr th:only-of-type {\n",
       "        vertical-align: middle;\n",
       "    }\n",
       "\n",
       "    .dataframe tbody tr th {\n",
       "        vertical-align: top;\n",
       "    }\n",
       "\n",
       "    .dataframe thead th {\n",
       "        text-align: right;\n",
       "    }\n",
       "</style>\n",
       "<table border=\"1\" class=\"dataframe\">\n",
       "  <thead>\n",
       "    <tr style=\"text-align: right;\">\n",
       "      <th></th>\n",
       "    </tr>\n",
       "  </thead>\n",
       "  <tbody>\n",
       "  </tbody>\n",
       "</table>\n",
       "</div>"
      ],
      "text/plain": [
       "Empty DataFrame\n",
       "Columns: []\n",
       "Index: []"
      ]
     },
     "execution_count": 59,
     "metadata": {},
     "output_type": "execute_result"
    }
   ],
   "source": [
    "if 'daysOnMarket' in original_df.columns:\n",
    "\ty = pd.DataFrame(original_df['daysOnMarket'])\n",
    "else:\n",
    "\ty = pd.DataFrame()\n",
    "\tprint(\"Column 'daysOnMarket' does not exist in the DataFrame.\")\n",
    "y"
   ]
  },
  {
   "cell_type": "code",
   "execution_count": null,
   "metadata": {},
   "outputs": [],
   "source": [
    "x.dtypes"
   ]
  },
  {
   "cell_type": "code",
   "execution_count": null,
   "metadata": {},
   "outputs": [],
   "source": []
  },
  {
   "cell_type": "code",
   "execution_count": null,
   "metadata": {},
   "outputs": [],
   "source": []
  },
  {
   "cell_type": "code",
   "execution_count": null,
   "metadata": {},
   "outputs": [],
   "source": []
  },
  {
   "cell_type": "code",
   "execution_count": null,
   "metadata": {},
   "outputs": [],
   "source": []
  },
  {
   "cell_type": "code",
   "execution_count": null,
   "metadata": {},
   "outputs": [],
   "source": []
  },
  {
   "cell_type": "code",
   "execution_count": null,
   "metadata": {},
   "outputs": [],
   "source": []
  },
  {
   "cell_type": "code",
   "execution_count": null,
   "metadata": {},
   "outputs": [],
   "source": []
  },
  {
   "cell_type": "code",
   "execution_count": null,
   "metadata": {},
   "outputs": [],
   "source": []
  },
  {
   "cell_type": "code",
   "execution_count": null,
   "metadata": {},
   "outputs": [],
   "source": []
  },
  {
   "cell_type": "code",
   "execution_count": null,
   "metadata": {},
   "outputs": [],
   "source": []
  }
 ],
 "metadata": {
  "kernelspec": {
   "display_name": "Python 3",
   "language": "python",
   "name": "python3"
  },
  "language_info": {
   "codemirror_mode": {
    "name": "ipython",
    "version": 3
   },
   "file_extension": ".py",
   "mimetype": "text/x-python",
   "name": "python",
   "nbconvert_exporter": "python",
   "pygments_lexer": "ipython3",
   "version": "3.10.14"
  }
 },
 "nbformat": 4,
 "nbformat_minor": 2
}
