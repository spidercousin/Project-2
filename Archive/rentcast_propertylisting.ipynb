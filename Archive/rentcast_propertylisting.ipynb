{
 "cells": [
  {
   "cell_type": "code",
   "execution_count": 21,
   "metadata": {},
   "outputs": [
    {
     "data": {
      "text/plain": [
       "True"
      ]
     },
     "execution_count": 21,
     "metadata": {},
     "output_type": "execute_result"
    }
   ],
   "source": [
    "\n",
    "import json\n",
    "import requests\n",
    "from dotenv import load_dotenv, find_dotenv\n",
    "import os\n",
    "\n",
    "load_dotenv(find_dotenv(\"local_keys.env\"))\n",
    "\n",
    "\n"
   ]
  },
  {
   "cell_type": "code",
   "execution_count": 22,
   "metadata": {},
   "outputs": [],
   "source": [
    "key = os.getenv(\"rentcast\")"
   ]
  },
  {
   "cell_type": "code",
   "execution_count": 23,
   "metadata": {},
   "outputs": [
    {
     "data": {
      "text/plain": [
       "str"
      ]
     },
     "execution_count": 23,
     "metadata": {},
     "output_type": "execute_result"
    }
   ],
   "source": [
    "type(key)"
   ]
  },
  {
   "cell_type": "code",
   "execution_count": 24,
   "metadata": {},
   "outputs": [],
   "source": [
    "# state = input(str(\"What state would you like to view?: \")).capitalize()"
   ]
  },
  {
   "cell_type": "code",
   "execution_count": 25,
   "metadata": {},
   "outputs": [],
   "source": [
    "# zipcode = input(\"What zip code would you like to search for?: \")"
   ]
  },
  {
   "cell_type": "code",
   "execution_count": 26,
   "metadata": {},
   "outputs": [],
   "source": [
    "# radius = input(\"How far would you like to view around that zip code in mile?: \")"
   ]
  },
  {
   "cell_type": "code",
   "execution_count": 27,
   "metadata": {},
   "outputs": [],
   "source": [
    "url = f\"https://api.rentcast.io/v1/listings/sale?city=Salt%20Lake%20City&state=UT&limit=1\"\n",
    "\n",
    "headers = {\n",
    "    \"accept\": \"application/json\",\n",
    "    \"X-Api-Key\": key\n",
    "}\n",
    "\n",
    "response = requests.get(url, headers=headers)\n",
    "responsedata = response.json()\n",
    "\n",
    "#listings = pd.json_normalize(responsedata)"
   ]
  },
  {
   "cell_type": "code",
   "execution_count": 38,
   "metadata": {},
   "outputs": [
    {
     "name": "stdout",
     "output_type": "stream",
     "text": [
      "[{'id': '1144-N-Twickenham-Dr,-Unit-137,-Salt-Lake-City,-UT-84103', 'formattedAddress': '1144 N Twickenham Dr, Unit 137, Salt Lake City, UT 84103', 'addressLine1': '1144 N Twickenham Dr', 'addressLine2': 'Unit 137', 'city': 'Salt Lake City', 'state': 'UT', 'zipCode': '84103', 'county': 'Salt Lake', 'latitude': 40.794498, 'longitude': -111.893463, 'propertyType': 'Land', 'bedrooms': 0, 'lotSize': 22651, 'hoa': {'fee': 200}, 'status': 'Active', 'price': 795000, 'listingType': 'Standard', 'listedDate': '2023-05-14T00:00:00.000Z', 'removedDate': None, 'createdDate': '2021-03-03T13:26:48.253Z', 'lastSeenDate': '2024-12-03T12:37:21.568Z', 'daysOnMarket': 570, 'mlsName': 'UtahRealEstate', 'mlsNumber': '1876767', 'listingAgent': {'name': 'Matthew Wilcox', 'phone': '8016525601'}, 'listingOffice': {'name': 'Realtypath (South Valley)', 'phone': '8013865908', 'email': 'cheryl.utahkey@gmail.com'}, 'history': {'2023-05-14': {'event': 'Sale Listing', 'price': 795000, 'listingType': 'Standard', 'listedDate': '2023-05-14T00:00:00.000Z', 'removedDate': None, 'daysOnMarket': 570}}}]\n"
     ]
    },
    {
     "data": {
      "text/html": [
       "<div>\n",
       "<style scoped>\n",
       "    .dataframe tbody tr th:only-of-type {\n",
       "        vertical-align: middle;\n",
       "    }\n",
       "\n",
       "    .dataframe tbody tr th {\n",
       "        vertical-align: top;\n",
       "    }\n",
       "\n",
       "    .dataframe thead th {\n",
       "        text-align: right;\n",
       "    }\n",
       "</style>\n",
       "<table border=\"1\" class=\"dataframe\">\n",
       "  <thead>\n",
       "    <tr style=\"text-align: right;\">\n",
       "      <th></th>\n",
       "      <th>id</th>\n",
       "      <th>formattedAddress</th>\n",
       "      <th>addressLine1</th>\n",
       "      <th>addressLine2</th>\n",
       "      <th>city</th>\n",
       "      <th>state</th>\n",
       "      <th>zipCode</th>\n",
       "      <th>county</th>\n",
       "      <th>latitude</th>\n",
       "      <th>longitude</th>\n",
       "      <th>...</th>\n",
       "      <th>listedDate</th>\n",
       "      <th>removedDate</th>\n",
       "      <th>createdDate</th>\n",
       "      <th>lastSeenDate</th>\n",
       "      <th>daysOnMarket</th>\n",
       "      <th>mlsName</th>\n",
       "      <th>mlsNumber</th>\n",
       "      <th>listingAgent</th>\n",
       "      <th>listingOffice</th>\n",
       "      <th>history</th>\n",
       "    </tr>\n",
       "  </thead>\n",
       "  <tbody>\n",
       "    <tr>\n",
       "      <th>0</th>\n",
       "      <td>1144-N-Twickenham-Dr,-Unit-137,-Salt-Lake-City...</td>\n",
       "      <td>1144 N Twickenham Dr, Unit 137, Salt Lake City...</td>\n",
       "      <td>1144 N Twickenham Dr</td>\n",
       "      <td>Unit 137</td>\n",
       "      <td>Salt Lake City</td>\n",
       "      <td>UT</td>\n",
       "      <td>84103</td>\n",
       "      <td>Salt Lake</td>\n",
       "      <td>40.794498</td>\n",
       "      <td>-111.893463</td>\n",
       "      <td>...</td>\n",
       "      <td>2023-05-14T00:00:00.000Z</td>\n",
       "      <td>None</td>\n",
       "      <td>2021-03-03T13:26:48.253Z</td>\n",
       "      <td>2024-12-03T12:37:21.568Z</td>\n",
       "      <td>570</td>\n",
       "      <td>UtahRealEstate</td>\n",
       "      <td>1876767</td>\n",
       "      <td>{'name': 'Matthew Wilcox', 'phone': '8016525601'}</td>\n",
       "      <td>{'name': 'Realtypath (South Valley)', 'phone':...</td>\n",
       "      <td>{'2023-05-14': {'event': 'Sale Listing', 'pric...</td>\n",
       "    </tr>\n",
       "  </tbody>\n",
       "</table>\n",
       "<p>1 rows × 27 columns</p>\n",
       "</div>"
      ],
      "text/plain": [
       "                                                  id  \\\n",
       "0  1144-N-Twickenham-Dr,-Unit-137,-Salt-Lake-City...   \n",
       "\n",
       "                                    formattedAddress          addressLine1  \\\n",
       "0  1144 N Twickenham Dr, Unit 137, Salt Lake City...  1144 N Twickenham Dr   \n",
       "\n",
       "  addressLine2            city state zipCode     county   latitude  \\\n",
       "0     Unit 137  Salt Lake City    UT   84103  Salt Lake  40.794498   \n",
       "\n",
       "    longitude  ...                listedDate  removedDate  \\\n",
       "0 -111.893463  ...  2023-05-14T00:00:00.000Z         None   \n",
       "\n",
       "                createdDate              lastSeenDate daysOnMarket  \\\n",
       "0  2021-03-03T13:26:48.253Z  2024-12-03T12:37:21.568Z          570   \n",
       "\n",
       "          mlsName mlsNumber  \\\n",
       "0  UtahRealEstate   1876767   \n",
       "\n",
       "                                        listingAgent  \\\n",
       "0  {'name': 'Matthew Wilcox', 'phone': '8016525601'}   \n",
       "\n",
       "                                       listingOffice  \\\n",
       "0  {'name': 'Realtypath (South Valley)', 'phone':...   \n",
       "\n",
       "                                             history  \n",
       "0  {'2023-05-14': {'event': 'Sale Listing', 'pric...  \n",
       "\n",
       "[1 rows x 27 columns]"
      ]
     },
     "execution_count": 38,
     "metadata": {},
     "output_type": "execute_result"
    }
   ],
   "source": [
    "import pandas as pd\n",
    "print(responsedata)\n",
    "df = pd.DataFrame(responsedata)\n",
    "df\n"
   ]
  },
  {
   "cell_type": "code",
   "execution_count": 39,
   "metadata": {},
   "outputs": [
    {
     "ename": "AttributeError",
     "evalue": "'list' object has no attribute 'items'",
     "output_type": "error",
     "traceback": [
      "\u001b[1;31m---------------------------------------------------------------------------\u001b[0m",
      "\u001b[1;31mAttributeError\u001b[0m                            Traceback (most recent call last)",
      "Cell \u001b[1;32mIn[39], line 2\u001b[0m\n\u001b[0;32m      1\u001b[0m records \u001b[38;5;241m=\u001b[39m []\n\u001b[1;32m----> 2\u001b[0m \u001b[38;5;28;01mfor\u001b[39;00m key, value \u001b[38;5;129;01min\u001b[39;00m \u001b[43mresponsedata\u001b[49m\u001b[38;5;241;43m.\u001b[39;49m\u001b[43mitems\u001b[49m():\n\u001b[0;32m      3\u001b[0m     \u001b[38;5;28;01mif\u001b[39;00m \u001b[38;5;28misinstance\u001b[39m(value, \u001b[38;5;28mlist\u001b[39m):  \u001b[38;5;66;03m# Check if the value is a list of dictionaries\u001b[39;00m\n\u001b[0;32m      4\u001b[0m         \u001b[38;5;28;01mfor\u001b[39;00m record \u001b[38;5;129;01min\u001b[39;00m value:\n",
      "\u001b[1;31mAttributeError\u001b[0m: 'list' object has no attribute 'items'"
     ]
    }
   ],
   "source": [
    "records = []\n",
    "for key, value in responsedata.items():\n",
    "    if isinstance(value, list):  # Check if the value is a list of dictionaries\n",
    "        for record in value:\n",
    "            if isinstance(record, dict):  # Ensure it's a dictionary\n",
    "                records.append(record)\n",
    "pd.DataFrame(records)"
   ]
  },
  {
   "cell_type": "code",
   "execution_count": null,
   "metadata": {},
   "outputs": [],
   "source": [
    "houses = []\n",
    "for record in responsedata['comparables']:\n",
    "    print(record)\n",
    "    houses.append(record)"
   ]
  },
  {
   "cell_type": "code",
   "execution_count": null,
   "metadata": {},
   "outputs": [],
   "source": [
    "houses[0].keys()"
   ]
  },
  {
   "cell_type": "code",
   "execution_count": null,
   "metadata": {},
   "outputs": [],
   "source": [
    "for house in houses:\n",
    "    print(house['formattedAddress'])"
   ]
  },
  {
   "cell_type": "code",
   "execution_count": null,
   "metadata": {},
   "outputs": [],
   "source": [
    "from datetime import datetime"
   ]
  },
  {
   "cell_type": "code",
   "execution_count": null,
   "metadata": {},
   "outputs": [],
   "source": [
    "\n",
    "original_df = pd.DataFrame(houses)\n",
    "x = original_df.drop(columns=['id', 'formattedAddress', 'addressLine1', 'addressLine2', 'county', 'latitude', 'longitude', 'distance', 'correlation', 'listingType','listedDate', 'lastSeenDate', 'daysOld', 'propertyType', 'city', 'state', 'zipCode'])\n",
    "\n",
    "# x['listedDate'] = x['listedDate'].strftime('%Y-%m-%d')\n",
    "x = x.dropna(subset=['removedDate'])\n",
    "x = x.drop(columns=['removedDate', 'daysOnMarket'])\n",
    "x"
   ]
  },
  {
   "cell_type": "code",
   "execution_count": null,
   "metadata": {},
   "outputs": [],
   "source": [
    "y = pd.DataFrame(original_df['daysOnMarket'])\n",
    "y"
   ]
  },
  {
   "cell_type": "code",
   "execution_count": null,
   "metadata": {},
   "outputs": [],
   "source": [
    "x.dtypes"
   ]
  },
  {
   "cell_type": "code",
   "execution_count": null,
   "metadata": {},
   "outputs": [],
   "source": []
  },
  {
   "cell_type": "code",
   "execution_count": null,
   "metadata": {},
   "outputs": [],
   "source": []
  },
  {
   "cell_type": "code",
   "execution_count": null,
   "metadata": {},
   "outputs": [],
   "source": []
  },
  {
   "cell_type": "code",
   "execution_count": null,
   "metadata": {},
   "outputs": [],
   "source": []
  },
  {
   "cell_type": "code",
   "execution_count": null,
   "metadata": {},
   "outputs": [],
   "source": []
  },
  {
   "cell_type": "code",
   "execution_count": null,
   "metadata": {},
   "outputs": [],
   "source": []
  },
  {
   "cell_type": "code",
   "execution_count": null,
   "metadata": {},
   "outputs": [],
   "source": []
  },
  {
   "cell_type": "code",
   "execution_count": null,
   "metadata": {},
   "outputs": [],
   "source": []
  },
  {
   "cell_type": "code",
   "execution_count": null,
   "metadata": {},
   "outputs": [],
   "source": []
  },
  {
   "cell_type": "code",
   "execution_count": null,
   "metadata": {},
   "outputs": [],
   "source": []
  }
 ],
 "metadata": {
  "kernelspec": {
   "display_name": "dev",
   "language": "python",
   "name": "python3"
  },
  "language_info": {
   "codemirror_mode": {
    "name": "ipython",
    "version": 3
   },
   "file_extension": ".py",
   "mimetype": "text/x-python",
   "name": "python",
   "nbconvert_exporter": "python",
   "pygments_lexer": "ipython3",
   "version": "3.10.14"
  }
 },
 "nbformat": 4,
 "nbformat_minor": 2
}
